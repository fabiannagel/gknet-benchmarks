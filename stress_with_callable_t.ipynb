{
 "cells": [
  {
   "cell_type": "code",
   "execution_count": 1,
   "metadata": {},
   "outputs": [],
   "source": [
    "import matplotlib.pyplot as plt\n",
    "import jax.numpy as np\n",
    "from jax_md.space import *\n",
    "from jax import grad\n",
    "from jax.config import config\n",
    "config.update(\"jax_enable_x64\", True)\n"
   ]
  },
  {
   "cell_type": "code",
   "execution_count": 85,
   "metadata": {},
   "outputs": [],
   "source": [
    "\n",
    "def _check_transform_shapes(T: Array, v: Array=None):\n",
    "  \"\"\"Check whether a transform and collection of vectors have valid shape.\"\"\"\n",
    "  if len(T.shape) != 2:\n",
    "    raise ValueError(\n",
    "        ('Transform has invalid rank.'\n",
    "         ' Found rank {}, expected rank 2.'.format(len(T.shape))))\n",
    "\n",
    "  if T.shape[0] != T.shape[1]:\n",
    "    raise ValueError('Found non-square transform.')\n",
    "\n",
    "  if v is not None and v.shape[-1] != T.shape[1]:\n",
    "    raise ValueError(\n",
    "        ('Transform and vectors have incommensurate spatial dimension. '\n",
    "         'Found {} and {} respectively.'.format(T.shape[1], v.shape[-1])))\n",
    "\n",
    "\n",
    "def _small_inverse(T: Array) -> Array:\n",
    "  \"\"\"Compute the inverse of a small matrix.\"\"\"\n",
    "  _check_transform_shapes(T)\n",
    "  dim = T.shape[0]\n",
    "  # TODO(schsam): Check whether matrices are singular. @ErrorChecking\n",
    "  return jnp.linalg.inv(T)\n",
    "\n",
    "# @custom_jvp\n",
    "def transform(T: Array, v: Array) -> Array:\n",
    "  \"\"\"Apply a linear transformation, T, to a collection of vectors, v.\n",
    "  Transform is written such that it acts as the identity during gradient\n",
    "  backpropagation.\n",
    "  Args:\n",
    "    T: Transformation; ndarray(shape=[spatial_dim, spatial_dim]).\n",
    "    v: Collection of vectors; ndarray(shape=[..., spatial_dim]).\n",
    "  Returns:\n",
    "    Transformed vectors; ndarray(shape=[..., spatial_dim]).\n",
    "  \"\"\"\n",
    "  _check_transform_shapes(T, v)\n",
    "  return jnp.dot(v, T)\n",
    "\n",
    "\n",
    "# @transform.defjvp\n",
    "# def transform_jvp(primals: Tuple[Array, Array],\n",
    "#                   tangents: Tuple[Array, Array]) -> Tuple[Array, Array]:\n",
    "#   T, v = primals\n",
    "#   dT, dv = tangents\n",
    "#   return transform(T, v), dv\n",
    "\n",
    "def periodic_general(T: Union[Array, Callable[..., Array]],\n",
    "                     wrapped: bool=True) -> Space:\n",
    "  \"\"\"Periodic boundary conditions on a parallelepiped.\n",
    "  This function defines a simulation on a parellelepiped formed by applying an\n",
    "  affine transformation to the unit hypercube [0, 1]^spatial_dimension.\n",
    "  When using periodic_general, particles positions should be stored in the unit\n",
    "  hypercube. To get real positions from the simulation you should call\n",
    "  R_sim = space.transform(T, R_unit_cube).\n",
    "  The affine transformation can feature time dependence (if T is a function\n",
    "  instead of a scalar). In this case the resulting space will also be time\n",
    "  dependent. This can be useful for simulating systems under mechanical strain.\n",
    "  Args:\n",
    "    T: An affine transformation.\n",
    "       Either:\n",
    "         1) An ndarray of shape [spatial_dim, spatial_dim].\n",
    "         2) A function that takes floating point times and produces ndarrays of\n",
    "            shape [spatial_dim, spatial_dim].\n",
    "    wrapped: A boolean specifying whether or not particle positions are\n",
    "      remapped back into the box after each step\n",
    "  Returns:\n",
    "    (displacement_fn, shift_fn) tuple.\n",
    "  \"\"\"\n",
    "  if callable(T):\n",
    "    def displacement(Ra: Array, Rb: Array, **kwargs) -> Array:\n",
    "      dR = periodic_displacement(f32(1.0), pairwise_displacement(Ra, Rb))\n",
    "      return transform(T(**kwargs), dR)\n",
    "    # Can we cache the inverse? @Optimization\n",
    "    if wrapped:\n",
    "      def shift(R: Array, dR: Array, **kwargs) -> Array:\n",
    "        return periodic_shift(f32(1.0),\n",
    "                              R,\n",
    "                              transform(_small_inverse(T(**kwargs)), dR))\n",
    "    else:\n",
    "      def shift(R: Array, dR: Array, **kwargs) -> Array:\n",
    "        return R + transform(_small_inverse(T(**kwargs)), dR)\n",
    "  else:\n",
    "    T_inv = _small_inverse(T)\n",
    "    def displacement(Ra: Array, Rb: Array, **unused_kwargs) -> Array:\n",
    "      dR = periodic_displacement(f32(1.0), pairwise_displacement(Ra, Rb))\n",
    "      return transform(T, dR)\n",
    "    if wrapped:\n",
    "      def shift(R: Array, dR: Array, **unused_kwargs) -> Array:\n",
    "        return periodic_shift(f32(1.0), R, transform(T_inv, dR))\n",
    "    else:\n",
    "      def shift(R: Array, dR: Array, **unused_kwargs) -> Array:\n",
    "        return R + transform(T_inv, dR)\n",
    "  return displacement, shift\n",
    "\n"
   ]
  },
  {
   "cell_type": "code",
   "execution_count": 86,
   "metadata": {},
   "outputs": [],
   "source": [
    "def get_T(basis):\n",
    "    \"\"\"Generate callable T(strain)\n",
    "    \n",
    "    We want to apply the strain transformation (1 + strain) to the\n",
    "    unit cell T. Since jax_md works in scaled coordinates\n",
    "    for periodic_general, this will automatically apply the\n",
    "    trafo to *all* coordinates.\n",
    "    \n",
    "    Here, we generate a callable T that has the keyword argument `strain`.\n",
    "    Note that we have to add a dummy `t` argument since jax_md internally\n",
    "    assumes that T is a function of time `t`\n",
    "    \"\"\"\n",
    "\n",
    "    def T(strain: Array = np.zeros((3, 3), dtype=np.double), t=0) -> Array:\n",
    "        strain_transformation = np.eye(N=3, M=3, dtype=np.double) + strain\n",
    "        return transform(strain_transformation, basis)\n",
    "\n",
    "    return T\n",
    "    "
   ]
  },
  {
   "cell_type": "code",
   "execution_count": 87,
   "metadata": {},
   "outputs": [],
   "source": [
    "basis = np.array([[1, 0, 0], [0, 2, 0], [0, 0, 1]], dtype=np.double)\n",
    "T = get_T(basis)\n",
    "\n",
    "disp, _ = periodic_general(T)"
   ]
  },
  {
   "cell_type": "code",
   "execution_count": 95,
   "metadata": {},
   "outputs": [
    {
     "name": "stdout",
     "output_type": "stream",
     "text": [
      "[-0.5 -1.  -0.5]\n",
      "[-0.25 -1.    0.25]\n"
     ]
    }
   ],
   "source": [
    "a = np.array([0, 0, 0], dtype=np.double)\n",
    "b = np.array([0.5, 0.5, 0.5], dtype=np.double)\n",
    "c = np.array([0.25, 0.5, 0.75], dtype=np.double)\n",
    "\n",
    "print(disp(a, b))\n",
    "print(disp(a, c))\n",
    "# => looks ok!"
   ]
  },
  {
   "cell_type": "code",
   "execution_count": 92,
   "metadata": {},
   "outputs": [
    {
     "name": "stdout",
     "output_type": "stream",
     "text": [
      "1046526.3297336849\n",
      "[[-6.28531190e+06  9.65706447e-01  6.28531286e+06]\n",
      " [ 9.65706447e-01 -4.13169979e+00  9.65706447e-01]\n",
      " [ 6.28531286e+06  9.65706447e-01 -6.28531190e+06]]\n"
     ]
    }
   ],
   "source": [
    "from jax_md import energy\n",
    "from functools import partial\n",
    "\n",
    "lj = energy.lennard_jones_pair(disp)\n",
    "\n",
    "def my_lj(R: Array, strain: Array) -> Array:\n",
    "    \"\"\"LJ with TWO arguments: coordinates and strain\n",
    "    \n",
    "    `jax.grad` doesn't work with keyword args, so we wrap it.\n",
    "    \"\"\"\n",
    "    return lj(R, strain=strain)\n",
    "\n",
    "R = np.array([a, b, c])\n",
    "strain = np.zeros((3, 3), dtype=np.double) \n",
    "\n",
    "print(my_lj(R, strain))\n",
    "stress = grad(my_lj, argnums=1)\n",
    "print(stress(R, strain))"
   ]
  },
  {
   "cell_type": "code",
   "execution_count": 93,
   "metadata": {},
   "outputs": [
    {
     "data": {
      "text/plain": [
       "(DeviceArray(1046526.32973368, dtype=float64),\n",
       " (DeviceArray([[ 1.51577817e+00,  0.00000000e+00, -1.51577817e+00],\n",
       "               [-2.51412480e+07,  0.00000000e+00,  2.51412480e+07],\n",
       "               [ 2.51412465e+07,  0.00000000e+00, -2.51412465e+07]],            dtype=float64),\n",
       "  DeviceArray([[-6.28531190e+06,  9.65706447e-01,  6.28531286e+06],\n",
       "               [ 9.65706447e-01, -4.13169979e+00,  9.65706447e-01],\n",
       "               [ 6.28531286e+06,  9.65706447e-01, -6.28531190e+06]],            dtype=float64)))"
      ]
     },
     "execution_count": 93,
     "metadata": {},
     "output_type": "execute_result"
    }
   ],
   "source": [
    "from jax import value_and_grad\n",
    "energy_and_forces_and_stress = value_and_grad(my_lj, argnums=(0, 1)) \n",
    "energy_and_forces_and_stress(R, strain)"
   ]
  },
  {
   "cell_type": "code",
   "execution_count": null,
   "metadata": {},
   "outputs": [],
   "source": []
  },
  {
   "cell_type": "code",
   "execution_count": null,
   "metadata": {},
   "outputs": [],
   "source": []
  },
  {
   "cell_type": "code",
   "execution_count": null,
   "metadata": {},
   "outputs": [],
   "source": []
  }
 ],
 "metadata": {
  "kernelspec": {
   "display_name": "gknet",
   "language": "python",
   "name": "gknet"
  },
  "language_info": {
   "codemirror_mode": {
    "name": "ipython",
    "version": 3
   },
   "file_extension": ".py",
   "mimetype": "text/x-python",
   "name": "python",
   "nbconvert_exporter": "python",
   "pygments_lexer": "ipython3",
   "version": "3.7.2"
  }
 },
 "nbformat": 4,
 "nbformat_minor": 2
}
