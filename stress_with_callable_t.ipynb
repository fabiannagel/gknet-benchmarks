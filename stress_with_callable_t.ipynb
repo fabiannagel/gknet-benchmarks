{
 "cells": [
  {
   "cell_type": "code",
   "execution_count": 2,
   "metadata": {},
   "outputs": [],
   "source": [
    "import matplotlib.pyplot as plt\n",
    "import jax.numpy as np\n",
    "from jax_md.space import *\n",
    "from jax import grad, jit\n",
    "from jax.config import config\n",
    "config.update(\"jax_enable_x64\", True)\n",
    "\n",
    "from jax_md.space import DisplacementOrMetricFn, Array\n",
    "from jax_md import smap, space\n",
    "from jax_md.energy import multiplicative_isotropic_cutoff, lennard_jones\n",
    "\n",
    "from typing import Callable"
   ]
  },
  {
   "cell_type": "code",
   "execution_count": 24,
   "metadata": {},
   "outputs": [],
   "source": [
    "\n",
    "def _check_transform_shapes(T: Array, v: Array=None):\n",
    "  \"\"\"Check whether a transform and collection of vectors have valid shape.\"\"\"\n",
    "  if len(T.shape) != 2:\n",
    "    raise ValueError(\n",
    "        ('Transform has invalid rank.'\n",
    "         ' Found rank {}, expected rank 2.'.format(len(T.shape))))\n",
    "\n",
    "  if T.shape[0] != T.shape[1]:\n",
    "    raise ValueError('Found non-square transform.')\n",
    "\n",
    "  if v is not None and v.shape[-1] != T.shape[1]:\n",
    "    raise ValueError(\n",
    "        ('Transform and vectors have incommensurate spatial dimension. '\n",
    "         'Found {} and {} respectively.'.format(T.shape[1], v.shape[-1])))\n",
    "\n",
    "\n",
    "def _small_inverse(T: Array) -> Array:\n",
    "  \"\"\"Compute the inverse of a small matrix.\"\"\"\n",
    "  _check_transform_shapes(T)\n",
    "  dim = T.shape[0]\n",
    "  # TODO(schsam): Check whether matrices are singular. @ErrorChecking\n",
    "  return jnp.linalg.inv(T)\n",
    "\n",
    "# @custom_jvp\n",
    "def transform(T: Array, v: Array) -> Array:\n",
    "  \"\"\"Apply a linear transformation, T, to a collection of vectors, v.\n",
    "  Transform is written such that it acts as the identity during gradient\n",
    "  backpropagation.\n",
    "  Args:\n",
    "    T: Transformation; ndarray(shape=[spatial_dim, spatial_dim]).\n",
    "    v: Collection of vectors; ndarray(shape=[..., spatial_dim]).\n",
    "  Returns:\n",
    "    Transformed vectors; ndarray(shape=[..., spatial_dim]).\n",
    "  \"\"\"\n",
    "  _check_transform_shapes(T, v)\n",
    "  return jnp.dot(v, T)\n",
    "\n",
    "\n",
    "# @transform.defjvp\n",
    "#def transform_jvp(primals: Tuple[Array, Array],\n",
    "#                   tangents: Tuple[Array, Array]) -> Tuple[Array, Array]:\n",
    "#  T, v = primals\n",
    "#  dT, dv = tangents\n",
    "#  return transform(T, v), dv\n",
    "\n",
    "def periodic_general(T: Union[Array, Callable[..., Array]],\n",
    "                     wrapped: bool=True) -> Space:\n",
    "  \"\"\"Periodic boundary conditions on a parallelepiped.\n",
    "  This function defines a simulation on a parellelepiped formed by applying an\n",
    "  affine transformation to the unit hypercube [0, 1]^spatial_dimension.\n",
    "  When using periodic_general, particles positions should be stored in the unit\n",
    "  hypercube. To get real positions from the simulation you should call\n",
    "  R_sim = space.transform(T, R_unit_cube).\n",
    "  The affine transformation can feature time dependence (if T is a function\n",
    "  instead of a scalar). In this case the resulting space will also be time\n",
    "  dependent. This can be useful for simulating systems under mechanical strain.\n",
    "  Args:\n",
    "    T: An affine transformation.\n",
    "       Either:\n",
    "         1) An ndarray of shape [spatial_dim, spatial_dim].\n",
    "         2) A function that takes floating point times and produces ndarrays of\n",
    "            shape [spatial_dim, spatial_dim].\n",
    "    wrapped: A boolean specifying whether or not particle positions are\n",
    "      remapped back into the box after each step\n",
    "  Returns:\n",
    "    (displacement_fn, shift_fn) tuple.\n",
    "  \"\"\"\n",
    "  if callable(T):\n",
    "    def displacement(Ra: Array, Rb: Array, **kwargs) -> Array:\n",
    "      print(\"Tracing displacement (callable)\")\n",
    "      dR = periodic_displacement(f32(1.0), pairwise_displacement(Ra, Rb))\n",
    "      return transform(T(**kwargs), dR)\n",
    "    # Can we cache the inverse? @Optimization\n",
    "    if wrapped:\n",
    "      def shift(R: Array, dR: Array, **kwargs) -> Array:\n",
    "        return periodic_shift(f32(1.0),\n",
    "                              R,\n",
    "                              transform(_small_inverse(T(**kwargs)), dR))\n",
    "    else:\n",
    "      def shift(R: Array, dR: Array, **kwargs) -> Array:\n",
    "        return R + transform(_small_inverse(T(**kwargs)), dR)\n",
    "  else:\n",
    "    print(\"Tracing displacement (no callable)\")\n",
    "    T_inv = _small_inverse(T)\n",
    "    def displacement(Ra: Array, Rb: Array, **unused_kwargs) -> Array:\n",
    "      dR = periodic_displacement(f32(1.0), pairwise_displacement(Ra, Rb))\n",
    "      return transform(T, dR)\n",
    "    if wrapped:\n",
    "      def shift(R: Array, dR: Array, **unused_kwargs) -> Array:\n",
    "        return periodic_shift(f32(1.0), R, transform(T_inv, dR))\n",
    "    else:\n",
    "      def shift(R: Array, dR: Array, **unused_kwargs) -> Array:\n",
    "        return R + transform(T_inv, dR)\n",
    "  return displacement, shift\n",
    "\n"
   ]
  },
  {
   "cell_type": "code",
   "execution_count": 28,
   "metadata": {},
   "outputs": [],
   "source": [
    "def get_T():\n",
    "    \"\"\"Generate callable T(strain)\n",
    "    \n",
    "    We want to apply the strain transformation (1 + strain) to the\n",
    "    unit cell T. Since jax_md works in scaled coordinates\n",
    "    for periodic_general, this will automatically apply the\n",
    "    trafo to *all* coordinates.\n",
    "    \n",
    "    Here, we generate a callable T that has the keyword argument `strain`.\n",
    "    Note that we have to add a dummy `t` argument since jax_md internally\n",
    "    assumes that T is a function of time `t`\n",
    "    \"\"\"\n",
    "    # def T(strain: Array = np.zeros((3, 3), dtype=np.double), t=0) -> Array:\n",
    "    def T() -> Array:\n",
    "        print(\"Tracing T\")\n",
    "        basis = np.array([[1, 0, 0], [0, 2, 0], [0, 0, 1]], dtype=np.double)\n",
    "        strain = np.zeros((3, 3), dtype=np.double) \n",
    "        strain_transformation = np.eye(N=3, M=3, dtype=np.double) + strain\n",
    "        return transform(strain_transformation, basis)\n",
    "\n",
    "    return T\n",
    "    "
   ]
  },
  {
   "cell_type": "markdown",
   "metadata": {},
   "source": [
    "### Define a transformed displacement - no JIT\n",
    "\n",
    "**Both** `displacement_fn` and `T` can be correctly traced on every execution."
   ]
  },
  {
   "cell_type": "code",
   "execution_count": 25,
   "metadata": {
    "scrolled": true
   },
   "outputs": [
    {
     "name": "stdout",
     "output_type": "stream",
     "text": [
      "Tracing displacement (callable)\n",
      "Tracing T\n",
      "[-0.5 -1.  -0.5]\n",
      "\n",
      "Tracing displacement (callable)\n",
      "Tracing T\n",
      "[-0.5 -1.  -0.5]\n",
      "\n",
      "Tracing displacement (callable)\n",
      "Tracing T\n",
      "CPU times: user 6.59 ms, sys: 2.39 ms, total: 8.98 ms\n",
      "Wall time: 4.86 ms\n",
      "\n",
      "Tracing displacement (callable)\n",
      "Tracing T\n",
      "CPU times: user 8.07 ms, sys: 25 µs, total: 8.1 ms\n",
      "Wall time: 4.69 ms\n",
      "\n"
     ]
    }
   ],
   "source": [
    "basis = np.array([[1, 0, 0], [0, 2, 0], [0, 0, 1]], dtype=np.double)\n",
    "T = get_T(basis)\n",
    "\n",
    "displacement_fn, _ = periodic_general(T)\n",
    "\n",
    "a = np.array([0, 0, 0], dtype=np.double)\n",
    "b = np.array([0.5, 0.5, 0.5], dtype=np.double)\n",
    "c = np.array([0.25, 0.5, 0.75], dtype=np.double)\n",
    "\n",
    "print(displacement_fn(a, b))\n",
    "print()\n",
    "\n",
    "print(displacement_fn(a, b))\n",
    "print()\n",
    "\n",
    "# first run - 20 ms.\n",
    "%time displacement_fn(a, b).block_until_ready()\n",
    "print()\n",
    "\n",
    "# second run - 6 ms.\n",
    "%time displacement_fn(a, c).block_until_ready()\n",
    "print()\n",
    "\n",
    "# print(displacement_fn(a, b))\n",
    "# print(displacement_fn(a, c))\n",
    "# => looks ok!"
   ]
  },
  {
   "cell_type": "markdown",
   "metadata": {},
   "source": [
    "Looks like the non-jitted function!"
   ]
  },
  {
   "cell_type": "code",
   "execution_count": 38,
   "metadata": {
    "scrolled": true
   },
   "outputs": [
    {
     "name": "stdout",
     "output_type": "stream",
     "text": [
      "<function periodic_general.<locals>.displacement at 0x7fa38bddfdc0>\n",
      "Tracing T\n"
     ]
    },
    {
     "data": {
      "text/plain": [
       "DeviceArray([[1., 0., 0.],\n",
       "             [0., 2., 0.],\n",
       "             [0., 0., 1.]], dtype=float64)"
      ]
     },
     "execution_count": 38,
     "metadata": {},
     "output_type": "execute_result"
    }
   ],
   "source": [
    "print(displacement_fn)\n",
    "\n",
    "T()"
   ]
  },
  {
   "cell_type": "markdown",
   "metadata": {},
   "source": [
    "### Define a transformed displacement - jitted\n",
    "\n",
    "`displacement_fn` and `T` are jitted on the first run, with a significant speedup on following calls. Tracer prints are correctly removed once jitted."
   ]
  },
  {
   "cell_type": "code",
   "execution_count": 39,
   "metadata": {
    "scrolled": true
   },
   "outputs": [
    {
     "name": "stdout",
     "output_type": "stream",
     "text": [
      "Tracing displacement (callable)\n",
      "Tracing displacement (callable)\n",
      "Tracing displacement (callable)\n"
     ]
    },
    {
     "ename": "ValueError",
     "evalue": "Canonicalize displacement not implemented for spatial dimension largerthan 4.",
     "output_type": "error",
     "traceback": [
      "\u001b[0;31m---------------------------------------------------------------------------\u001b[0m",
      "\u001b[0;31mValueError\u001b[0m                                Traceback (most recent call last)",
      "\u001b[0;32m<ipython-input-39-1d7a4fad6107>\u001b[0m in \u001b[0;36m<module>\u001b[0;34m\u001b[0m\n\u001b[1;32m     28\u001b[0m \u001b[0mT\u001b[0m \u001b[0;34m=\u001b[0m \u001b[0mget_T\u001b[0m\u001b[0;34m(\u001b[0m\u001b[0;34m)\u001b[0m\u001b[0;34m\u001b[0m\u001b[0;34m\u001b[0m\u001b[0m\n\u001b[1;32m     29\u001b[0m \u001b[0mdisplacement_fn\u001b[0m\u001b[0;34m,\u001b[0m \u001b[0m_\u001b[0m \u001b[0;34m=\u001b[0m \u001b[0mperiodic_general\u001b[0m\u001b[0;34m(\u001b[0m\u001b[0mT\u001b[0m\u001b[0;34m)\u001b[0m\u001b[0;34m\u001b[0m\u001b[0;34m\u001b[0m\u001b[0m\n\u001b[0;32m---> 30\u001b[0;31m \u001b[0mcanonicalize_displacement_or_metric\u001b[0m\u001b[0;34m(\u001b[0m\u001b[0mdisplacement_fn\u001b[0m\u001b[0;34m)\u001b[0m\u001b[0;34m\u001b[0m\u001b[0;34m\u001b[0m\u001b[0m\n\u001b[0m\u001b[1;32m     31\u001b[0m \u001b[0;34m\u001b[0m\u001b[0m\n\u001b[1;32m     32\u001b[0m \u001b[0;31m# displacement_fn, _ = periodic_general(basis)\u001b[0m\u001b[0;34m\u001b[0m\u001b[0;34m\u001b[0m\u001b[0;34m\u001b[0m\u001b[0m\n",
      "\u001b[0;32m<ipython-input-39-1d7a4fad6107>\u001b[0m in \u001b[0;36mcanonicalize_displacement_or_metric\u001b[0;34m(displacement_or_metric)\u001b[0m\n\u001b[1;32m     19\u001b[0m     \u001b[0;32mexcept\u001b[0m \u001b[0mValueError\u001b[0m\u001b[0;34m:\u001b[0m\u001b[0;34m\u001b[0m\u001b[0;34m\u001b[0m\u001b[0m\n\u001b[1;32m     20\u001b[0m       \u001b[0;32mcontinue\u001b[0m\u001b[0;34m\u001b[0m\u001b[0;34m\u001b[0m\u001b[0m\n\u001b[0;32m---> 21\u001b[0;31m   raise ValueError(\n\u001b[0m\u001b[1;32m     22\u001b[0m     \u001b[0;34m'Canonicalize displacement not implemented for spatial dimension larger'\u001b[0m\u001b[0;34m\u001b[0m\u001b[0;34m\u001b[0m\u001b[0m\n\u001b[1;32m     23\u001b[0m     'than 4.')\n",
      "\u001b[0;31mValueError\u001b[0m: Canonicalize displacement not implemented for spatial dimension largerthan 4."
     ]
    }
   ],
   "source": [
    "# basis = np.array([[1, 0, 0], [0, 2, 0], [0, 0, 1]], dtype=np.double)\n",
    "# T = jit(get_T(basis))\n",
    "# T = get_T(basis)\n",
    "\n",
    "def canonicalize_displacement_or_metric(displacement_or_metric):\n",
    "  \"\"\"Checks whether or not a displacement or metric was provided.\"\"\"\n",
    "  for dim in range(1, 4):\n",
    "    try:\n",
    "      R = ShapedArray((dim,), f32)\n",
    "      dR_or_dr = eval_shape(displacement_or_metric, R, R, t=0)\n",
    "      print(\"loop \" + str(dim))  \n",
    "        \n",
    "      if len(dR_or_dr.shape) == 0:\n",
    "        return displacement_or_metric\n",
    "      else:\n",
    "        return metric(displacement_or_metric)\n",
    "    except TypeError:\n",
    "      continue\n",
    "    except ValueError:\n",
    "      continue\n",
    "  raise ValueError(\n",
    "    'Canonicalize displacement not implemented for spatial dimension larger'\n",
    "    'than 4.')\n",
    "\n",
    "\n",
    "\n",
    "\n",
    "T = get_T()\n",
    "displacement_fn, _ = periodic_general(T)\n",
    "canonicalize_displacement_or_metric(displacement_fn)\n",
    "\n",
    "# displacement_fn, _ = periodic_general(basis)\n",
    "displacement_fn = jit(displacement_fn)\n",
    "\n",
    "a = np.array([0, 0, 0], dtype=np.double)\n",
    "b = np.array([0.5, 0.5, 0.5], dtype=np.double)\n",
    "c = np.array([0.25, 0.5, 0.75], dtype=np.double)\n",
    "\n",
    "\n",
    "# first run - jit overhead. 82 ms.\n",
    "%time displacement_fn(a, b).block_until_ready()\n",
    "print()\n",
    "\n",
    "# second run - jitted function, different args (prevent caching). 1 ms, max.\n",
    "%time displacement_fn(a, c).block_until_ready()\n",
    "print()\n",
    "\n",
    "# print(displacement_fn(a, b))\n",
    "# print(displacement_fn(a, c))\n",
    "# => looks ok!"
   ]
  },
  {
   "cell_type": "markdown",
   "metadata": {},
   "source": [
    "Looks like a jitted function!"
   ]
  },
  {
   "cell_type": "code",
   "execution_count": 30,
   "metadata": {
    "scrolled": false
   },
   "outputs": [
    {
     "name": "stdout",
     "output_type": "stream",
     "text": [
      "<function api_boundary.<locals>.reraise_with_filtered_traceback at 0x7fa38be0e8b0>\n"
     ]
    }
   ],
   "source": [
    "print(displacement_fn)"
   ]
  },
  {
   "cell_type": "markdown",
   "metadata": {},
   "source": [
    "## Jitted displacement and energy_fn\n",
    "\n",
    "In the previous cell, we evaluate `displacement_fn` multiple times and, as expected, only saw the tracer on the first call.\n",
    "\n",
    "Here, however, both `T` and the `displacement_fn` are traced on every execution, although we passed the jitted version to `lennard_jones_pair()`."
   ]
  },
  {
   "cell_type": "code",
   "execution_count": 33,
   "metadata": {
    "scrolled": true
   },
   "outputs": [
    {
     "name": "stdout",
     "output_type": "stream",
     "text": [
      "Tracing lennard_jones_pair\n",
      "Tracing displacement (callable)\n",
      "Tracing displacement (callable)\n",
      "Tracing displacement (callable)\n"
     ]
    },
    {
     "ename": "ValueError",
     "evalue": "Canonicalize displacement not implemented for spatial dimension largerthan 4.",
     "output_type": "error",
     "traceback": [
      "\u001b[0;31m---------------------------------------------------------------------------\u001b[0m",
      "\u001b[0;31mValueError\u001b[0m                                Traceback (most recent call last)",
      "\u001b[0;32m<ipython-input-33-72cd9a2173fe>\u001b[0m in \u001b[0;36m<module>\u001b[0;34m\u001b[0m\n\u001b[1;32m     24\u001b[0m \u001b[0;34m\u001b[0m\u001b[0m\n\u001b[1;32m     25\u001b[0m \u001b[0;34m\u001b[0m\u001b[0m\n\u001b[0;32m---> 26\u001b[0;31m \u001b[0mlj\u001b[0m \u001b[0;34m=\u001b[0m \u001b[0mlennard_jones_pair\u001b[0m\u001b[0;34m(\u001b[0m\u001b[0mdisplacement_fn\u001b[0m\u001b[0;34m)\u001b[0m\u001b[0;34m\u001b[0m\u001b[0;34m\u001b[0m\u001b[0m\n\u001b[0m\u001b[1;32m     27\u001b[0m \u001b[0;34m\u001b[0m\u001b[0m\n\u001b[1;32m     28\u001b[0m \u001b[0;32mdef\u001b[0m \u001b[0menergy_fn\u001b[0m\u001b[0;34m(\u001b[0m\u001b[0mR\u001b[0m\u001b[0;34m:\u001b[0m \u001b[0mArray\u001b[0m\u001b[0;34m,\u001b[0m \u001b[0mstrain\u001b[0m\u001b[0;34m:\u001b[0m \u001b[0mArray\u001b[0m\u001b[0;34m)\u001b[0m \u001b[0;34m->\u001b[0m \u001b[0mArray\u001b[0m\u001b[0;34m:\u001b[0m\u001b[0;34m\u001b[0m\u001b[0;34m\u001b[0m\u001b[0m\n",
      "\u001b[0;32m<ipython-input-33-72cd9a2173fe>\u001b[0m in \u001b[0;36mlennard_jones_pair\u001b[0;34m(displacement_or_metric, species, sigma, epsilon, r_onset, r_cutoff, per_particle)\u001b[0m\n\u001b[1;32m     17\u001b[0m   return smap.pair(\n\u001b[1;32m     18\u001b[0m     \u001b[0mmultiplicative_isotropic_cutoff\u001b[0m\u001b[0;34m(\u001b[0m\u001b[0mlennard_jones\u001b[0m\u001b[0;34m,\u001b[0m \u001b[0mr_onset\u001b[0m\u001b[0;34m,\u001b[0m \u001b[0mr_cutoff\u001b[0m\u001b[0;34m)\u001b[0m\u001b[0;34m,\u001b[0m\u001b[0;34m\u001b[0m\u001b[0;34m\u001b[0m\u001b[0m\n\u001b[0;32m---> 19\u001b[0;31m     \u001b[0mspace\u001b[0m\u001b[0;34m.\u001b[0m\u001b[0mcanonicalize_displacement_or_metric\u001b[0m\u001b[0;34m(\u001b[0m\u001b[0mdisplacement_or_metric\u001b[0m\u001b[0;34m)\u001b[0m\u001b[0;34m,\u001b[0m\u001b[0;34m\u001b[0m\u001b[0;34m\u001b[0m\u001b[0m\n\u001b[0m\u001b[1;32m     20\u001b[0m     \u001b[0mspecies\u001b[0m\u001b[0;34m=\u001b[0m\u001b[0mspecies\u001b[0m\u001b[0;34m,\u001b[0m\u001b[0;34m\u001b[0m\u001b[0;34m\u001b[0m\u001b[0m\n\u001b[1;32m     21\u001b[0m     \u001b[0msigma\u001b[0m\u001b[0;34m=\u001b[0m\u001b[0msigma\u001b[0m\u001b[0;34m,\u001b[0m\u001b[0;34m\u001b[0m\u001b[0;34m\u001b[0m\u001b[0m\n",
      "\u001b[0;32m~/Workspace/.conda/envs/gknet-benchmarks/lib/python3.9/site-packages/jax_md/space.py\u001b[0m in \u001b[0;36mcanonicalize_displacement_or_metric\u001b[0;34m(displacement_or_metric)\u001b[0m\n\u001b[1;32m    302\u001b[0m     \u001b[0;32mexcept\u001b[0m \u001b[0mValueError\u001b[0m\u001b[0;34m:\u001b[0m\u001b[0;34m\u001b[0m\u001b[0;34m\u001b[0m\u001b[0m\n\u001b[1;32m    303\u001b[0m       \u001b[0;32mcontinue\u001b[0m\u001b[0;34m\u001b[0m\u001b[0;34m\u001b[0m\u001b[0m\n\u001b[0;32m--> 304\u001b[0;31m   raise ValueError(\n\u001b[0m\u001b[1;32m    305\u001b[0m     \u001b[0;34m'Canonicalize displacement not implemented for spatial dimension larger'\u001b[0m\u001b[0;34m\u001b[0m\u001b[0;34m\u001b[0m\u001b[0m\n\u001b[1;32m    306\u001b[0m     'than 4.')\n",
      "\u001b[0;31mValueError\u001b[0m: Canonicalize displacement not implemented for spatial dimension largerthan 4."
     ]
    }
   ],
   "source": [
    "# default lj function, no changes\n",
    "def lennard_jones_pair(displacement_or_metric: DisplacementOrMetricFn,\n",
    "                       species: Array=None,\n",
    "                       sigma: Array=1.0,\n",
    "                       epsilon: Array=1.0,\n",
    "                       r_onset: Array=2.0,\n",
    "                       r_cutoff: Array=2.5,\n",
    "                       per_particle: bool=False) -> Callable[[Array], Array]:\n",
    "  \"\"\"Convenience wrapper to compute Lennard-Jones energy over a system.\"\"\"\n",
    "  \n",
    "  print(\"Tracing lennard_jones_pair\")\n",
    "\n",
    "  sigma = np.array(sigma, dtype=f32)  \n",
    "  epsilon = np.array(epsilon, dtype=f32)\n",
    "  r_onset = r_onset * np.max(sigma)\n",
    "  r_cutoff = r_cutoff * np.max(sigma)\n",
    "  return smap.pair(\n",
    "    multiplicative_isotropic_cutoff(lennard_jones, r_onset, r_cutoff),\n",
    "    space.canonicalize_displacement_or_metric(displacement_or_metric),\n",
    "    species=species,\n",
    "    sigma=sigma,\n",
    "    epsilon=epsilon,\n",
    "    reduce_axis=(1,) if per_particle else None)\n",
    "\n",
    "\n",
    "lj = lennard_jones_pair(displacement_fn)\n",
    "\n",
    "def energy_fn(R: Array, strain: Array) -> Array:\n",
    "    print(\"Tracing energy_fn\")\n",
    "    \"\"\"LJ with TWO arguments: coordinates and strain\n",
    "    \n",
    "    `jax.grad` doesn't work with keyword args, so we wrap it.\n",
    "    \"\"\"\n",
    "    return jit(lj(R, strain=strain))\n",
    "    # return jit(energy.lennard_jones_pair(displacement_fn)(R, strain=strain))\n",
    "\n",
    "R = np.array([a, b, c])\n",
    "strain = np.zeros((3, 3), dtype=np.double) "
   ]
  },
  {
   "cell_type": "markdown",
   "metadata": {},
   "source": [
    "`displacement_fn` **still** looks like a jitted function! How are the tracers suddenly back in place? "
   ]
  },
  {
   "cell_type": "code",
   "execution_count": 22,
   "metadata": {
    "scrolled": true
   },
   "outputs": [
    {
     "name": "stdout",
     "output_type": "stream",
     "text": [
      "<function api_boundary.<locals>.reraise_with_filtered_traceback at 0x7fa38bff1550>\n"
     ]
    }
   ],
   "source": [
    "print(displacement_fn)"
   ]
  },
  {
   "cell_type": "code",
   "execution_count": null,
   "metadata": {},
   "outputs": [],
   "source": []
  }
 ],
 "metadata": {
  "kernelspec": {
   "display_name": "gknet-benchmarks",
   "language": "python",
   "name": "gknet-benchmarks"
  },
  "language_info": {
   "codemirror_mode": {
    "name": "ipython",
    "version": 3
   },
   "file_extension": ".py",
   "mimetype": "text/x-python",
   "name": "python",
   "nbconvert_exporter": "python",
   "pygments_lexer": "ipython3",
   "version": "3.9.1"
  }
 },
 "nbformat": 4,
 "nbformat_minor": 2
}
