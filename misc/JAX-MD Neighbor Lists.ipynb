{
 "cells": [
  {
   "cell_type": "code",
   "execution_count": 1,
   "id": "amino-mobile",
   "metadata": {},
   "outputs": [],
   "source": [
    "import jax.numpy as jnp\n",
    "from jax import jit, grad, jacfwd, random, ops\n",
    "from jax import numpy as jnp\n",
    "from jax_md import space, energy, quantity, simulate, partition\n",
    "from jax.config import config\n",
    "config.update(\"jax_enable_x64\", True)\n",
    "\n",
    "from ase import Atoms\n",
    "from ase.build import bulk\n",
    "from ase.calculators.lj import LennardJones\n",
    "import numpy as np"
   ]
  },
  {
   "cell_type": "code",
   "execution_count": 2,
   "id": "frequent-tissue",
   "metadata": {},
   "outputs": [],
   "source": [
    "atoms = bulk('Ar', cubic=True) * [2, 2, 2]\n",
    "\n",
    "R_real = atoms.get_positions()\n",
    "max_box_length = np.max([np.linalg.norm(uv) for uv in atoms.get_cell().array])\n",
    "\n",
    "sigma = 2.0\n",
    "epsilon = 1.5\n",
    "r_cutoff = 0.4 * max_box_length\n",
    "r_onset = 0.9 * r_cutoff\n",
    "\n",
    "atoms.calc = LennardJones(sigma=sigma, epsilon=epsilon, rc=r_cutoff, ro=r_onset, smooth=True)"
   ]
  },
  {
   "cell_type": "code",
   "execution_count": 3,
   "id": "neither-bennett",
   "metadata": {},
   "outputs": [
    {
     "data": {
      "text/plain": [
       "-27.175665458230192"
      ]
     },
     "execution_count": 3,
     "metadata": {},
     "output_type": "execute_result"
    }
   ],
   "source": [
    "atoms.get_potential_energy() "
   ]
  },
  {
   "cell_type": "code",
   "execution_count": 4,
   "id": "green-quality",
   "metadata": {},
   "outputs": [],
   "source": [
    "from periodic_general import periodic_general as new_periodic_general\n",
    "from periodic_general import inverse as new_inverse\n",
    "from periodic_general import transform as new_transform\n",
    "\n",
    "# what asax.utils.get_displacement() does, only with functions from the new periodic_general()\n",
    "def new_get_displacement(atoms):\n",
    "    cell = atoms.get_cell().array\n",
    "    inverse_cell = new_inverse(cell)\n",
    "\n",
    "    displacement_in_scaled_coordinates, shift_in_scaled_coordinates = new_periodic_general(cell)\n",
    "\n",
    "    # **kwargs are now used to feed through the box information\n",
    "    @jit\n",
    "    def displacement(Ra: space.Array, Rb: space.Array, **kwargs) -> space.Array:\n",
    "        Ra_scaled = new_transform(inverse_cell, Ra)\n",
    "        Rb_scaled = new_transform(inverse_cell, Rb)\n",
    "        return displacement_in_scaled_coordinates(Ra_scaled, Rb_scaled, **kwargs)\n",
    "    \n",
    "    #@jit\n",
    "    #def shift(R: space.Array, dR: space.Array, **kwargs) -> space.Array:\n",
    "    #    R_scaled = new_transform(inverse_cell, R)\n",
    "    #    # dR is an output of displacement and should be already in real coordinates\n",
    "    #    return shfit_in_scaled_coordinates(R_scaled, dR, **kwargs)\n",
    "\n",
    "    return jit(displacement), shift_in_scaled_coordinates"
   ]
  },
  {
   "cell_type": "code",
   "execution_count": 5,
   "id": "electoral-bachelor",
   "metadata": {
    "scrolled": true
   },
   "outputs": [],
   "source": [
    "# without this, we get a strange index–out–of-bounds error\n",
    "R_real = jnp.array(atoms.get_positions())\n",
    "displacement_fn, _ = new_get_displacement(atoms)\n",
    "neighbor_fn, energy_fn = energy.lennard_jones_neighbor_list(displacement_fn, max_box_length, sigma=sigma, epsilon=epsilon, r_onset=r_onset/sigma, r_cutoff=r_cutoff/sigma, per_particle=True)\n",
    "\n",
    "energy_fn = jit(energy_fn)\n",
    "nbrs = neighbor_fn(R_real)"
   ]
  },
  {
   "cell_type": "code",
   "execution_count": 10,
   "id": "recent-jacket",
   "metadata": {
    "scrolled": true
   },
   "outputs": [
    {
     "name": "stdout",
     "output_type": "stream",
     "text": [
      "172 µs ± 265 ns per loop (mean ± std. dev. of 7 runs, 10000 loops each)\n"
     ]
    }
   ],
   "source": [
    "%timeit energy_fn(R_real, neighbor=nbrs)"
   ]
  },
  {
   "cell_type": "code",
   "execution_count": 11,
   "id": "solid-period",
   "metadata": {},
   "outputs": [
    {
     "name": "stdout",
     "output_type": "stream",
     "text": [
      "177 µs ± 376 ns per loop (mean ± std. dev. of 7 runs, 10000 loops each)\n"
     ]
    }
   ],
   "source": [
    "total_energy_fn = lambda R, *args, **kwargs: jnp.sum(energy_fn(R, *args, **kwargs))\n",
    "\n",
    "if True: total_energy_fn = jit(total_energy_fn)\n",
    "\n",
    "%timeit total_energy_fn(R_real, neighbor=nbrs)"
   ]
  },
  {
   "cell_type": "code",
   "execution_count": 9,
   "id": "involved-museum",
   "metadata": {
    "scrolled": false
   },
   "outputs": [
    {
     "name": "stdout",
     "output_type": "stream",
     "text": [
      "258 µs ± 91.1 µs per loop (mean ± std. dev. of 7 runs, 1 loop each)\n"
     ]
    }
   ],
   "source": [
    "force_fn = quantity.force(total_energy_fn)\n",
    "force_fn = jit(force_fn)\n",
    "%timeit force_fn(R_real, neighbor=nbrs)\n",
    "# 273 µs ± 95.7 µs per loop (mean ± std. dev. of 7 runs, 1 loop each)"
   ]
  },
  {
   "cell_type": "code",
   "execution_count": 7,
   "id": "identified-worth",
   "metadata": {},
   "outputs": [],
   "source": [
    "@jit\n",
    "def compute_properties(R: space.Array):\n",
    "    total_energy_fn = jit(lambda R, *args, **kwargs: jnp.sum(energy_fn(R, *args, **kwargs)))\n",
    "    force_fn = jit(quantity.force(total_energy_fn))\n",
    "    \n",
    "    return total_energy_fn(R, neighbor=nbrs), energy_fn(R, neighbor=nbrs), force_fn(R, neighbor=nbrs)"
   ]
  },
  {
   "cell_type": "code",
   "execution_count": 8,
   "id": "fluid-sunset",
   "metadata": {
    "scrolled": true
   },
   "outputs": [
    {
     "name": "stdout",
     "output_type": "stream",
     "text": [
      "230 µs ± 92.8 µs per loop (mean ± std. dev. of 7 runs, 1 loop each)\n"
     ]
    }
   ],
   "source": [
    "%timeit compute_properties(R_real)\n",
    "\n",
    "# no jit:     4.68 ms ± 559 µs per loop (mean ± std. dev. of 7 runs, 1 loop each)\n",
    "# decorator:  294 µs ± 166 µs per loop (mean ± std. dev. of 7 runs, 1 loop each)\n",
    "# individual: "
   ]
  },
  {
   "cell_type": "code",
   "execution_count": null,
   "id": "comprehensive-philadelphia",
   "metadata": {},
   "outputs": [],
   "source": []
  },
  {
   "cell_type": "code",
   "execution_count": null,
   "id": "ahead-filename",
   "metadata": {},
   "outputs": [],
   "source": []
  },
  {
   "cell_type": "code",
   "execution_count": null,
   "id": "uniform-future",
   "metadata": {},
   "outputs": [],
   "source": []
  },
  {
   "cell_type": "code",
   "execution_count": null,
   "id": "opposite-malta",
   "metadata": {},
   "outputs": [],
   "source": []
  },
  {
   "cell_type": "code",
   "execution_count": 36,
   "id": "empirical-faculty",
   "metadata": {},
   "outputs": [
    {
     "name": "stdout",
     "output_type": "stream",
     "text": [
      "16 ns ± 0.171 ns per loop (mean ± std. dev. of 7 runs, 100000000 loops each)\n"
     ]
    }
   ],
   "source": [
    "R_real = jnp.array(atoms.get_positions())\n",
    "\n",
    "displacement_fn, _ = new_get_displacement(atoms)\n",
    "neighbor_fn, energy_fn = energy.lennard_jones_neighbor_list(displacement_fn, max_box_length, sigma=sigma, epsilon=epsilon, r_onset=r_onset/sigma, r_cutoff=r_cutoff/sigma, per_particle=True)\n",
    "energy_fn = jit(energy_fn)\n",
    "\n",
    "# total_energy = energy_fn(R_real, neighbor=nbrs)\n",
    "\n",
    "# force_fn = jit(lambda R: grad(energy_fn)(R, nbrs))\n",
    "# force_fn = lambda R: grad(energy_fn)(R, nbrs)\n",
    "\n",
    "# print(total_energy)\n",
    "# %timeit force_fn(R_real)\n",
    "# no jit:     2.59 ms ± 199 µs per loop (mean ± std. dev. of 7 runs, 1 loop each)\n",
    "# w/ jit:     214 µs ± 64.7 µs per loop (mean ± std. dev. of 7 runs, 1 loop each)"
   ]
  }
 ],
 "metadata": {
  "kernelspec": {
   "display_name": "gknet-benchmarks",
   "language": "python",
   "name": "gknet-benchmarks"
  },
  "language_info": {
   "codemirror_mode": {
    "name": "ipython",
    "version": 3
   },
   "file_extension": ".py",
   "mimetype": "text/x-python",
   "name": "python",
   "nbconvert_exporter": "python",
   "pygments_lexer": "ipython3",
   "version": "3.9.1"
  }
 },
 "nbformat": 4,
 "nbformat_minor": 5
}
