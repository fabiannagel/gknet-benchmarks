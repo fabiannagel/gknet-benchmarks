{
 "cells": [
  {
   "cell_type": "code",
   "execution_count": 43,
   "id": "coordinate-industry",
   "metadata": {},
   "outputs": [],
   "source": [
    "from ase.atoms import Atoms\n",
    "from ase.build import bulk\n",
    "from ase.calculators.lj import LennardJones\n",
    "from ase.md.velocitydistribution import MaxwellBoltzmannDistribution, Stationary\n",
    "from ase.md import VelocityVerlet\n",
    "from ase import units\n",
    "from ase.io import read, write\n",
    "from asax.lj import LennardJones as AsaxLennardJones\n",
    "import time\n",
    "import matplotlib.pyplot as plt\n",
    "import sklearn\n",
    "import numpy as np\n",
    "from jax import lax, config, jit\n",
    "from jax_md import simulate, space, energy\n",
    "from jax_md.simulate import NVEState\n",
    "config.update(\"jax_enable_x64\", True)"
   ]
  },
  {
   "cell_type": "code",
   "execution_count": 44,
   "id": "authentic-sheffield",
   "metadata": {},
   "outputs": [],
   "source": [
    "def initialize_cubic_argon(multiplier=5, sigma=2.0, epsilon=1.5, rc=10.0, ro=6.0, temperature_K: int = 30) -> Atoms:\n",
    "    atoms = bulk(\"Ar\", cubic=True) * [multiplier, multiplier, multiplier]\n",
    "    MaxwellBoltzmannDistribution(atoms, temperature_K=temperature_K)\n",
    "    Stationary(atoms)\n",
    "\n",
    "    atoms.calc = LennardJones(sigma=sigma, epsilon=epsilon, rc=rc, ro=ro, smooth=True)\n",
    "    return atoms\n",
    "\n",
    "def read_cubic_argon():\n",
    "    atoms = read(\"geometry.in\", format=\"aims\")\n",
    "    atoms.calc = LennardJones(sigma=sigma, epsilon=epsilon, rc=rc, ro=ro, smooth=True)\n",
    "    return atoms\n",
    "\n",
    "def write_cubic_argon():\n",
    "    atoms = initialize_cubic_argon()\n",
    "    write(\"geometry.in\", atoms, velocities=True, format=\"aims\")\n",
    "    \n",
    "def get_initial_nve_state(atoms: Atoms) -> NVEState:\n",
    "    R = atoms.get_positions(wrapped=True)\n",
    "    V = atoms.get_velocities()\n",
    "    forces = atoms.get_forces()\n",
    "    masses = atoms.get_masses()[0]\n",
    "    return NVEState(R, V, forces, masses)"
   ]
  },
  {
   "cell_type": "code",
   "execution_count": 45,
   "id": "hungry-safety",
   "metadata": {},
   "outputs": [],
   "source": [
    "sigma = 2.0\n",
    "epsilon = 1.5\n",
    "rc = 10.0\n",
    "ro = 6.0\n",
    "\n",
    "dt = 5 * units.fs"
   ]
  },
  {
   "cell_type": "markdown",
   "id": "random-locator",
   "metadata": {},
   "source": [
    "## NVE in ASE"
   ]
  },
  {
   "cell_type": "code",
   "execution_count": 46,
   "id": "necessary-chart",
   "metadata": {},
   "outputs": [],
   "source": [
    "def run_ase_nve(atoms, steps, batch_size):\n",
    "    print(\"n = {}\".format(len(atoms)))\n",
    "    \n",
    "    positions = []\n",
    "    velocities = []\n",
    "    batch_times = []\n",
    "    \n",
    "    dyn = VelocityVerlet(atoms, timestep=dt)\n",
    "    \n",
    "    i = 0\n",
    "    while i < steps:\n",
    "        i += batch_size\n",
    "        batch_start_time = time.monotonic()\n",
    "        dyn.run(batch_size)\n",
    "\n",
    "        # elapsed time for simulating the last batch (in milliseconds)\n",
    "        batch_times += [round((time.monotonic() - batch_start_time) * 1000, 2)]\n",
    "        # print(\"Steps {}/{} took {} ms\".format(i, steps, batch_times[-1]))\n",
    "        \n",
    "        positions += [atoms.get_positions(wrapped=True)]\n",
    "        velocities += [atoms.get_velocities()]\n",
    "        \n",
    "    mean_step_time = round(np.mean([bt/batch_size for bt in batch_times]), 2)\n",
    "    print(\"Average ms/step: {}\".format(mean_step_time))\n",
    "    \n",
    "    return np.array(positions), np.array(velocities)"
   ]
  },
  {
   "cell_type": "markdown",
   "id": "unavailable-scope",
   "metadata": {},
   "source": [
    "## NVE in JAX-MD"
   ]
  },
  {
   "cell_type": "code",
   "execution_count": 70,
   "id": "official-ideal",
   "metadata": {},
   "outputs": [],
   "source": [
    "def run_jaxmd_nve(atoms, steps, batch_size):\n",
    "    print(\"n = {}\".format(len(atoms)))\n",
    "    \n",
    "    def step_fn(i, state):\n",
    "        state, neighbors = state\n",
    "        neighbors = neighbor_fn(state.position, neighbors)\n",
    "        state = apply_fn(state, neighbor=neighbors)\n",
    "        return state, neighbors\n",
    "\n",
    "    positions = []\n",
    "    velocities = []\n",
    "    batch_times = []\n",
    "    \n",
    "    # setup displacement\n",
    "    box = atoms.get_cell().array\n",
    "    displacement_fn, shift_fn = space.periodic_general(box, fractional_coordinates=False)\n",
    "    \n",
    "    # normalize LJ parameters and setup NL energy function\n",
    "    normalized_ro = ro / sigma\n",
    "    normalized_rc = rc / sigma\n",
    "    neighbor_fn, energy_fn = energy.lennard_jones_neighbor_list(displacement_fn, box,\n",
    "                                                                sigma=sigma,\n",
    "                                                                epsilon=epsilon,\n",
    "                                                                r_onset=normalized_ro,\n",
    "                                                                r_cutoff=normalized_rc,\n",
    "                                                                dr_threshold=1 * units.Angstrom)\n",
    "    energy_fn = jit(energy_fn)\n",
    "    \n",
    "    # compute initial neighbor list\n",
    "    R = atoms.get_positions(wrapped=True)\n",
    "    neighbors = neighbor_fn(R)\n",
    "    \n",
    "    # compute initial state & setup NVE\n",
    "    state = get_initial_nve_state(atoms)\n",
    "    _, apply_fn = simulate.nve(energy_fn, shift_fn, dt=dt)\n",
    " \n",
    "    # run MD loop\n",
    "    i = 0\n",
    "    \n",
    "    while i < steps:\n",
    "        batch_start_time = time.monotonic()\n",
    "        \n",
    "        state, neighbors = lax.fori_loop(0, batch_size, step_fn, (state, neighbors))\n",
    "\n",
    "        if neighbors.did_buffer_overflow:\n",
    "            neighbors = neighbor_fn(state.position)\n",
    "            print(\"Steps {}/{}: Neighbor list overflow, recomputing...\".format(i, steps))\n",
    "            continue\n",
    "            \n",
    "        batch_times += [round((time.monotonic() - batch_start_time) * 1000, 2)]\n",
    "        i += batch_size\n",
    "        # print(\"Steps {}/{} took {} ms\".format(i, steps, batch_times[-1]))\n",
    "        \n",
    "        \n",
    "        positions += [state.position.block_until_ready()]\n",
    "        velocities += [state.velocity.block_until_ready()]\n",
    "        \n",
    "    mean_step_time = round(np.mean([bt/batch_size for bt in batch_times]), 2)\n",
    "    print(\"Average ms/step: {}\".format(mean_step_time))\n",
    "    \n",
    "    return np.array(positions), np.array(velocities)"
   ]
  },
  {
   "cell_type": "markdown",
   "id": "solid-investment",
   "metadata": {},
   "source": [
    "## NVE in ASAX"
   ]
  },
  {
   "cell_type": "code",
   "execution_count": 71,
   "id": "danish-software",
   "metadata": {
    "scrolled": true
   },
   "outputs": [],
   "source": [
    "def run_asax_nve(atoms, steps, batch_size):\n",
    "    print(\"n = {}\".format(len(atoms)))\n",
    "    \n",
    "    positions = []\n",
    "    velocities = []\n",
    "    batch_times = []\n",
    "    \n",
    "    atoms.calc = AsaxLennardJones(epsilon, sigma, rc, ro, stress=False)\n",
    "    dyn = VelocityVerlet(atoms, timestep=dt)\n",
    "    \n",
    "    i = 0\n",
    "    while i < steps:\n",
    "        i += batch_size\n",
    "        batch_start_time = time.monotonic()\n",
    "        dyn.run(batch_size)\n",
    "\n",
    "        # elapsed time for simulating the last batch (in milliseconds)\n",
    "        batch_times += [round((time.monotonic() - batch_start_time) * 1000, 2)]\n",
    "        # print(\"Steps {}/{} took {} ms\".format(i, steps, batch_times[-1]))\n",
    "        \n",
    "        positions += [atoms.get_positions(wrapped=True)]\n",
    "        velocities += [atoms.get_velocities()]\n",
    "        \n",
    "    mean_step_time = round(np.mean([bt/batch_size for bt in batch_times]), 2)\n",
    "    print(\"Average ms/step: {}\".format(mean_step_time))\n",
    "    \n",
    "    return np.array(positions), np.array(velocities)"
   ]
  },
  {
   "cell_type": "markdown",
   "id": "incomplete-phoenix",
   "metadata": {},
   "source": [
    "## Does NVE compute the same thing?\n",
    "- After 1 MD step, positions and velocities should be equal or very similar.\n",
    "- As a sanity check, we'll run two ASE simulations and compare their results first."
   ]
  },
  {
   "cell_type": "code",
   "execution_count": 72,
   "id": "threaded-explosion",
   "metadata": {
    "scrolled": true
   },
   "outputs": [
    {
     "name": "stdout",
     "output_type": "stream",
     "text": [
      "n = 500\n",
      "Average ms/step: 521.96\n",
      "n = 500\n",
      "Average ms/step: 474.13\n",
      "[[0. 0. 0.]\n",
      " [0. 0. 0.]\n",
      " [0. 0. 0.]\n",
      " ...\n",
      " [0. 0. 0.]\n",
      " [0. 0. 0.]\n",
      " [0. 0. 0.]]\n"
     ]
    }
   ],
   "source": [
    "ase_atoms = read_cubic_argon()\n",
    "run_ase_nve(ase_atoms, steps=1, batch_size=1)\n",
    "\n",
    "ase_atoms_2 = read_cubic_argon()\n",
    "run_ase_nve(ase_atoms_2, steps=1, batch_size=1)\n",
    "\n",
    "print(ase_atoms.get_positions() - ase_atoms_2.get_positions())"
   ]
  },
  {
   "cell_type": "markdown",
   "id": "sudden-length",
   "metadata": {},
   "source": [
    "Looks good! No positional differences after a single step. \n",
    "\n",
    "### JAX-MD"
   ]
  },
  {
   "cell_type": "code",
   "execution_count": 117,
   "id": "executive-valley",
   "metadata": {
    "scrolled": true
   },
   "outputs": [
    {
     "name": "stdout",
     "output_type": "stream",
     "text": [
      "n = 500\n",
      "Average ms/step: 542.54\n",
      "1709.4999999999998\n",
      "\n",
      "[[-3.97338213e-11  2.63000000e+01  2.63000000e+01]\n",
      " [-3.26640884e-11 -3.06887848e-11 -1.87085902e-11]\n",
      " [-5.48978640e-11  2.63000000e+01  4.05822043e-11]\n",
      " ...\n",
      " [-2.88018498e-11 -1.28963507e-11  1.83995041e-11]\n",
      " [ 1.95754524e-12 -8.87503404e-11 -1.32168054e-10]\n",
      " [ 1.12997611e-10  8.62563354e-11  9.39763822e-11]]\n"
     ]
    }
   ],
   "source": [
    "jax_atoms = read_cubic_argon()\n",
    "jax_positions, jax_velocities = run_jaxmd_nve(jax_atoms, steps=1, batch_size=1)\n",
    "\n",
    "jax_positions = jax_positions[0]\n",
    "\n",
    "print(np.sum(jax_positions - ase_atoms.get_positions()))\n",
    "print()\n",
    "print(jax_positions - ase_atoms.get_positions(wrapped=True))"
   ]
  },
  {
   "cell_type": "code",
   "execution_count": 118,
   "id": "systematic-cardiff",
   "metadata": {},
   "outputs": [
    {
     "data": {
      "text/plain": [
       "array([[ 3.02012126e-03, -3.97189777e-03, -1.72837188e-03],\n",
       "       [ 2.48275914e-03,  2.63233260e+00,  2.63142202e+00],\n",
       "       [ 2.63417272e+00, -1.53259100e-03,  2.62691538e+00],\n",
       "       ...,\n",
       "       [ 2.10421890e+01,  2.36709802e+01,  2.36686017e+01],\n",
       "       [ 2.36698514e+01,  2.10467458e+01,  2.36800460e+01],\n",
       "       [ 2.36614112e+01,  2.36634439e+01,  2.10328570e+01]])"
      ]
     },
     "execution_count": 118,
     "metadata": {},
     "output_type": "execute_result"
    }
   ],
   "source": [
    "ase_atoms.get_positions()"
   ]
  },
  {
   "cell_type": "code",
   "execution_count": 119,
   "id": "flexible-trace",
   "metadata": {
    "scrolled": false
   },
   "outputs": [
    {
     "data": {
      "text/plain": [
       "array([[3.02012122e-03, 2.62960281e+01, 2.62982716e+01],\n",
       "       [2.48275911e-03, 2.63233260e+00, 2.63142202e+00],\n",
       "       [2.63417272e+00, 2.62984674e+01, 2.62691538e+00],\n",
       "       ...,\n",
       "       [2.10421890e+01, 2.36709802e+01, 2.36686017e+01],\n",
       "       [2.36698514e+01, 2.10467458e+01, 2.36800460e+01],\n",
       "       [2.36614112e+01, 2.36634439e+01, 2.10328570e+01]])"
      ]
     },
     "execution_count": 119,
     "metadata": {},
     "output_type": "execute_result"
    }
   ],
   "source": [
    "jax_positions"
   ]
  },
  {
   "cell_type": "code",
   "execution_count": 122,
   "id": "upset-iceland",
   "metadata": {},
   "outputs": [
    {
     "data": {
      "text/plain": [
       "array([[3.02012122e-03, 2.62960281e+01, 2.62982716e+01],\n",
       "       [2.48275911e-03, 2.63233260e+00, 2.63142202e+00],\n",
       "       [2.63417272e+00, 2.62984674e+01, 2.62691538e+00],\n",
       "       ...,\n",
       "       [2.10421890e+01, 2.36709802e+01, 2.36686017e+01],\n",
       "       [2.36698514e+01, 2.10467458e+01, 2.36800460e+01],\n",
       "       [2.36614112e+01, 2.36634439e+01, 2.10328570e+01]])"
      ]
     },
     "execution_count": 122,
     "metadata": {},
     "output_type": "execute_result"
    }
   ],
   "source": [
    "foo = Atoms(positions=jax_positions, cell=ase_atoms.get_cell(), pbc=True)\n",
    "foo.wrap()\n",
    "foo.get_positions()"
   ]
  },
  {
   "cell_type": "code",
   "execution_count": 103,
   "id": "pacific-transport",
   "metadata": {},
   "outputs": [
    {
     "data": {
      "text/plain": [
       "26.299999999999997"
      ]
     },
     "execution_count": 103,
     "metadata": {},
     "output_type": "execute_result"
    }
   ],
   "source": [
    "jax_atoms.get_cell()[0][0]"
   ]
  },
  {
   "cell_type": "code",
   "execution_count": 100,
   "id": "dangerous-theme",
   "metadata": {},
   "outputs": [
    {
     "data": {
      "text/plain": [
       "26.11522783775"
      ]
     },
     "execution_count": 100,
     "metadata": {},
     "output_type": "execute_result"
    }
   ],
   "source": [
    "# position mismatch at indices [0][1]\n",
    "\n",
    "# ase value             box      jax value\n",
    "# -3.97189777e-03 * x * 26.29 =  2.62960281e+01\n",
    "# x ≈ -251\n",
    "\n",
    "# -3.97189777e-03 * (-251) * 26.29 = 26.2097192857"
   ]
  },
  {
   "cell_type": "markdown",
   "id": "confident-round",
   "metadata": {},
   "source": [
    "## ASAX"
   ]
  },
  {
   "cell_type": "code",
   "execution_count": 67,
   "id": "indirect-commissioner",
   "metadata": {},
   "outputs": [
    {
     "name": "stdout",
     "output_type": "stream",
     "text": [
      "n = 500\n",
      "Average ms/step: 865.92\n",
      "-2.790072318147041e-15\n",
      "\n",
      "[[[4.77048956e-18 6.07153217e-18 5.63785130e-18]\n",
      "  [2.60208521e-18 0.00000000e+00 0.00000000e+00]\n",
      "  [0.00000000e+00 4.33680869e-18 0.00000000e+00]\n",
      "  ...\n",
      "  [0.00000000e+00 0.00000000e+00 0.00000000e+00]\n",
      "  [0.00000000e+00 0.00000000e+00 0.00000000e+00]\n",
      "  [0.00000000e+00 0.00000000e+00 0.00000000e+00]]]\n"
     ]
    }
   ],
   "source": [
    "asax_atoms = read_cubic_argon()\n",
    "asax_positions, asax_velocities = run_asax_nve(asax_atoms, steps=1, batch_size=1)\n",
    "\n",
    "print(np.sum(asax_positions - ase_atoms.get_positions()))\n",
    "print()\n",
    "print(asax_positions - ase_atoms.get_positions(wrapped=True))"
   ]
  },
  {
   "cell_type": "code",
   "execution_count": null,
   "id": "floral-decrease",
   "metadata": {},
   "outputs": [],
   "source": []
  }
 ],
 "metadata": {
  "kernelspec": {
   "display_name": "gknet-benchmarks",
   "language": "python",
   "name": "gknet-benchmarks"
  },
  "language_info": {
   "codemirror_mode": {
    "name": "ipython",
    "version": 3
   },
   "file_extension": ".py",
   "mimetype": "text/x-python",
   "name": "python",
   "nbconvert_exporter": "python",
   "pygments_lexer": "ipython3",
   "version": "3.9.1"
  }
 },
 "nbformat": 4,
 "nbformat_minor": 5
}
