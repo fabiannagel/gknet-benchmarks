{
 "cells": [
  {
   "cell_type": "code",
   "execution_count": 7,
   "id": "cheap-setup",
   "metadata": {},
   "outputs": [],
   "source": [
    "import jax.numpy as np\n",
    "import numpy as onp\n",
    "from jax import jit\n",
    "from jax import random\n",
    "from jax import lax\n",
    "\n",
    "from jax.config import config\n",
    "config.update('jax_enable_x64', True)\n",
    "\n",
    "from jax_md import space, energy, simulate, quantity"
   ]
  },
  {
   "cell_type": "markdown",
   "id": "pediatric-council",
   "metadata": {},
   "source": [
    "## Initialization logic\n",
    "Taken from original LJ benchmark notebook at `jax-md/notebooks/lj_benchmark.ipynb`"
   ]
  },
  {
   "cell_type": "code",
   "execution_count": 8,
   "id": "unusual-answer",
   "metadata": {},
   "outputs": [],
   "source": [
    "def initialize_structure():\n",
    "    lattice_constant = 1.37820\n",
    "    N_rep = 40\n",
    "    box_size = N_rep * lattice_constant\n",
    "\n",
    "    # Using float32 for positions / velocities, but float64 for reductions.\n",
    "    dtype = np.float32\n",
    "\n",
    "    R = []\n",
    "    for i in range(N_rep):\n",
    "        for j in range(N_rep):\n",
    "            for k in range(N_rep):\n",
    "                R += [[i, j, k]]\n",
    "    R = np.array(R, dtype=dtype) * lattice_constant\n",
    "\n",
    "    N = R.shape[0]\n",
    "    phi = N / (lattice_constant * N_rep) ** 3\n",
    "    print(f'Created a system of {N} LJ particles with number density {phi:.3f}')\n",
    "\n",
    "    return R, box_size"
   ]
  },
  {
   "cell_type": "code",
   "execution_count": 9,
   "id": "biblical-exploration",
   "metadata": {
    "scrolled": true
   },
   "outputs": [
    {
     "name": "stdout",
     "output_type": "stream",
     "text": [
      "Created a system of 64000 LJ particles with number density 0.382\n"
     ]
    }
   ],
   "source": [
    "R, box_size = initialize_structure()\n",
    "displacement, _ = space.periodic(box_size)"
   ]
  },
  {
   "cell_type": "markdown",
   "id": "demographic-empire",
   "metadata": {},
   "source": [
    "## Benchmark scenario from `jax-md/notebooks/lj_benchmark.ipynb`\n",
    "\n",
    "This works for 64.000 atoms"
   ]
  },
  {
   "cell_type": "code",
   "execution_count": 13,
   "id": "passing-lesbian",
   "metadata": {
    "scrolled": true
   },
   "outputs": [
    {
     "data": {
      "text/plain": [
       "DeviceArray(-124052.76, dtype=float32)"
      ]
     },
     "execution_count": 13,
     "metadata": {},
     "output_type": "execute_result"
    }
   ],
   "source": [
    "# apart from r_cutoff, these are default values\n",
    "sigma = 1.0\n",
    "epsilon = 1.0\n",
    "r_onset = 2.0\n",
    "r_cutoff = 2.5\n",
    "\n",
    "neighbor_fn, energy_fn = energy.lennard_jones_neighbor_list(displacement,\n",
    "                                                            box_size,\n",
    "                                                            sigma=sigma,\n",
    "                                                            epsilon=epsilon,\n",
    "                                                            r_cutoff=r_cutoff,\n",
    "                                                            r_onset=r_onset,\n",
    "                                                            dr_threshold=1.)\n",
    "\n",
    "energy_fn = jit(energy_fn)\n",
    "displacement = jit(displacement)\n",
    "\n",
    "# in the original benchmark, they set extra_capacity=55. doesn't seem to matter here.\n",
    "nbrs = neighbor_fn(R)\n",
    "energy_fn(R, neighbor=nbrs)"
   ]
  },
  {
   "cell_type": "markdown",
   "id": "constitutional-affect",
   "metadata": {},
   "source": [
    "## Modeling elemental Argon with Lennard-Jones\n",
    "\n",
    "- This is where we run out of memory\n",
    "- As `energy.lennard_jones_neighbor_list()` multiplies cutoff and onset with $sigma$, we have to normalize in order to achieve equal results with `ASE`."
   ]
  },
  {
   "cell_type": "code",
   "execution_count": 12,
   "id": "clinical-pepper",
   "metadata": {},
   "outputs": [
    {
     "ename": "RuntimeError",
     "evalue": "Resource exhausted: Out of memory while trying to allocate 23708160000 bytes.",
     "output_type": "error",
     "traceback": [
      "\u001B[0;31m---------------------------------------------------------------------------\u001B[0m",
      "\u001B[0;31mFilteredStackTrace\u001B[0m                        Traceback (most recent call last)",
      "\u001B[0;32m<ipython-input-12-a70003dc9319>\u001B[0m in \u001B[0;36m<module>\u001B[0;34m\u001B[0m\n\u001B[1;32m     17\u001B[0m \u001B[0;31m# in the original benchmark, they set extra_capacity=55. doesn't seem to matter here.\u001B[0m\u001B[0;34m\u001B[0m\u001B[0;34m\u001B[0m\u001B[0;34m\u001B[0m\u001B[0m\n\u001B[0;32m---> 18\u001B[0;31m \u001B[0mnbrs\u001B[0m \u001B[0;34m=\u001B[0m \u001B[0mneighbor_fn\u001B[0m\u001B[0;34m(\u001B[0m\u001B[0mR\u001B[0m\u001B[0;34m)\u001B[0m\u001B[0;34m\u001B[0m\u001B[0;34m\u001B[0m\u001B[0m\n\u001B[0m\u001B[1;32m     19\u001B[0m \u001B[0;34m\u001B[0m\u001B[0m\n",
      "\u001B[0;32m~/Workspace/.conda/envs/gknet-benchmarks/lib/python3.9/site-packages/jax_md/partition.py\u001B[0m in \u001B[0;36mneighbor_list_fn\u001B[0;34m(R, neighbor_list, extra_capacity, **kwargs)\u001B[0m\n\u001B[1;32m    616\u001B[0m                       use_cell_list else None)\n\u001B[0;32m--> 617\u001B[0;31m       \u001B[0;32mreturn\u001B[0m \u001B[0mneighbor_fn\u001B[0m\u001B[0;34m(\u001B[0m\u001B[0;34m(\u001B[0m\u001B[0mR\u001B[0m\u001B[0;34m,\u001B[0m \u001B[0;32mFalse\u001B[0m\u001B[0;34m)\u001B[0m\u001B[0;34m)\u001B[0m\u001B[0;34m\u001B[0m\u001B[0;34m\u001B[0m\u001B[0m\n\u001B[0m\u001B[1;32m    618\u001B[0m     \u001B[0;32melse\u001B[0m\u001B[0;34m:\u001B[0m\u001B[0;34m\u001B[0m\u001B[0;34m\u001B[0m\u001B[0m\n",
      "\u001B[0;32m~/Workspace/.conda/envs/gknet-benchmarks/lib/python3.9/site-packages/jax_md/partition.py\u001B[0m in \u001B[0;36mneighbor_fn\u001B[0;34m(R_and_overflow, max_occupancy)\u001B[0m\n\u001B[1;32m    594\u001B[0m         \u001B[0mcl\u001B[0m \u001B[0;34m=\u001B[0m \u001B[0mcell_list_fn\u001B[0m\u001B[0;34m(\u001B[0m\u001B[0mR\u001B[0m\u001B[0;34m)\u001B[0m\u001B[0;34m\u001B[0m\u001B[0;34m\u001B[0m\u001B[0m\n\u001B[0;32m--> 595\u001B[0;31m         \u001B[0midx\u001B[0m \u001B[0;34m=\u001B[0m \u001B[0mcell_list_candidate_fn\u001B[0m\u001B[0;34m(\u001B[0m\u001B[0mcl\u001B[0m\u001B[0;34m,\u001B[0m \u001B[0mR\u001B[0m\u001B[0;34m,\u001B[0m \u001B[0;34m**\u001B[0m\u001B[0mkwargs\u001B[0m\u001B[0;34m)\u001B[0m\u001B[0;34m\u001B[0m\u001B[0;34m\u001B[0m\u001B[0m\n\u001B[0m\u001B[1;32m    596\u001B[0m       \u001B[0;32melse\u001B[0m\u001B[0;34m:\u001B[0m\u001B[0;34m\u001B[0m\u001B[0;34m\u001B[0m\u001B[0m\n",
      "\u001B[0;31mFilteredStackTrace\u001B[0m: RuntimeError: Resource exhausted: Out of memory while trying to allocate 23708160000 bytes.\n\nThe stack trace above excludes JAX-internal frames.\nThe following is the original exception that occurred, unmodified.\n\n--------------------",
      "\nThe above exception was the direct cause of the following exception:\n",
      "\u001B[0;31mRuntimeError\u001B[0m                              Traceback (most recent call last)",
      "\u001B[0;32m<ipython-input-12-a70003dc9319>\u001B[0m in \u001B[0;36m<module>\u001B[0;34m\u001B[0m\n\u001B[1;32m     16\u001B[0m \u001B[0;34m\u001B[0m\u001B[0m\n\u001B[1;32m     17\u001B[0m \u001B[0;31m# in the original benchmark, they set extra_capacity=55. doesn't seem to matter here.\u001B[0m\u001B[0;34m\u001B[0m\u001B[0;34m\u001B[0m\u001B[0;34m\u001B[0m\u001B[0m\n\u001B[0;32m---> 18\u001B[0;31m \u001B[0mnbrs\u001B[0m \u001B[0;34m=\u001B[0m \u001B[0mneighbor_fn\u001B[0m\u001B[0;34m(\u001B[0m\u001B[0mR\u001B[0m\u001B[0;34m)\u001B[0m\u001B[0;34m\u001B[0m\u001B[0;34m\u001B[0m\u001B[0m\n\u001B[0m\u001B[1;32m     19\u001B[0m \u001B[0;34m\u001B[0m\u001B[0m\n\u001B[1;32m     20\u001B[0m \u001B[0menergy\u001B[0m \u001B[0;34m=\u001B[0m \u001B[0menergy_fn\u001B[0m\u001B[0;34m(\u001B[0m\u001B[0mR\u001B[0m\u001B[0;34m,\u001B[0m \u001B[0mneighbor\u001B[0m\u001B[0;34m=\u001B[0m\u001B[0mnbrs\u001B[0m\u001B[0;34m)\u001B[0m\u001B[0;34m\u001B[0m\u001B[0;34m\u001B[0m\u001B[0m\n",
      "\u001B[0;32m~/Workspace/.conda/envs/gknet-benchmarks/lib/python3.9/site-packages/jax_md/partition.py\u001B[0m in \u001B[0;36mneighbor_list_fn\u001B[0;34m(R, neighbor_list, extra_capacity, **kwargs)\u001B[0m\n\u001B[1;32m    615\u001B[0m       cell_list_fn = (cell_list(box_size, cell_size, R, capacity_multiplier) if\n\u001B[1;32m    616\u001B[0m                       use_cell_list else None)\n\u001B[0;32m--> 617\u001B[0;31m       \u001B[0;32mreturn\u001B[0m \u001B[0mneighbor_fn\u001B[0m\u001B[0;34m(\u001B[0m\u001B[0;34m(\u001B[0m\u001B[0mR\u001B[0m\u001B[0;34m,\u001B[0m \u001B[0;32mFalse\u001B[0m\u001B[0;34m)\u001B[0m\u001B[0;34m)\u001B[0m\u001B[0;34m\u001B[0m\u001B[0;34m\u001B[0m\u001B[0m\n\u001B[0m\u001B[1;32m    618\u001B[0m     \u001B[0;32melse\u001B[0m\u001B[0;34m:\u001B[0m\u001B[0;34m\u001B[0m\u001B[0;34m\u001B[0m\u001B[0m\n\u001B[1;32m    619\u001B[0m       \u001B[0mcell_list_fn\u001B[0m \u001B[0;34m=\u001B[0m \u001B[0mnbrs\u001B[0m\u001B[0;34m.\u001B[0m\u001B[0mcell_list_fn\u001B[0m\u001B[0;34m\u001B[0m\u001B[0;34m\u001B[0m\u001B[0m\n",
      "\u001B[0;32m~/Workspace/.conda/envs/gknet-benchmarks/lib/python3.9/site-packages/jax_md/partition.py\u001B[0m in \u001B[0;36mneighbor_fn\u001B[0;34m(R_and_overflow, max_occupancy)\u001B[0m\n\u001B[1;32m    593\u001B[0m       \u001B[0;32mif\u001B[0m \u001B[0mcell_list_fn\u001B[0m \u001B[0;32mis\u001B[0m \u001B[0;32mnot\u001B[0m \u001B[0;32mNone\u001B[0m\u001B[0;34m:\u001B[0m\u001B[0;34m\u001B[0m\u001B[0;34m\u001B[0m\u001B[0m\n\u001B[1;32m    594\u001B[0m         \u001B[0mcl\u001B[0m \u001B[0;34m=\u001B[0m \u001B[0mcell_list_fn\u001B[0m\u001B[0;34m(\u001B[0m\u001B[0mR\u001B[0m\u001B[0;34m)\u001B[0m\u001B[0;34m\u001B[0m\u001B[0;34m\u001B[0m\u001B[0m\n\u001B[0;32m--> 595\u001B[0;31m         \u001B[0midx\u001B[0m \u001B[0;34m=\u001B[0m \u001B[0mcell_list_candidate_fn\u001B[0m\u001B[0;34m(\u001B[0m\u001B[0mcl\u001B[0m\u001B[0;34m,\u001B[0m \u001B[0mR\u001B[0m\u001B[0;34m,\u001B[0m \u001B[0;34m**\u001B[0m\u001B[0mkwargs\u001B[0m\u001B[0;34m)\u001B[0m\u001B[0;34m\u001B[0m\u001B[0;34m\u001B[0m\u001B[0m\n\u001B[0m\u001B[1;32m    596\u001B[0m       \u001B[0;32melse\u001B[0m\u001B[0;34m:\u001B[0m\u001B[0;34m\u001B[0m\u001B[0;34m\u001B[0m\u001B[0m\n\u001B[1;32m    597\u001B[0m         \u001B[0midx\u001B[0m \u001B[0;34m=\u001B[0m \u001B[0mcandidate_fn\u001B[0m\u001B[0;34m(\u001B[0m\u001B[0mR\u001B[0m\u001B[0;34m,\u001B[0m \u001B[0;34m**\u001B[0m\u001B[0mkwargs\u001B[0m\u001B[0;34m)\u001B[0m\u001B[0;34m\u001B[0m\u001B[0;34m\u001B[0m\u001B[0m\n",
      "\u001B[0;32m~/Workspace/.conda/envs/gknet-benchmarks/lib/python3.9/site-packages/jax/_src/traceback_util.py\u001B[0m in \u001B[0;36mreraise_with_filtered_traceback\u001B[0;34m(*args, **kwargs)\u001B[0m\n\u001B[1;32m    137\u001B[0m   \u001B[0;32mdef\u001B[0m \u001B[0mreraise_with_filtered_traceback\u001B[0m\u001B[0;34m(\u001B[0m\u001B[0;34m*\u001B[0m\u001B[0margs\u001B[0m\u001B[0;34m,\u001B[0m \u001B[0;34m**\u001B[0m\u001B[0mkwargs\u001B[0m\u001B[0;34m)\u001B[0m\u001B[0;34m:\u001B[0m\u001B[0;34m\u001B[0m\u001B[0;34m\u001B[0m\u001B[0m\n\u001B[1;32m    138\u001B[0m     \u001B[0;32mtry\u001B[0m\u001B[0;34m:\u001B[0m\u001B[0;34m\u001B[0m\u001B[0;34m\u001B[0m\u001B[0m\n\u001B[0;32m--> 139\u001B[0;31m       \u001B[0;32mreturn\u001B[0m \u001B[0mfun\u001B[0m\u001B[0;34m(\u001B[0m\u001B[0;34m*\u001B[0m\u001B[0margs\u001B[0m\u001B[0;34m,\u001B[0m \u001B[0;34m**\u001B[0m\u001B[0mkwargs\u001B[0m\u001B[0;34m)\u001B[0m\u001B[0;34m\u001B[0m\u001B[0;34m\u001B[0m\u001B[0m\n\u001B[0m\u001B[1;32m    140\u001B[0m     \u001B[0;32mexcept\u001B[0m \u001B[0mException\u001B[0m \u001B[0;32mas\u001B[0m \u001B[0me\u001B[0m\u001B[0;34m:\u001B[0m\u001B[0;34m\u001B[0m\u001B[0;34m\u001B[0m\u001B[0m\n\u001B[1;32m    141\u001B[0m       \u001B[0;32mif\u001B[0m \u001B[0;32mnot\u001B[0m \u001B[0mis_under_reraiser\u001B[0m\u001B[0;34m(\u001B[0m\u001B[0me\u001B[0m\u001B[0;34m)\u001B[0m\u001B[0;34m:\u001B[0m\u001B[0;34m\u001B[0m\u001B[0;34m\u001B[0m\u001B[0m\n",
      "\u001B[0;32m~/Workspace/.conda/envs/gknet-benchmarks/lib/python3.9/site-packages/jax/api.py\u001B[0m in \u001B[0;36mf_jitted\u001B[0;34m(*args, **kwargs)\u001B[0m\n\u001B[1;32m    369\u001B[0m         \u001B[0;32mreturn\u001B[0m \u001B[0mcache_miss\u001B[0m\u001B[0;34m(\u001B[0m\u001B[0;34m*\u001B[0m\u001B[0margs\u001B[0m\u001B[0;34m,\u001B[0m \u001B[0;34m**\u001B[0m\u001B[0mkwargs\u001B[0m\u001B[0;34m)\u001B[0m\u001B[0;34m[\u001B[0m\u001B[0;36m0\u001B[0m\u001B[0;34m]\u001B[0m  \u001B[0;31m# probably won't return\u001B[0m\u001B[0;34m\u001B[0m\u001B[0;34m\u001B[0m\u001B[0m\n\u001B[1;32m    370\u001B[0m     \u001B[0;32melse\u001B[0m\u001B[0;34m:\u001B[0m\u001B[0;34m\u001B[0m\u001B[0;34m\u001B[0m\u001B[0m\n\u001B[0;32m--> 371\u001B[0;31m       \u001B[0;32mreturn\u001B[0m \u001B[0mcpp_jitted_f\u001B[0m\u001B[0;34m(\u001B[0m\u001B[0;34m*\u001B[0m\u001B[0margs\u001B[0m\u001B[0;34m,\u001B[0m \u001B[0;34m**\u001B[0m\u001B[0mkwargs\u001B[0m\u001B[0;34m)\u001B[0m\u001B[0;34m\u001B[0m\u001B[0;34m\u001B[0m\u001B[0m\n\u001B[0m\u001B[1;32m    372\u001B[0m   \u001B[0mf_jitted\u001B[0m\u001B[0;34m.\u001B[0m\u001B[0m_cpp_jitted_f\u001B[0m \u001B[0;34m=\u001B[0m \u001B[0mcpp_jitted_f\u001B[0m\u001B[0;34m\u001B[0m\u001B[0;34m\u001B[0m\u001B[0m\n\u001B[1;32m    373\u001B[0m \u001B[0;34m\u001B[0m\u001B[0m\n",
      "\u001B[0;32m~/Workspace/.conda/envs/gknet-benchmarks/lib/python3.9/site-packages/jax/api.py\u001B[0m in \u001B[0;36mcache_miss\u001B[0;34m(*args, **kwargs)\u001B[0m\n\u001B[1;32m    276\u001B[0m       \u001B[0m_check_arg\u001B[0m\u001B[0;34m(\u001B[0m\u001B[0marg\u001B[0m\u001B[0;34m)\u001B[0m\u001B[0;34m\u001B[0m\u001B[0;34m\u001B[0m\u001B[0m\n\u001B[1;32m    277\u001B[0m     \u001B[0mflat_fun\u001B[0m\u001B[0;34m,\u001B[0m \u001B[0mout_tree\u001B[0m \u001B[0;34m=\u001B[0m \u001B[0mflatten_fun\u001B[0m\u001B[0;34m(\u001B[0m\u001B[0mf\u001B[0m\u001B[0;34m,\u001B[0m \u001B[0min_tree\u001B[0m\u001B[0;34m)\u001B[0m\u001B[0;34m\u001B[0m\u001B[0;34m\u001B[0m\u001B[0m\n\u001B[0;32m--> 278\u001B[0;31m     out_flat = xla.xla_call(\n\u001B[0m\u001B[1;32m    279\u001B[0m         \u001B[0mflat_fun\u001B[0m\u001B[0;34m,\u001B[0m\u001B[0;34m\u001B[0m\u001B[0;34m\u001B[0m\u001B[0m\n\u001B[1;32m    280\u001B[0m         \u001B[0;34m*\u001B[0m\u001B[0margs_flat\u001B[0m\u001B[0;34m,\u001B[0m\u001B[0;34m\u001B[0m\u001B[0;34m\u001B[0m\u001B[0m\n",
      "\u001B[0;32m~/Workspace/.conda/envs/gknet-benchmarks/lib/python3.9/site-packages/jax/core.py\u001B[0m in \u001B[0;36mbind\u001B[0;34m(self, fun, *args, **params)\u001B[0m\n\u001B[1;32m   1227\u001B[0m \u001B[0;34m\u001B[0m\u001B[0m\n\u001B[1;32m   1228\u001B[0m   \u001B[0;32mdef\u001B[0m \u001B[0mbind\u001B[0m\u001B[0;34m(\u001B[0m\u001B[0mself\u001B[0m\u001B[0;34m,\u001B[0m \u001B[0mfun\u001B[0m\u001B[0;34m,\u001B[0m \u001B[0;34m*\u001B[0m\u001B[0margs\u001B[0m\u001B[0;34m,\u001B[0m \u001B[0;34m**\u001B[0m\u001B[0mparams\u001B[0m\u001B[0;34m)\u001B[0m\u001B[0;34m:\u001B[0m\u001B[0;34m\u001B[0m\u001B[0;34m\u001B[0m\u001B[0m\n\u001B[0;32m-> 1229\u001B[0;31m     \u001B[0;32mreturn\u001B[0m \u001B[0mcall_bind\u001B[0m\u001B[0;34m(\u001B[0m\u001B[0mself\u001B[0m\u001B[0;34m,\u001B[0m \u001B[0mfun\u001B[0m\u001B[0;34m,\u001B[0m \u001B[0;34m*\u001B[0m\u001B[0margs\u001B[0m\u001B[0;34m,\u001B[0m \u001B[0;34m**\u001B[0m\u001B[0mparams\u001B[0m\u001B[0;34m)\u001B[0m\u001B[0;34m\u001B[0m\u001B[0;34m\u001B[0m\u001B[0m\n\u001B[0m\u001B[1;32m   1230\u001B[0m \u001B[0;34m\u001B[0m\u001B[0m\n\u001B[1;32m   1231\u001B[0m   \u001B[0;32mdef\u001B[0m \u001B[0mprocess\u001B[0m\u001B[0;34m(\u001B[0m\u001B[0mself\u001B[0m\u001B[0;34m,\u001B[0m \u001B[0mtrace\u001B[0m\u001B[0;34m,\u001B[0m \u001B[0mfun\u001B[0m\u001B[0;34m,\u001B[0m \u001B[0mtracers\u001B[0m\u001B[0;34m,\u001B[0m \u001B[0mparams\u001B[0m\u001B[0;34m)\u001B[0m\u001B[0;34m:\u001B[0m\u001B[0;34m\u001B[0m\u001B[0;34m\u001B[0m\u001B[0m\n",
      "\u001B[0;32m~/Workspace/.conda/envs/gknet-benchmarks/lib/python3.9/site-packages/jax/core.py\u001B[0m in \u001B[0;36mcall_bind\u001B[0;34m(primitive, fun, *args, **params)\u001B[0m\n\u001B[1;32m   1218\u001B[0m   \u001B[0mtracers\u001B[0m \u001B[0;34m=\u001B[0m \u001B[0mmap\u001B[0m\u001B[0;34m(\u001B[0m\u001B[0mtop_trace\u001B[0m\u001B[0;34m.\u001B[0m\u001B[0mfull_raise\u001B[0m\u001B[0;34m,\u001B[0m \u001B[0margs\u001B[0m\u001B[0;34m)\u001B[0m\u001B[0;34m\u001B[0m\u001B[0;34m\u001B[0m\u001B[0m\n\u001B[1;32m   1219\u001B[0m   \u001B[0;32mwith\u001B[0m \u001B[0mmaybe_new_sublevel\u001B[0m\u001B[0;34m(\u001B[0m\u001B[0mtop_trace\u001B[0m\u001B[0;34m)\u001B[0m\u001B[0;34m:\u001B[0m\u001B[0;34m\u001B[0m\u001B[0;34m\u001B[0m\u001B[0m\n\u001B[0;32m-> 1220\u001B[0;31m     \u001B[0mouts\u001B[0m \u001B[0;34m=\u001B[0m \u001B[0mprimitive\u001B[0m\u001B[0;34m.\u001B[0m\u001B[0mprocess\u001B[0m\u001B[0;34m(\u001B[0m\u001B[0mtop_trace\u001B[0m\u001B[0;34m,\u001B[0m \u001B[0mfun\u001B[0m\u001B[0;34m,\u001B[0m \u001B[0mtracers\u001B[0m\u001B[0;34m,\u001B[0m \u001B[0mparams\u001B[0m\u001B[0;34m)\u001B[0m\u001B[0;34m\u001B[0m\u001B[0;34m\u001B[0m\u001B[0m\n\u001B[0m\u001B[1;32m   1221\u001B[0m   \u001B[0;32mreturn\u001B[0m \u001B[0mmap\u001B[0m\u001B[0;34m(\u001B[0m\u001B[0mfull_lower\u001B[0m\u001B[0;34m,\u001B[0m \u001B[0mapply_todos\u001B[0m\u001B[0;34m(\u001B[0m\u001B[0menv_trace_todo\u001B[0m\u001B[0;34m(\u001B[0m\u001B[0;34m)\u001B[0m\u001B[0;34m,\u001B[0m \u001B[0mouts\u001B[0m\u001B[0;34m)\u001B[0m\u001B[0;34m)\u001B[0m\u001B[0;34m\u001B[0m\u001B[0;34m\u001B[0m\u001B[0m\n\u001B[1;32m   1222\u001B[0m \u001B[0;34m\u001B[0m\u001B[0m\n",
      "\u001B[0;32m~/Workspace/.conda/envs/gknet-benchmarks/lib/python3.9/site-packages/jax/core.py\u001B[0m in \u001B[0;36mprocess\u001B[0;34m(self, trace, fun, tracers, params)\u001B[0m\n\u001B[1;32m   1230\u001B[0m \u001B[0;34m\u001B[0m\u001B[0m\n\u001B[1;32m   1231\u001B[0m   \u001B[0;32mdef\u001B[0m \u001B[0mprocess\u001B[0m\u001B[0;34m(\u001B[0m\u001B[0mself\u001B[0m\u001B[0;34m,\u001B[0m \u001B[0mtrace\u001B[0m\u001B[0;34m,\u001B[0m \u001B[0mfun\u001B[0m\u001B[0;34m,\u001B[0m \u001B[0mtracers\u001B[0m\u001B[0;34m,\u001B[0m \u001B[0mparams\u001B[0m\u001B[0;34m)\u001B[0m\u001B[0;34m:\u001B[0m\u001B[0;34m\u001B[0m\u001B[0;34m\u001B[0m\u001B[0m\n\u001B[0;32m-> 1232\u001B[0;31m     \u001B[0;32mreturn\u001B[0m \u001B[0mtrace\u001B[0m\u001B[0;34m.\u001B[0m\u001B[0mprocess_call\u001B[0m\u001B[0;34m(\u001B[0m\u001B[0mself\u001B[0m\u001B[0;34m,\u001B[0m \u001B[0mfun\u001B[0m\u001B[0;34m,\u001B[0m \u001B[0mtracers\u001B[0m\u001B[0;34m,\u001B[0m \u001B[0mparams\u001B[0m\u001B[0;34m)\u001B[0m\u001B[0;34m\u001B[0m\u001B[0;34m\u001B[0m\u001B[0m\n\u001B[0m\u001B[1;32m   1233\u001B[0m \u001B[0;34m\u001B[0m\u001B[0m\n\u001B[1;32m   1234\u001B[0m   \u001B[0;32mdef\u001B[0m \u001B[0mpost_process\u001B[0m\u001B[0;34m(\u001B[0m\u001B[0mself\u001B[0m\u001B[0;34m,\u001B[0m \u001B[0mtrace\u001B[0m\u001B[0;34m,\u001B[0m \u001B[0mout_tracers\u001B[0m\u001B[0;34m,\u001B[0m \u001B[0mparams\u001B[0m\u001B[0;34m)\u001B[0m\u001B[0;34m:\u001B[0m\u001B[0;34m\u001B[0m\u001B[0;34m\u001B[0m\u001B[0m\n",
      "\u001B[0;32m~/Workspace/.conda/envs/gknet-benchmarks/lib/python3.9/site-packages/jax/core.py\u001B[0m in \u001B[0;36mprocess_call\u001B[0;34m(self, primitive, f, tracers, params)\u001B[0m\n\u001B[1;32m    596\u001B[0m \u001B[0;34m\u001B[0m\u001B[0m\n\u001B[1;32m    597\u001B[0m   \u001B[0;32mdef\u001B[0m \u001B[0mprocess_call\u001B[0m\u001B[0;34m(\u001B[0m\u001B[0mself\u001B[0m\u001B[0;34m,\u001B[0m \u001B[0mprimitive\u001B[0m\u001B[0;34m,\u001B[0m \u001B[0mf\u001B[0m\u001B[0;34m,\u001B[0m \u001B[0mtracers\u001B[0m\u001B[0;34m,\u001B[0m \u001B[0mparams\u001B[0m\u001B[0;34m)\u001B[0m\u001B[0;34m:\u001B[0m\u001B[0;34m\u001B[0m\u001B[0;34m\u001B[0m\u001B[0m\n\u001B[0;32m--> 598\u001B[0;31m     \u001B[0;32mreturn\u001B[0m \u001B[0mprimitive\u001B[0m\u001B[0;34m.\u001B[0m\u001B[0mimpl\u001B[0m\u001B[0;34m(\u001B[0m\u001B[0mf\u001B[0m\u001B[0;34m,\u001B[0m \u001B[0;34m*\u001B[0m\u001B[0mtracers\u001B[0m\u001B[0;34m,\u001B[0m \u001B[0;34m**\u001B[0m\u001B[0mparams\u001B[0m\u001B[0;34m)\u001B[0m\u001B[0;34m\u001B[0m\u001B[0;34m\u001B[0m\u001B[0m\n\u001B[0m\u001B[1;32m    599\u001B[0m   \u001B[0mprocess_map\u001B[0m \u001B[0;34m=\u001B[0m \u001B[0mprocess_call\u001B[0m\u001B[0;34m\u001B[0m\u001B[0;34m\u001B[0m\u001B[0m\n\u001B[1;32m    600\u001B[0m \u001B[0;34m\u001B[0m\u001B[0m\n",
      "\u001B[0;32m~/Workspace/.conda/envs/gknet-benchmarks/lib/python3.9/site-packages/jax/interpreters/xla.py\u001B[0m in \u001B[0;36m_xla_call_impl\u001B[0;34m(fun, device, backend, name, donated_invars, *args)\u001B[0m\n\u001B[1;32m    570\u001B[0m                                *unsafe_map(arg_spec, args))\n\u001B[1;32m    571\u001B[0m   \u001B[0;32mtry\u001B[0m\u001B[0;34m:\u001B[0m\u001B[0;34m\u001B[0m\u001B[0;34m\u001B[0m\u001B[0m\n\u001B[0;32m--> 572\u001B[0;31m     \u001B[0;32mreturn\u001B[0m \u001B[0mcompiled_fun\u001B[0m\u001B[0;34m(\u001B[0m\u001B[0;34m*\u001B[0m\u001B[0margs\u001B[0m\u001B[0;34m)\u001B[0m\u001B[0;34m\u001B[0m\u001B[0;34m\u001B[0m\u001B[0m\n\u001B[0m\u001B[1;32m    573\u001B[0m   \u001B[0;32mexcept\u001B[0m \u001B[0mFloatingPointError\u001B[0m\u001B[0;34m:\u001B[0m\u001B[0;34m\u001B[0m\u001B[0;34m\u001B[0m\u001B[0m\n\u001B[1;32m    574\u001B[0m     \u001B[0;32massert\u001B[0m \u001B[0mFLAGS\u001B[0m\u001B[0;34m.\u001B[0m\u001B[0mjax_debug_nans\u001B[0m  \u001B[0;31m# compiled_fun can only raise in this case\u001B[0m\u001B[0;34m\u001B[0m\u001B[0;34m\u001B[0m\u001B[0m\n",
      "\u001B[0;32m~/Workspace/.conda/envs/gknet-benchmarks/lib/python3.9/site-packages/jax/interpreters/xla.py\u001B[0m in \u001B[0;36m_execute_compiled\u001B[0;34m(compiled, avals, handlers, *args)\u001B[0m\n\u001B[1;32m    828\u001B[0m   \u001B[0mdevice\u001B[0m\u001B[0;34m,\u001B[0m \u001B[0;34m=\u001B[0m \u001B[0mcompiled\u001B[0m\u001B[0;34m.\u001B[0m\u001B[0mlocal_devices\u001B[0m\u001B[0;34m(\u001B[0m\u001B[0;34m)\u001B[0m\u001B[0;34m\u001B[0m\u001B[0;34m\u001B[0m\u001B[0m\n\u001B[1;32m    829\u001B[0m   \u001B[0minput_bufs\u001B[0m \u001B[0;34m=\u001B[0m \u001B[0mlist\u001B[0m\u001B[0;34m(\u001B[0m\u001B[0mit\u001B[0m\u001B[0;34m.\u001B[0m\u001B[0mchain\u001B[0m\u001B[0;34m.\u001B[0m\u001B[0mfrom_iterable\u001B[0m\u001B[0;34m(\u001B[0m\u001B[0mdevice_put\u001B[0m\u001B[0;34m(\u001B[0m\u001B[0mx\u001B[0m\u001B[0;34m,\u001B[0m \u001B[0mdevice\u001B[0m\u001B[0;34m)\u001B[0m \u001B[0;32mfor\u001B[0m \u001B[0mx\u001B[0m \u001B[0;32min\u001B[0m \u001B[0margs\u001B[0m \u001B[0;32mif\u001B[0m \u001B[0mx\u001B[0m \u001B[0;32mis\u001B[0m \u001B[0;32mnot\u001B[0m \u001B[0mtoken\u001B[0m\u001B[0;34m)\u001B[0m\u001B[0;34m)\u001B[0m\u001B[0;34m\u001B[0m\u001B[0;34m\u001B[0m\u001B[0m\n\u001B[0;32m--> 830\u001B[0;31m   \u001B[0mout_bufs\u001B[0m \u001B[0;34m=\u001B[0m \u001B[0mcompiled\u001B[0m\u001B[0;34m.\u001B[0m\u001B[0mexecute\u001B[0m\u001B[0;34m(\u001B[0m\u001B[0minput_bufs\u001B[0m\u001B[0;34m)\u001B[0m\u001B[0;34m\u001B[0m\u001B[0;34m\u001B[0m\u001B[0m\n\u001B[0m\u001B[1;32m    831\u001B[0m   \u001B[0;32mif\u001B[0m \u001B[0mFLAGS\u001B[0m\u001B[0;34m.\u001B[0m\u001B[0mjax_debug_nans\u001B[0m\u001B[0;34m:\u001B[0m \u001B[0mcheck_nans\u001B[0m\u001B[0;34m(\u001B[0m\u001B[0mxla_call_p\u001B[0m\u001B[0;34m,\u001B[0m \u001B[0mout_bufs\u001B[0m\u001B[0;34m)\u001B[0m\u001B[0;34m\u001B[0m\u001B[0;34m\u001B[0m\u001B[0m\n\u001B[1;32m    832\u001B[0m   \u001B[0;32mreturn\u001B[0m \u001B[0;34m[\u001B[0m\u001B[0mhandler\u001B[0m\u001B[0;34m(\u001B[0m\u001B[0;34m*\u001B[0m\u001B[0mbs\u001B[0m\u001B[0;34m)\u001B[0m \u001B[0;32mfor\u001B[0m \u001B[0mhandler\u001B[0m\u001B[0;34m,\u001B[0m \u001B[0mbs\u001B[0m \u001B[0;32min\u001B[0m \u001B[0mzip\u001B[0m\u001B[0;34m(\u001B[0m\u001B[0mhandlers\u001B[0m\u001B[0;34m,\u001B[0m \u001B[0m_partition_outputs\u001B[0m\u001B[0;34m(\u001B[0m\u001B[0mavals\u001B[0m\u001B[0;34m,\u001B[0m \u001B[0mout_bufs\u001B[0m\u001B[0;34m)\u001B[0m\u001B[0;34m)\u001B[0m\u001B[0;34m]\u001B[0m\u001B[0;34m\u001B[0m\u001B[0;34m\u001B[0m\u001B[0m\n",
      "\u001B[0;31mRuntimeError\u001B[0m: Resource exhausted: Out of memory while trying to allocate 23708160000 bytes."
     ]
    }
   ],
   "source": [
    "sigma = 3.4\n",
    "epsilon = 10.42\n",
    "r_cutoff = 10.54 / sigma\n",
    "r_onset = 8 / sigma\n",
    "\n",
    "neighbor_fn, energy_fn = energy.lennard_jones_neighbor_list(displacement,\n",
    "                                                            box_size,\n",
    "                                                            sigma=sigma,\n",
    "                                                            epsilon=epsilon,\n",
    "                                                            r_cutoff=r_cutoff,\n",
    "                                                            r_onset=r_onset,\n",
    "                                                            dr_threshold=1.)\n",
    "\n",
    "energy_fn = jit(energy_fn)\n",
    "displacement = jit(displacement)\n",
    "\n",
    "nbrs = neighbor_fn(R)\n",
    "energy_fn(R, neighbor=nbrs)"
   ]
  },
  {
   "cell_type": "code",
   "execution_count": null,
   "id": "correct-zambia",
   "metadata": {},
   "outputs": [],
   "source": []
  }
 ],
 "metadata": {
  "kernelspec": {
   "display_name": "gknet-benchmarks",
   "language": "python",
   "name": "gknet-benchmarks"
  },
  "language_info": {
   "codemirror_mode": {
    "name": "ipython",
    "version": 3
   },
   "file_extension": ".py",
   "mimetype": "text/x-python",
   "name": "python",
   "nbconvert_exporter": "python",
   "pygments_lexer": "ipython3",
   "version": "3.9.1"
  }
 },
 "nbformat": 4,
 "nbformat_minor": 5
}