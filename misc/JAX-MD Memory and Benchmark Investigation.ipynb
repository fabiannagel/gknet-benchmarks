{
 "cells": [
  {
   "cell_type": "code",
   "execution_count": 1,
   "id": "latin-search",
   "metadata": {},
   "outputs": [],
   "source": [
    "import sys\n",
    "if not '/home/pop518504/git/gknet-benchmarks' in sys.path:\n",
    "    sys.path.insert(0, '/home/pop518504/git/gknet-benchmarks')\n",
    "\n",
    "from jax_md import space, energy, quantity\n",
    "\n",
    "import jax.numpy as jnp\n",
    "from jax import grad, random, jit, device_put\n",
    "from jax.config import config\n",
    "config.update(\"jax_enable_x64\", True)\n",
    "import numpy as np"
   ]
  },
  {
   "cell_type": "markdown",
   "id": "medieval-index",
   "metadata": {},
   "source": [
    "# Asynchronous dispatch\n",
    "- Without explicit intervention, `JAX` will asynchronously dispatch the computation to the GPU.\n",
    "- Even without `jit`, the first call includes compilation cost to `XLA`.\n",
    "- The second call uses the already compiled `XLA` code and is much faster.\n",
    "\n"
   ]
  },
  {
   "cell_type": "code",
   "execution_count": 2,
   "id": "exclusive-popularity",
   "metadata": {},
   "outputs": [
    {
     "name": "stdout",
     "output_type": "stream",
     "text": [
      "CPU times: user 169 ms, sys: 992 ms, total: 1.16 s\n",
      "Wall time: 1.34 s\n"
     ]
    }
   ],
   "source": [
    "A_np = np.random.rand(1000, 1000)\n",
    "\n",
    "# X = random.uniform(random.PRNGKey(0), (1000, 1000))\n",
    "%time A = device_put(A_np)  # measure JAX device transfer time"
   ]
  },
  {
   "cell_type": "code",
   "execution_count": 3,
   "id": "vanilla-donor",
   "metadata": {},
   "outputs": [
    {
     "name": "stdout",
     "output_type": "stream",
     "text": [
      "CPU times: user 196 ms, sys: 98.7 ms, total: 295 ms\n",
      "Wall time: 506 ms\n",
      "CPU times: user 605 µs, sys: 698 µs, total: 1.3 ms\n",
      "Wall time: 1.07 ms\n"
     ]
    }
   ],
   "source": [
    "%time M = jnp.dot(A, A).block_until_ready()\n",
    "%time M = jnp.dot(A, A).block_until_ready()"
   ]
  },
  {
   "cell_type": "markdown",
   "id": "alive-vintage",
   "metadata": {},
   "source": [
    "- No caching happens\n",
    "- However, compiled code is dependent on shape and data type such that it can be easily fooled for caching mechanisms (\"JAX re-runs the Python function when the type or shape of the argument changes\").\n",
    "- The first call with $M = A \\cdot B$ uses the same already compiled code as the previous computation of $M = A \\cdot A$ and thus achieves similar performance.\n"
   ]
  },
  {
   "cell_type": "code",
   "execution_count": 4,
   "id": "victorian-bacteria",
   "metadata": {},
   "outputs": [
    {
     "name": "stdout",
     "output_type": "stream",
     "text": [
      "CPU times: user 1.7 ms, sys: 1.96 ms, total: 3.65 ms\n",
      "Wall time: 2.5 ms\n",
      "CPU times: user 1.24 ms, sys: 0 ns, total: 1.24 ms\n",
      "Wall time: 877 µs\n"
     ]
    }
   ],
   "source": [
    "B_np = np.random.rand(1000, 1000)\n",
    "B = device_put(B_np)\n",
    "\n",
    "%time M = jnp.dot(A, B).block_until_ready()\n",
    "%time M = jnp.dot(A, B).block_until_ready()"
   ]
  },
  {
   "cell_type": "code",
   "execution_count": 5,
   "id": "offshore-palace",
   "metadata": {},
   "outputs": [
    {
     "name": "stdout",
     "output_type": "stream",
     "text": [
      "CPU times: user 18.6 ms, sys: 0 ns, total: 18.6 ms\n",
      "Wall time: 16.5 ms\n",
      "CPU times: user 1.12 ms, sys: 393 µs, total: 1.51 ms\n",
      "Wall time: 887 µs\n"
     ]
    }
   ],
   "source": [
    "C_np = np.random.rand(999, 999)\n",
    "C = device_put(C_np)\n",
    "\n",
    "%time M = jnp.dot(C, C).block_until_ready()\n",
    "%time M = jnp.dot(C, C).block_until_ready()"
   ]
  },
  {
   "cell_type": "code",
   "execution_count": null,
   "id": "organizational-belgium",
   "metadata": {},
   "outputs": [],
   "source": []
  }
 ],
 "metadata": {
  "kernelspec": {
   "display_name": "gknet-benchmarks",
   "language": "python",
   "name": "gknet-benchmarks"
  },
  "language_info": {
   "codemirror_mode": {
    "name": "ipython",
    "version": 3
   },
   "file_extension": ".py",
   "mimetype": "text/x-python",
   "name": "python",
   "nbconvert_exporter": "python",
   "pygments_lexer": "ipython3",
   "version": "3.9.1"
  }
 },
 "nbformat": 4,
 "nbformat_minor": 5
}
