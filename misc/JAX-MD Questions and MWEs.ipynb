{
 "cells": [
  {
   "cell_type": "code",
   "execution_count": 1,
   "id": "forced-sarah",
   "metadata": {},
   "outputs": [],
   "source": [
    "from ase.atoms import Atoms\n",
    "from ase.build import bulk\n",
    "from ase.md.velocitydistribution import MaxwellBoltzmannDistribution, Stationary\n",
    "from ase.calculators.lj import LennardJones"
   ]
  },
  {
   "cell_type": "code",
   "execution_count": 5,
   "id": "french-account",
   "metadata": {},
   "outputs": [],
   "source": [
    "def initialize_cubic_argon(multiplier=5, sigma=2.0, epsilon=1.5, rc=10.0, ro=6.0, temperature_K: int = 30) -> Atoms:\n",
    "    atoms = bulk(\"Ar\", cubic=True) * [multiplier, multiplier, multiplier]\n",
    "    MaxwellBoltzmannDistribution(atoms, temperature_K=temperature_K)\n",
    "    Stationary(atoms)\n",
    "    atoms.calc = LennardJones(sigma=sigma, epsilon=epsilon, rc=rc, ro=ro, smooth=True)\n",
    "    return atoms"
   ]
  },
  {
   "cell_type": "code",
   "execution_count": null,
   "id": "unlimited-intermediate",
   "metadata": {},
   "outputs": [],
   "source": [
    "atoms = initialize_cubic_argon()\n",
    "n = len(atoms"
   ]
  },
  {
   "cell_type": "markdown",
   "id": "abstract-sector",
   "metadata": {},
   "source": [
    "## Influence of `batch_size`\n",
    "- Within JAX-MD simulations, let's call the number of steps that are dispatched to XLA in one chunk `batch_size`.\n",
    "- e.g. `steps = 1000`, `batch_size = 5`\n",
    "  - We perform 1000 MD steps total\n",
    "  - We do these 1000 steps in batches of 5, i.e. `lax.fori_loop(0, 5, step_fn, (state, neighbors))`\n",
    "  - Every 5 steps we return to Python, for example to check for neighbor list overflows\n",
    "  \n",
    "- A smaller `batch_size` results in more context switches between XLA and Python\n",
    "- "
   ]
  },
  {
   "cell_type": "code",
   "execution_count": null,
   "id": "planned-annex",
   "metadata": {},
   "outputs": [],
   "source": []
  }
 ],
 "metadata": {
  "kernelspec": {
   "display_name": "gknet-benchmarks",
   "language": "python",
   "name": "gknet-benchmarks"
  },
  "language_info": {
   "codemirror_mode": {
    "name": "ipython",
    "version": 3
   },
   "file_extension": ".py",
   "mimetype": "text/x-python",
   "name": "python",
   "nbconvert_exporter": "python",
   "pygments_lexer": "ipython3",
   "version": "3.9.1"
  }
 },
 "nbformat": 4,
 "nbformat_minor": 5
}
