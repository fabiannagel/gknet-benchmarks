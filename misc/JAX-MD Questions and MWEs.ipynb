{
 "cells": [
  {
   "cell_type": "code",
   "execution_count": null,
   "id": "forced-sarah",
   "metadata": {},
   "outputs": [],
   "source": [
    "import os, sys\n",
    "import time\n",
    "from typing import List\n",
    "\n",
    "import jax.config\n",
    "import numpy as np\n",
    "from ase import units\n",
    "from jax import jit, lax\n",
    "from jax_md import space, energy, simulate\n",
    "from jax_md.simulate import NVEState\n",
    "jax.config.update(\"jax_enable_x64\", True)\n",
    "\n",
    "cwd = os.path.abspath('')\n",
    "root_dir = os.path.dirname(cwd)\n",
    "if not root_dir in sys.path: sys.path.append(root_dir)\n",
    "\n",
    "import jax_utils\n",
    "from ase.atoms import Atoms\n",
    "from ase.build import bulk\n",
    "from ase.md.velocitydistribution import MaxwellBoltzmannDistribution, Stationary\n",
    "from ase.calculators.lj import LennardJones"
   ]
  },
  {
   "cell_type": "markdown",
   "id": "abstract-sector",
   "metadata": {},
   "source": [
    "## Influence of `batch_size`\n",
    "- Simulations in JAX-MD are dispatched to XLA to asynchronously run on accelerators.\n",
    "- However, certain cases require that we periodically return to Python to perform other tasks, e.g. checking for\n",
    "  neighbor list overflows or persisting intermediate results.\n",
    "- Let's call the number of MD steps that are dispatched to XLA in one chunk `batch_size`.\n",
    "- `steps = 1000`, `batch_size = 5`\n",
    "  - We perform 1000 MD steps total\n",
    "  - We dispatch these to XLA in chunks of 5 steps at a time:\n",
    "    ```\n",
    "    i = 0\n",
    "    while i < 1000:\n",
    "        state, neighbors = lax.fori_loop(0, 5, step_fn, (state, neighbors))\n",
    "\n",
    "        # do some work: check for NL overflows & recompute\n",
    "        if neighbors.did_buffer_overflow:\n",
    "            neighbors = neighbor_fn(state.position)\n",
    "            print(\"Steps {}/{}: Neighbor list overflow, recomputing...\".format(i, steps))\n",
    "            continue\n",
    "\n",
    "        i += 5\n",
    "    ```\n",
    "\n",
    "- `batch_size` seems to be a sensible hyperparameter for MD simulations.\n",
    "  1. Larger values of `batch_size` should increase performance as it lowers the number of (slow) context switches\n",
    "     between Python and XLA.\n",
    "  2. However, it also implies less frequent checks for neighbor list overflows. This enlarges the amount of time\n",
    "     during which an overflow can go unnoticed, potentially distorting results.\n",
    "\n",
    "The following cells implement a NVE simulation on Lennard-Jones Argon to investigate hypothesis i. We will be using\n",
    "ASE units to stay in their well-defined unit system.\n",
    "\n",
    "### Initialization"
   ]
  },
  {
   "cell_type": "code",
   "execution_count": null,
   "id": "planned-annex",
   "metadata": {},
   "outputs": [],
   "source": [
    "def initialize_cubic_argon(multiplier=5, temperature_K: int = 30) -> Atoms:\n",
    "    atoms = bulk(\"Ar\", cubic=True) * [multiplier, multiplier, multiplier]\n",
    "    MaxwellBoltzmannDistribution(atoms, temperature_K=temperature_K)\n",
    "    Stationary(atoms)\n",
    "    atoms.calc = LennardJones(sigma=sigma, epsilon=epsilon, rc=rc, ro=ro, smooth=True)\n",
    "    return atoms\n",
    "\n",
    "sigma = 2.0\n",
    "epsilon = 1.5\n",
    "rc = 10.0\n",
    "ro = 6.0\n",
    "dt = 5 * units.fs\n",
    "\n",
    "atoms = initialize_cubic_argon(multiplier=10)\n",
    "print(\"Initialized cubic Argon, n = {}\".format(len(atoms)))"
   ]
  },
  {
   "cell_type": "markdown",
   "source": [
    "### Some helpers for benchmarking & ASE initialization"
   ],
   "metadata": {
    "collapsed": false,
    "pycharm": {
     "name": "#%% md\n"
    }
   }
  },
  {
   "cell_type": "code",
   "execution_count": null,
   "outputs": [],
   "source": [
    "def get_initial_nve_state(atoms: Atoms) -> NVEState:\n",
    "    R = atoms.get_positions(wrap=True)\n",
    "    V = atoms.get_velocities()\n",
    "    forces = atoms.get_forces()\n",
    "    masses = atoms.get_masses()[0]\n",
    "    return NVEState(R, V, forces, masses)\n",
    "\n",
    "def get_milliseconds(start_time: float) -> float:\n",
    "    return round((time.monotonic() - start_time) * 1000, 2)\n",
    "\n",
    "def get_mean_step_time(batch_times: List[float], batch_size: int) -> float:\n",
    "    return round(np.mean([bt/batch_size for bt in batch_times]), 2)"
   ],
   "metadata": {
    "collapsed": false,
    "pycharm": {
     "name": "#%%\n"
    }
   }
  },
  {
   "cell_type": "markdown",
   "source": [
    "### NVE Simulation Routine\n"
   ],
   "metadata": {
    "collapsed": false,
    "pycharm": {
     "name": "#%% md\n"
    }
   }
  },
  {
   "cell_type": "code",
   "execution_count": null,
   "outputs": [],
   "source": [
    "def run_nve(atoms: Atoms, steps: int, batch_size: int):\n",
    "\n",
    "    @jit\n",
    "    def step_fn(i, state):\n",
    "        state, neighbors = state\n",
    "        neighbors = neighbor_fn(state.position, neighbors)\n",
    "        state = apply_fn(state, neighbor=neighbors)\n",
    "        return state, neighbors\n",
    "\n",
    "    batch_times = []\n",
    "\n",
    "    # setup displacement\n",
    "    box = atoms.get_cell().array\n",
    "    displacement_fn, shift_fn = space.periodic_general(box, fractional_coordinates=False)\n",
    "\n",
    "    # normalize LJ parameters and setup NL energy function\n",
    "    normalized_ro = ro / sigma\n",
    "    normalized_rc = rc / sigma\n",
    "    neighbor_fn, energy_fn = energy.lennard_jones_neighbor_list(displacement_fn, box,\n",
    "                                                                sigma=sigma,\n",
    "                                                                epsilon=epsilon,\n",
    "                                                                r_onset=normalized_ro,\n",
    "                                                                r_cutoff=normalized_rc,\n",
    "                                                                dr_threshold=1 * units.Angstrom)\n",
    "    energy_fn = jit(energy_fn)\n",
    "\n",
    "    # compute initial neighbor list\n",
    "    R = atoms.get_positions(wrap=True)\n",
    "    neighbors = neighbor_fn(R)\n",
    "\n",
    "    # compute initial state & setup NVE\n",
    "    state = get_initial_nve_state(atoms)\n",
    "    _, apply_fn = simulate.nve(energy_fn, shift_fn, dt=dt)\n",
    "\n",
    "    # run MD loop\n",
    "    i = 0\n",
    "    while i < steps:\n",
    "        batch_start_time = time.monotonic()\n",
    "        state, neighbors = lax.fori_loop(0, batch_size, step_fn, (state, neighbors))\n",
    "\n",
    "        if neighbors.did_buffer_overflow:\n",
    "            neighbors = neighbor_fn(state.position)\n",
    "            print(\"Steps {}/{}: Neighbor list overflow, recomputing...\".format(i, steps))\n",
    "            continue\n",
    "\n",
    "        batch_times += [get_milliseconds(batch_start_time)]\n",
    "        i += batch_size\n",
    "\n",
    "    return get_mean_step_time(batch_times, batch_size)"
   ],
   "metadata": {
    "collapsed": false,
    "pycharm": {
     "name": "#%%\n"
    }
   }
  },
  {
   "cell_type": "markdown",
   "source": [
    "Let's run NVE simulations with `steps = 5000` and different `batch_sizes = [10, 100, 500, 1000]`."
   ],
   "metadata": {
    "collapsed": false,
    "pycharm": {
     "name": "#%% md\n"
    }
   }
  },
  {
   "cell_type": "code",
   "execution_count": null,
   "outputs": [],
   "source": [
    "for bs in [10, 100, 500, 1000]:\n",
    "    atoms = initialize_cubic_argon(multiplier=10)\n",
    "    print(\"Initialized cubic Argon, n = {}\".format(len(atoms)))\n",
    "\n",
    "    mean_step_time = run_nve(atoms, steps=5000, batch_size=bs)\n",
    "    print(\"batch_size = {:<4} \\t\\t average ms/step = {}\\n\".format(bs, mean_step_time))\n"
   ],
   "metadata": {
    "collapsed": false,
    "pycharm": {
     "name": "#%%\n"
    }
   }
  },
  {
   "cell_type": "markdown",
   "source": [
    "### Results\n",
    "\n",
    "| steps | batch_size | average ms/step |\n",
    "| ----- | ---------- | --------------- |\n",
    "| 5000  | 10         | 33.34 |\n",
    "| 5000  | 100        | 33.35 |\n",
    "| 5000  | 500        | .844 |\n",
    "| 5000  | 1000       | .844 |"
   ],
   "metadata": {
    "collapsed": false,
    "pycharm": {
     "name": "#%% md\n"
    }
   }
  },
  {
   "cell_type": "code",
   "execution_count": null,
   "outputs": [],
   "source": [],
   "metadata": {
    "collapsed": false,
    "pycharm": {
     "name": "#%%\n"
    }
   }
  }
 ],
 "metadata": {
  "kernelspec": {
   "display_name": "gknet-benchmarks",
   "language": "python",
   "name": "gknet-benchmarks"
  },
  "language_info": {
   "codemirror_mode": {
    "name": "ipython",
    "version": 3
   },
   "file_extension": ".py",
   "mimetype": "text/x-python",
   "name": "python",
   "nbconvert_exporter": "python",
   "pygments_lexer": "ipython3",
   "version": "3.9.1"
  }
 },
 "nbformat": 4,
 "nbformat_minor": 5
}