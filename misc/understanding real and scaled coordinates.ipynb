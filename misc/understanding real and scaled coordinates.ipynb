{
 "cells": [
  {
   "cell_type": "markdown",
   "id": "selective-turning",
   "metadata": {},
   "source": [
    "## Context\n",
    "- Comparing ASE and JAX-MD output to ensure correctness\n",
    "- Lennard-Jones Pair energy output is equal, but not the forces. Stress probably also mismatched.\n",
    "- Unknown: Did the error exist before or did the new `periodic_general()` cause this? Probably the latter.\n",
    "- We initialize JAX-MD via ASE, so most likely the error is in `asax.utils.get_displacement()` to convert from real coordinates (ASE) to relative coordinates (JAX-MD)."
   ]
  },
  {
   "cell_type": "code",
   "execution_count": 1,
   "id": "bizarre-spine",
   "metadata": {},
   "outputs": [],
   "source": [
    "import numpy as np\n",
    "import jax.numpy as jnp\n",
    "from ase import Atoms\n",
    "from ase.build import bulk\n",
    "from ase.calculators.lj import LennardJones\n",
    "# from asax.utils import get_displacement\n",
    "from jax_md import space, energy\n",
    "from periodic_general import periodic_general, inverse, transform\n",
    "from jax.config import config\n",
    "config.update(\"jax_enable_x64\", True)\n",
    "\n",
    "sigma = 2.0\n",
    "epsilon = 1.5\n",
    "rc = 11.0\n",
    "ro = 6.0"
   ]
  },
  {
   "cell_type": "code",
   "execution_count": 2,
   "id": "lyric-pastor",
   "metadata": {},
   "outputs": [],
   "source": [
    "atoms = bulk('Ar') * [2, 2, 2]\n",
    "atoms.calc = LennardJones(sigma=sigma, epsilon=epsilon, rc=rc, ro=ro)"
   ]
  },
  {
   "cell_type": "code",
   "execution_count": 3,
   "id": "acknowledged-illustration",
   "metadata": {},
   "outputs": [
    {
     "name": "stdout",
     "output_type": "stream",
     "text": [
      "[[0.   5.26 5.26]\n",
      " [5.26 0.   5.26]\n",
      " [5.26 5.26 0.  ]]\n"
     ]
    }
   ],
   "source": [
    "# why is this not a diagonal matrix?\n",
    "# --> this does not describe a cube, but a parallelepiped\n",
    "real_lattices = atoms.get_cell().array\n",
    "print(real_lattices)"
   ]
  },
  {
   "cell_type": "code",
   "execution_count": 4,
   "id": "cardiac-fossil",
   "metadata": {
    "scrolled": true
   },
   "outputs": [
    {
     "data": {
      "text/plain": [
       "array([[-1.75098651e-17,  1.74556550e-17, -3.08997619e-17],\n",
       "       [ 3.85298347e-17,  3.25802753e-17, -5.49853132e-16],\n",
       "       [-2.83112292e-17,  1.61383493e-16, -6.17182087e-16],\n",
       "       [ 2.77555756e-17, -2.60466019e-16, -4.39318720e-16],\n",
       "       [ 5.80861314e-17, -3.33229538e-16, -3.33175328e-16],\n",
       "       [-3.89635156e-17,  7.37528528e-17, -4.05112142e-16],\n",
       "       [ 4.28490251e-16, -3.98444298e-17, -6.67841433e-16],\n",
       "       [ 3.10949183e-16, -4.27175656e-17, -7.13405029e-17]])"
      ]
     },
     "execution_count": 4,
     "metadata": {},
     "output_type": "execute_result"
    }
   ],
   "source": [
    "# shouldn't this be all zeros, i.e. in equilibrium?\n",
    "atoms.get_forces()"
   ]
  },
  {
   "cell_type": "code",
   "execution_count": 5,
   "id": "protected-indian",
   "metadata": {},
   "outputs": [
    {
     "name": "stdout",
     "output_type": "stream",
     "text": [
      "[[0.   0.   0.  ]\n",
      " [2.63 2.63 0.  ]\n",
      " [2.63 0.   2.63]\n",
      " [5.26 2.63 2.63]\n",
      " [0.   2.63 2.63]\n",
      " [2.63 5.26 2.63]\n",
      " [2.63 2.63 5.26]\n",
      " [5.26 5.26 5.26]]\n"
     ]
    }
   ],
   "source": [
    "real_atom_positions = atoms.get_positions()\n",
    "print(real_atom_positions)"
   ]
  },
  {
   "cell_type": "markdown",
   "id": "portable-withdrawal",
   "metadata": {},
   "source": [
    "### Atomic distances in ASE\n",
    "- Real-valued input & output"
   ]
  },
  {
   "cell_type": "code",
   "execution_count": 6,
   "id": "charged-search",
   "metadata": {},
   "outputs": [
    {
     "data": {
      "text/plain": [
       "array([-2.63, -2.63,  0.  ])"
      ]
     },
     "execution_count": 6,
     "metadata": {},
     "output_type": "execute_result"
    }
   ],
   "source": [
    "# i.e. distance between atom indices 0 and 1\n",
    "atoms.get_distance(1, 0, vector=True)\n",
    "# order has to be 1, 0 for matching results"
   ]
  },
  {
   "cell_type": "markdown",
   "id": "removed-pillow",
   "metadata": {},
   "source": [
    "### Atomic distances in JAX-MD\n",
    "- Real-valued input using `ASE.atoms`\n",
    "- Transformation to scaled coordinates inside `displacement_fn`\n",
    "- Real-valued output"
   ]
  },
  {
   "cell_type": "code",
   "execution_count": 7,
   "id": "aging-employee",
   "metadata": {},
   "outputs": [],
   "source": [
    "# define two real-valued atomic position vectors\n",
    "Ra = np.array([0, 0, 0])\n",
    "Rb = np.array([2.63, 2.63, 0])"
   ]
  },
  {
   "cell_type": "markdown",
   "id": "freelance-pricing",
   "metadata": {},
   "source": [
    "What `asax` does: mapping real coordinates to scaled coordinates"
   ]
  },
  {
   "cell_type": "code",
   "execution_count": 16,
   "id": "mature-primary",
   "metadata": {},
   "outputs": [
    {
     "name": "stdout",
     "output_type": "stream",
     "text": [
      "[[0.   5.26 5.26]\n",
      " [5.26 0.   5.26]\n",
      " [5.26 5.26 0.  ]]\n"
     ]
    }
   ],
   "source": [
    "cell = atoms.get_cell().array         # ASE's real coordinate parallelopiped\n",
    "\n",
    "box = atoms.get_cell().array * np.eye(3)\n",
    "print(cell)\n",
    "\n",
    "inverse = space._small_inverse(cell)  # compute the inverse\n",
    "\n",
    "\n",
    "scaled_coordinates_displacement_fn, _ = periodic_general(cell)\n",
    "\n",
    "def displacement_fn(Ra_real: space.Array, Rb_real: space.Array, **unused_kwargs) -> space.Array:\n",
    "    Ra_scaled = transform(inverse, Ra_real)\n",
    "    Rb_scaled = transform(inverse, Rb_real)\n",
    "    return scaled_coordinates_displacement_fn(Ra_scaled, Rb_scaled)"
   ]
  },
  {
   "cell_type": "code",
   "execution_count": 9,
   "id": "computational-force",
   "metadata": {},
   "outputs": [
    {
     "name": "stdout",
     "output_type": "stream",
     "text": [
      "[-2.63 -2.63  0.  ]\n"
     ]
    }
   ],
   "source": [
    "displacement_real = displacement_fn(Ra, Rb)\n",
    "print(displacement_real)"
   ]
  }
 ],
 "metadata": {
  "kernelspec": {
   "display_name": "Python 3",
   "language": "python",
   "name": "python3"
  },
  "language_info": {
   "codemirror_mode": {
    "name": "ipython",
    "version": 3
   },
   "file_extension": ".py",
   "mimetype": "text/x-python",
   "name": "python",
   "nbconvert_exporter": "python",
   "pygments_lexer": "ipython3",
   "version": "3.9.1"
  }
 },
 "nbformat": 4,
 "nbformat_minor": 5
}
