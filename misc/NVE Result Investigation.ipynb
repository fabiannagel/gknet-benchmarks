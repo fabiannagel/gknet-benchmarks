{
 "cells": [
  {
   "cell_type": "code",
   "execution_count": 1,
   "id": "coordinate-industry",
   "metadata": {},
   "outputs": [],
   "source": [
    "import os\n",
    "from typing import List\n",
    "\n",
    "from ase.atoms import Atoms\n",
    "from ase.build import bulk\n",
    "from ase.calculators.lj import LennardJones\n",
    "from ase.md.velocitydistribution import MaxwellBoltzmannDistribution, Stationary\n",
    "from ase.md import VelocityVerlet\n",
    "from ase import units\n",
    "from ase.io import read, write\n",
    "from asax.lj import LennardJones as AsaxLennardJones\n",
    "import time\n",
    "import matplotlib.pyplot as plt\n",
    "import sklearn\n",
    "import numpy as np\n",
    "from jax import lax, config, jit\n",
    "from jax_md import simulate, space, energy\n",
    "from jax_md.simulate import NVEState\n",
    "config.update(\"jax_enable_x64\", True)"
   ]
  },
  {
   "cell_type": "code",
   "execution_count": 56,
   "id": "authentic-sheffield",
   "metadata": {},
   "outputs": [],
   "source": [
    "def initialize_cubic_argon(multiplier=5, sigma=2.0, epsilon=1.5, rc=10.0, ro=6.0, temperature_K: int = 30) -> Atoms:\n",
    "    atoms = bulk(\"Ar\", cubic=True) * [multiplier, multiplier, multiplier]\n",
    "    MaxwellBoltzmannDistribution(atoms, temperature_K=temperature_K)\n",
    "    Stationary(atoms)\n",
    "\n",
    "    atoms.calc = LennardJones(sigma=sigma, epsilon=epsilon, rc=rc, ro=ro, smooth=True)\n",
    "    return atoms\n",
    "\n",
    "def read_cubic_argon():\n",
    "    atoms = read(\"git/gknet-benchmarks/geometries/geometry.in\", format=\"aims\")\n",
    "    atoms.calc = LennardJones(sigma=2.0, epsilon=1.5, rc=10.0, ro=6.0, smooth=True)\n",
    "    return atoms\n",
    "\n",
    "def write_cubic_argon():\n",
    "    atoms = initialize_cubic_argon()\n",
    "    write(\"git/gknet-benchmarks/geometries/geometry.in\", atoms, velocities=True, format=\"aims\")\n",
    "    \n",
    "def get_initial_nve_state(atoms: Atoms) -> NVEState:\n",
    "    R = atoms.get_positions(wrapped=True)\n",
    "    V = atoms.get_velocities()\n",
    "    forces = atoms.get_forces()\n",
    "    masses = atoms.get_masses()[0]\n",
    "    return NVEState(R, V, forces, masses)\n",
    "\n",
    "def get_milliseconds(start_time: float) -> float:\n",
    "    return round((time.monotonic() - start_time) * 1000, 2)\n",
    "\n",
    "def get_mean_step_time(batch_times: List[float], batch_size: int) -> float:\n",
    "    return round(np.mean([bt/batch_size for bt in batch_times]), 2)\n",
    "\n",
    "def print_difference_metrics(positions_1: np.array, positions_2: np.array):\n",
    "    diff = positions_1 - positions_2\n",
    "    max_diff = np.max(diff)\n",
    "    sad = np.sum(np.abs(diff))\n",
    "    print(diff)\n",
    "    print(\"max diff: {}\".format(max_diff))\n",
    "    print(\"Sum of absolute differences: {}\".format(sad))"
   ]
  },
  {
   "cell_type": "code",
   "execution_count": 16,
   "id": "hungry-safety",
   "metadata": {},
   "outputs": [],
   "source": [
    "sigma = 2.0\n",
    "epsilon = 1.5\n",
    "rc = 10.0\n",
    "ro = 6.0\n",
    "\n",
    "dt = 5 * units.fs"
   ]
  },
  {
   "cell_type": "markdown",
   "id": "random-locator",
   "metadata": {},
   "source": [
    "# 1. NVE Simulations\n",
    "## 1.1 NVE in ASE"
   ]
  },
  {
   "cell_type": "code",
   "execution_count": 20,
   "id": "necessary-chart",
   "metadata": {},
   "outputs": [],
   "source": [
    "def run_ase_nve(atoms, steps, batch_size):\n",
    "    print(\"n = {}\".format(len(atoms)))\n",
    "    \n",
    "    positions = []\n",
    "    velocities = []\n",
    "    batch_times = []\n",
    "    \n",
    "    dyn = VelocityVerlet(atoms, timestep=dt)\n",
    "    \n",
    "    i = 0\n",
    "    while i < steps:\n",
    "        batch_start_time = time.monotonic()\n",
    "        dyn.run(batch_size)\n",
    "\n",
    "        batch_times += [get_milliseconds(batch_start_time)]\n",
    "        positions += [atoms.get_positions(wrapped=True)]\n",
    "        velocities += [atoms.get_velocities()]\n",
    "        i += batch_size\n",
    "        \n",
    "    mean_step_time = get_mean_step_time(batch_times, batch_size)\n",
    "    print(\"Average ms/step: {}\".format(mean_step_time))\n",
    "    \n",
    "    return np.array(positions), np.array(velocities)"
   ]
  },
  {
   "cell_type": "markdown",
   "id": "unavailable-scope",
   "metadata": {},
   "source": [
    "## 1.2 NVE in JAX-MD"
   ]
  },
  {
   "cell_type": "code",
   "execution_count": 79,
   "id": "official-ideal",
   "metadata": {},
   "outputs": [],
   "source": [
    "def run_jaxmd_nve(atoms, steps, batch_size):\n",
    "    print(\"n = {}\".format(len(atoms)))\n",
    "\n",
    "    @jit\n",
    "    def step_fn(i, state):\n",
    "        state, neighbors = state\n",
    "        neighbors = neighbor_fn(state.position, neighbors)\n",
    "        state = apply_fn(state, neighbor=neighbors)\n",
    "        return state, neighbors\n",
    "\n",
    "    positions = []\n",
    "    velocities = []\n",
    "    batch_times = []\n",
    "    \n",
    "    # setup displacement\n",
    "    box = atoms.get_cell().array\n",
    "    displacement_fn, shift_fn = space.periodic_general(box, fractional_coordinates=False)\n",
    "    \n",
    "    # normalize LJ parameters and setup NL energy function\n",
    "    normalized_ro = ro / sigma\n",
    "    normalized_rc = rc / sigma\n",
    "    neighbor_fn, energy_fn = energy.lennard_jones_neighbor_list(displacement_fn, box,\n",
    "                                                                sigma=sigma,\n",
    "                                                                epsilon=epsilon,\n",
    "                                                                r_onset=normalized_ro,\n",
    "                                                                r_cutoff=normalized_rc,\n",
    "                                                                dr_threshold=1 * units.Angstrom)\n",
    "    energy_fn = jit(energy_fn)\n",
    "    \n",
    "    # compute initial neighbor list\n",
    "    R = atoms.get_positions()\n",
    "    neighbors = neighbor_fn(R)\n",
    "    \n",
    "    # compute initial state & setup NVE\n",
    "    state = get_initial_nve_state(atoms)\n",
    "    _, apply_fn = simulate.nve(energy_fn, shift_fn, dt=dt)\n",
    " \n",
    "    # run MD loop\n",
    "    i = 0\n",
    "    while i < steps:\n",
    "        batch_start_time = time.monotonic()\n",
    "        state, neighbors = lax.fori_loop(0, batch_size, step_fn, (state, neighbors))\n",
    "\n",
    "        if neighbors.did_buffer_overflow:\n",
    "            neighbors = neighbor_fn(state.position)\n",
    "            print(\"Steps {}/{}: Neighbor list overflow, recomputing...\".format(i, steps))\n",
    "            continue\n",
    "            \n",
    "        batch_times += [get_milliseconds(batch_start_time)]\n",
    "\n",
    "        atoms.set_positions(state.position)\n",
    "        positions += [atoms.get_positions()]\n",
    "        velocities += [state.velocity]\n",
    "        i += batch_size\n",
    "\n",
    "\n",
    "    mean_step_time = get_mean_step_time(batch_times, batch_size)\n",
    "    print(\"Average ms/step: {}\".format(mean_step_time))\n",
    "\n",
    "    return np.array(positions), np.array(velocities)"
   ]
  },
  {
   "cell_type": "markdown",
   "id": "solid-investment",
   "metadata": {},
   "source": [
    "## 1.3 NVE in ASAX"
   ]
  },
  {
   "cell_type": "code",
   "execution_count": 93,
   "id": "danish-software",
   "metadata": {
    "scrolled": true
   },
   "outputs": [],
   "source": [
    "def run_asax_nve(atoms, steps, batch_size):\n",
    "    print(\"n = {}\".format(len(atoms)))\n",
    "    \n",
    "    positions = []\n",
    "    velocities = []\n",
    "    batch_times = []\n",
    "    \n",
    "    atoms.calc = AsaxLennardJones(epsilon, sigma, rc, ro, stress=False)\n",
    "    dyn = VelocityVerlet(atoms, timestep=dt)\n",
    "    \n",
    "    i = 0\n",
    "    while i < steps:\n",
    "        batch_start_time = time.monotonic()\n",
    "        dyn.run(batch_size)\n",
    "\n",
    "        batch_times += [get_milliseconds(batch_start_time)]\n",
    "        positions += [atoms.get_positions()]\n",
    "        velocities += [atoms.get_velocities()]\n",
    "        i += batch_size\n",
    "        \n",
    "    mean_step_time = round(np.mean([bt/batch_size for bt in batch_times]), 2)\n",
    "    print(\"Average ms/step: {}\".format(mean_step_time))\n",
    "    \n",
    "    return np.array(positions), np.array(velocities)"
   ]
  },
  {
   "cell_type": "markdown",
   "id": "incomplete-phoenix",
   "metadata": {},
   "source": [
    "# 2. Comparing atomic positions after 1 NVE step\n",
    "- Positions and velocities should be equal or very similar.\n",
    "- As a sanity check, we'll run two ASE simulations and compare their results first."
   ]
  },
  {
   "cell_type": "code",
   "execution_count": 94,
   "id": "threaded-explosion",
   "metadata": {
    "scrolled": true
   },
   "outputs": [
    {
     "name": "stdout",
     "output_type": "stream",
     "text": [
      "n = 500\n",
      "Average ms/step: 464.96\n",
      "n = 500\n",
      "Average ms/step: 549.61\n",
      "[[0. 0. 0.]\n",
      " [0. 0. 0.]\n",
      " [0. 0. 0.]\n",
      " ...\n",
      " [0. 0. 0.]\n",
      " [0. 0. 0.]\n",
      " [0. 0. 0.]]\n"
     ]
    }
   ],
   "source": [
    "ase_atoms = read_cubic_argon()\n",
    "run_ase_nve(ase_atoms, steps=1, batch_size=1)\n",
    "\n",
    "ase_atoms_2 = read_cubic_argon()\n",
    "run_ase_nve(ase_atoms_2, steps=1, batch_size=1)\n",
    "\n",
    "print(ase_atoms.get_positions() - ase_atoms_2.get_positions())"
   ]
  },
  {
   "cell_type": "markdown",
   "id": "sudden-length",
   "metadata": {},
   "source": [
    "Looks good! No positional differences after a single step.\n",
    "\n",
    "## 2.1 JAX-MD"
   ]
  },
  {
   "cell_type": "code",
   "execution_count": 95,
   "id": "executive-valley",
   "metadata": {
    "scrolled": true
   },
   "outputs": [
    {
     "name": "stdout",
     "output_type": "stream",
     "text": [
      "n = 500\n",
      "Average ms/step: 550.7\n"
     ]
    }
   ],
   "source": [
    "jax_atoms = read_cubic_argon()\n",
    "jax_positions, jax_velocities = run_jaxmd_nve(jax_atoms, steps=1, batch_size=1)\n",
    "\n",
    "jax_positions = jax_positions[0]\n",
    "jax_velocities = jax_velocities[0]\n",
    "\n",
    "jax_atoms.set_positions(jax_positions)"
   ]
  },
  {
   "cell_type": "markdown",
   "source": [
    "### 2.1.1 Positions\n",
    "#### No position wrapping"
   ],
   "metadata": {
    "collapsed": false,
    "pycharm": {
     "name": "#%% md\n"
    }
   }
  },
  {
   "cell_type": "code",
   "execution_count": 96,
   "outputs": [
    {
     "name": "stdout",
     "output_type": "stream",
     "text": [
      "[[-1.07388265e-11 -4.21484386e-12 -9.25449457e-11]\n",
      " [ 2.63000000e+01  3.36957129e-11 -3.37250228e-11]\n",
      " [-9.66862146e-11  2.63000000e+01 -4.32764935e-12]\n",
      " ...\n",
      " [ 9.04947228e-11 -6.74553746e-11  1.03490549e-11]\n",
      " [-2.06838990e-11  1.01938014e-10 -5.26370059e-11]\n",
      " [-6.49151843e-11  1.14479093e-10  1.09949383e-10]]\n",
      "max diff: 26.300000000113826\n",
      "Sum of absolute differences: 1709.5000000624268\n",
      "\n"
     ]
    }
   ],
   "source": [
    "print_difference_metrics(jax_positions, ase_atoms.get_positions())\n",
    "print()\n"
   ],
   "metadata": {
    "collapsed": false,
    "pycharm": {
     "name": "#%%\n"
    }
   }
  },
  {
   "cell_type": "markdown",
   "source": [
    "#### Wrap ASE positions"
   ],
   "metadata": {
    "collapsed": false,
    "pycharm": {
     "name": "#%% md\n"
    }
   }
  },
  {
   "cell_type": "code",
   "execution_count": 97,
   "outputs": [
    {
     "name": "stdout",
     "output_type": "stream",
     "text": [
      "[[-1.07388266e-11 -4.21484386e-12 -9.25449457e-11]\n",
      " [ 2.16147100e-11  3.36957129e-11 -3.37250228e-11]\n",
      " [-9.66862146e-11  4.55138149e-11 -4.32764935e-12]\n",
      " ...\n",
      " [ 9.04947228e-11 -6.74553746e-11  1.03490549e-11]\n",
      " [-2.06874518e-11  1.01938014e-10 -5.26370059e-11]\n",
      " [-6.49151843e-11  1.14475540e-10  1.09949383e-10]]\n",
      "max diff: 26.300000000000026\n",
      "Sum of absolute differences: 26.300000062427042\n",
      "\n"
     ]
    }
   ],
   "source": [
    "print_difference_metrics(jax_positions, ase_atoms.get_positions(wrap=True))\n",
    "print()"
   ],
   "metadata": {
    "collapsed": false,
    "pycharm": {
     "name": "#%%\n"
    }
   }
  },
  {
   "cell_type": "markdown",
   "source": [
    "#### Wrap JAX positions"
   ],
   "metadata": {
    "collapsed": false,
    "pycharm": {
     "name": "#%% md\n"
    }
   }
  },
  {
   "cell_type": "code",
   "execution_count": 98,
   "outputs": [
    {
     "name": "stdout",
     "output_type": "stream",
     "text": [
      "[[-1.07388265e-11 -4.21484386e-12 -9.25449457e-11]\n",
      " [ 2.63000000e+01  3.36957129e-11 -3.37250228e-11]\n",
      " [-9.66862146e-11  2.63000000e+01 -4.32764935e-12]\n",
      " ...\n",
      " [ 9.04947228e-11 -6.74553746e-11  1.03490549e-11]\n",
      " [-2.06803463e-11  1.01938014e-10 -5.26370059e-11]\n",
      " [-6.49151843e-11  1.14479093e-10  1.09952936e-10]]\n",
      "max diff: 26.300000000113826\n",
      "Sum of absolute differences: 1683.2000000624269\n",
      "\n"
     ]
    }
   ],
   "source": [
    "print_difference_metrics(jax_atoms.get_positions(wrap=True), ase_atoms.get_positions(wrap=False))\n",
    "print()"
   ],
   "metadata": {
    "collapsed": false,
    "pycharm": {
     "name": "#%%\n"
    }
   }
  },
  {
   "cell_type": "markdown",
   "source": [
    "#### Wrap both"
   ],
   "metadata": {
    "collapsed": false,
    "pycharm": {
     "name": "#%% md\n"
    }
   }
  },
  {
   "cell_type": "code",
   "execution_count": 99,
   "outputs": [
    {
     "name": "stdout",
     "output_type": "stream",
     "text": [
      "[[-1.07388266e-11 -4.21484386e-12 -9.25449457e-11]\n",
      " [ 2.16147100e-11  3.36957129e-11 -3.37250228e-11]\n",
      " [-9.66862146e-11  4.55138149e-11 -4.32764935e-12]\n",
      " ...\n",
      " [ 9.04947228e-11 -6.74553746e-11  1.03490549e-11]\n",
      " [-2.06838990e-11  1.01938014e-10 -5.26370059e-11]\n",
      " [-6.49151843e-11  1.14475540e-10  1.09952936e-10]]\n",
      "max diff: 1.7140244779056957e-10\n",
      "Sum of absolute differences: 6.242711912594389e-08\n",
      "\n"
     ]
    }
   ],
   "source": [
    "print_difference_metrics(jax_atoms.get_positions(wrap=True), ase_atoms.get_positions(wrap=True))\n",
    "print()"
   ],
   "metadata": {
    "collapsed": false,
    "pycharm": {
     "name": "#%%\n"
    }
   }
  },
  {
   "cell_type": "markdown",
   "source": [
    "- Positions returned by JAX-MD seem to be slightly shifted outside the box.\n",
    "- These can be mapped back into the box by feeding them back into an ASE `Atoms` object and calling `jax_atoms.get_positions(wrap=True)`.\n",
    "- Question: What is the JAX-MD way to achieve this?\n",
    "- This has to be done for both ASE and JAX-MD positions to obtain a sum of absolute differences of $1e-8$.\n",
    "\n",
    "### 2.1.2 Velocities"
   ],
   "metadata": {
    "collapsed": false,
    "pycharm": {
     "name": "#%% md\n"
    }
   }
  },
  {
   "cell_type": "code",
   "execution_count": 100,
   "outputs": [
    {
     "name": "stdout",
     "output_type": "stream",
     "text": [
      "[[ 1.85839842e-13  1.02639858e-12 -1.37477182e-12]\n",
      " [ 7.41110732e-13 -5.02375051e-13  9.57654095e-15]\n",
      " [-1.41735061e-12  1.70618727e-14  3.74410572e-13]\n",
      " ...\n",
      " [ 1.79854742e-12 -6.36067587e-13 -9.26911542e-13]\n",
      " [-3.60068746e-13  2.36036884e-12 -3.92441288e-13]\n",
      " [-9.07685385e-13  1.30098710e-12  1.82709403e-12]]\n",
      "max diff: 3.130797704420374e-12\n",
      "Sum of absolute differences: 1.1145476759733911e-09\n"
     ]
    }
   ],
   "source": [
    "print_difference_metrics(jax_velocities, ase_atoms.get_velocities())"
   ],
   "metadata": {
    "collapsed": false,
    "pycharm": {
     "name": "#%%\n"
    }
   }
  },
  {
   "cell_type": "markdown",
   "source": [
    "Everything looks good here.\n"
   ],
   "metadata": {
    "collapsed": false,
    "pycharm": {
     "name": "#%% md\n"
    }
   }
  },
  {
   "cell_type": "markdown",
   "id": "confident-round",
   "metadata": {
    "pycharm": {
     "name": "#%% md\n"
    }
   },
   "source": [
    "## 2.2 ASAX"
   ]
  },
  {
   "cell_type": "code",
   "execution_count": 103,
   "id": "indirect-commissioner",
   "metadata": {},
   "outputs": [
    {
     "name": "stdout",
     "output_type": "stream",
     "text": [
      "n = 500\n",
      "Average ms/step: 803.28\n"
     ]
    }
   ],
   "source": [
    "asax_atoms = read_cubic_argon()\n",
    "asax_positions, asax_velocities = run_asax_nve(asax_atoms, steps=1, batch_size=1)\n",
    "asax_positions = asax_positions[0]\n",
    "asax_velocities = asax_velocities[0]"
   ]
  },
  {
   "cell_type": "markdown",
   "id": "floral-decrease",
   "metadata": {
    "pycharm": {
     "name": "#%% md\n"
    }
   },
   "source": [
    "### 2.2.1 Positions"
   ]
  },
  {
   "cell_type": "code",
   "execution_count": 107,
   "outputs": [
    {
     "name": "stdout",
     "output_type": "stream",
     "text": [
      "[[4.44522891e-18 5.74627151e-18 4.33680869e-18]\n",
      " [0.00000000e+00 0.00000000e+00 0.00000000e+00]\n",
      " [0.00000000e+00 0.00000000e+00 0.00000000e+00]\n",
      " ...\n",
      " [0.00000000e+00 0.00000000e+00 0.00000000e+00]\n",
      " [0.00000000e+00 0.00000000e+00 0.00000000e+00]\n",
      " [0.00000000e+00 0.00000000e+00 0.00000000e+00]]\n",
      "max diff: 8.239936510889834e-18\n",
      "Sum of absolute differences: 1.3249416415893854e-15\n"
     ]
    }
   ],
   "source": [
    "print_difference_metrics(asax_atoms.get_positions(wrap=True), ase_atoms.get_positions(wrap=True))"
   ],
   "metadata": {
    "collapsed": false,
    "pycharm": {
     "name": "#%%\n"
    }
   }
  },
  {
   "cell_type": "markdown",
   "source": [
    "Again, we have to wrap positions of both `Atoms` objects back into the box to get practically equivalent positions.\n",
    "\n",
    "### 2.2.2 Velocities"
   ],
   "metadata": {
    "collapsed": false,
    "pycharm": {
     "name": "#%% md\n"
    }
   }
  },
  {
   "cell_type": "code",
   "execution_count": 108,
   "outputs": [
    {
     "name": "stdout",
     "output_type": "stream",
     "text": [
      "[[ 1.66967135e-17  1.05167611e-17  3.46944695e-18]\n",
      " [ 5.20417043e-18  8.67361738e-18  1.73472348e-18]\n",
      " [-5.20417043e-18  6.93889390e-18 -4.11996826e-18]\n",
      " ...\n",
      " [ 1.21430643e-17  3.46944695e-18 -8.02309608e-18]\n",
      " [ 3.90312782e-18 -6.93889390e-18  1.21430643e-17]\n",
      " [-8.67361738e-18  1.38777878e-17  0.00000000e+00]]\n",
      "max diff: 3.122502256758253e-17\n",
      "Sum of absolute differences: 1.1971228451894064e-14\n",
      "[[ 1.66967135e-17  1.05167611e-17  3.46944695e-18]\n",
      " [ 5.20417043e-18  8.67361738e-18  1.73472348e-18]\n",
      " [-5.20417043e-18  6.93889390e-18 -4.11996826e-18]\n",
      " ...\n",
      " [ 1.21430643e-17  3.46944695e-18 -8.02309608e-18]\n",
      " [ 3.90312782e-18 -6.93889390e-18  1.21430643e-17]\n",
      " [-8.67361738e-18  1.38777878e-17  0.00000000e+00]]\n",
      "max diff: 3.122502256758253e-17\n",
      "Sum of absolute differences: 1.1971228451894064e-14\n"
     ]
    }
   ],
   "source": [
    "print_difference_metrics(asax_velocities, ase_atoms.get_velocities())"
   ],
   "metadata": {
    "collapsed": false,
    "pycharm": {
     "name": "#%%\n"
    }
   }
  },
  {
   "cell_type": "markdown",
   "source": [
    "Everything is fine here.\n",
    "\n"
   ],
   "metadata": {
    "collapsed": false,
    "pycharm": {
     "name": "#%% md\n"
    }
   }
  }
 ],
 "metadata": {
  "kernelspec": {
   "display_name": "gknet-benchmarks",
   "language": "python",
   "name": "gknet-benchmarks"
  },
  "language_info": {
   "codemirror_mode": {
    "name": "ipython",
    "version": 3
   },
   "file_extension": ".py",
   "mimetype": "text/x-python",
   "name": "python",
   "nbconvert_exporter": "python",
   "pygments_lexer": "ipython3",
   "version": "3.9.1"
  }
 },
 "nbformat": 4,
 "nbformat_minor": 5
}