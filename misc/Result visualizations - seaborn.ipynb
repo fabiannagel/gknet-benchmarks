{
 "cells": [
  {
   "cell_type": "code",
   "execution_count": 4,
   "id": "smaller-marking",
   "metadata": {},
   "outputs": [],
   "source": [
    "import sys\n",
    "if not '/home/pop518504/git/gknet-benchmarks' in sys.path:\n",
    "    sys.path.insert(0, '/home/pop518504/git/gknet-benchmarks')\n",
    "\n",
    "import seaborn\n",
    "from utils import *"
   ]
  },
  {
   "cell_type": "code",
   "execution_count": 5,
   "id": "bottom-documentary",
   "metadata": {},
   "outputs": [],
   "source": [
    "results = load_results_from_pickle(\"../results/10_runs/results_10_runs.pickle\")"
   ]
  },
  {
   "cell_type": "code",
   "execution_count": null,
   "id": "ranging-phenomenon",
   "metadata": {},
   "outputs": [],
   "source": []
  },
  {
   "cell_type": "code",
   "execution_count": null,
   "id": "initial-organic",
   "metadata": {},
   "outputs": [],
   "source": []
  }
 ],
 "metadata": {
  "kernelspec": {
   "display_name": "gknet-benchmarks",
   "language": "python",
   "name": "gknet-benchmarks"
  },
  "language_info": {
   "codemirror_mode": {
    "name": "ipython",
    "version": 3
   },
   "file_extension": ".py",
   "mimetype": "text/x-python",
   "name": "python",
   "nbconvert_exporter": "python",
   "pygments_lexer": "ipython3",
   "version": "3.9.1"
  }
 },
 "nbformat": 4,
 "nbformat_minor": 5
}
