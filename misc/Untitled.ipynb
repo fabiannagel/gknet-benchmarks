{
 "cells": [
  {
   "cell_type": "code",
   "execution_count": 1,
   "id": "applicable-nation",
   "metadata": {},
   "outputs": [],
   "source": [
    "import jax\n",
    "import jax.numpy as jnp\n",
    "import jax.profiler"
   ]
  },
  {
   "cell_type": "code",
   "execution_count": 2,
   "id": "premier-newton",
   "metadata": {},
   "outputs": [],
   "source": [
    "def func1(x):\n",
    "    return jnp.tile(x, 10) * 0.5\n",
    "\n",
    "def func2(x):\n",
    "    y = func1(x)\n",
    "    return y, jnp.tile(x, 10) + 1\n",
    "\n",
    "x = jax.random.normal(jax.random.PRNGKey(42), (1000, 1000))\n",
    "y, z = func2(x)\n",
    "\n",
    "z.block_until_ready()\n",
    "\n",
    "jax.profiler.save_device_memory_profile(\"memory.prof\")"
   ]
  },
  {
   "cell_type": "code",
   "execution_count": null,
   "id": "intelligent-pulse",
   "metadata": {},
   "outputs": [],
   "source": []
  }
 ],
 "metadata": {
  "kernelspec": {
   "display_name": "gknet-benchmarks",
   "language": "python",
   "name": "gknet-benchmarks"
  },
  "language_info": {
   "codemirror_mode": {
    "name": "ipython",
    "version": 3
   },
   "file_extension": ".py",
   "mimetype": "text/x-python",
   "name": "python",
   "nbconvert_exporter": "python",
   "pygments_lexer": "ipython3",
   "version": "3.9.1"
  }
 },
 "nbformat": 4,
 "nbformat_minor": 5
}
