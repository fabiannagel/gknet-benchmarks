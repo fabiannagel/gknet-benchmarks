{
 "cells": [
  {
   "cell_type": "code",
   "execution_count": 8,
   "id": "following-transportation",
   "metadata": {},
   "outputs": [],
   "source": [
    "import numpy as np\n",
    "import jax.numpy as jnp\n",
    "from jax import jit, grad\n",
    "from jax import numpy as jnp\n",
    "from ase import Atoms\n",
    "from ase.build import bulk\n",
    "from ase.calculators.lj import LennardJones\n",
    "from jax_md import space, energy, quantity\n",
    "from jax.config import config\n",
    "config.update(\"jax_enable_x64\", True)"
   ]
  },
  {
   "cell_type": "code",
   "execution_count": 9,
   "id": "reflected-symbol",
   "metadata": {
    "scrolled": false
   },
   "outputs": [
    {
     "name": "stdout",
     "output_type": "stream",
     "text": [
      "Cell:\t\t Cell([26.299999999999997, 26.299999999999997, 26.299999999999997])\n",
      "max_box_length:\t 26.299999999999997\n",
      "ro:\t\t 11.834999999999999\n",
      "rc:\t\t 13.149999999999999\n",
      "\n",
      "R_real:\n",
      " [[ 0.    0.    0.  ]\n",
      " [ 0.    2.63  2.63]\n",
      " [ 2.63  0.    2.63]\n",
      " ...\n",
      " [21.04 23.67 23.67]\n",
      " [23.67 21.04 23.67]\n",
      " [23.67 23.67 21.04]]\n"
     ]
    }
   ],
   "source": [
    "atoms = bulk('Ar', cubic=True) * [5, 5, 5]\n",
    "\n",
    "R_real = atoms.get_positions()\n",
    "max_box_length = np.max([np.linalg.norm(uv) for uv in atoms.get_cell().array])\n",
    "\n",
    "sigma = 2.0\n",
    "epsilon = 1.5\n",
    "rc = 0.5 * max_box_length\n",
    "ro = rc * 0.9\n",
    "\n",
    "print(\"Cell:\\t\\t\", atoms.get_cell())\n",
    "print(\"max_box_length:\\t\", max_box_length)\n",
    "print(\"ro:\\t\\t\", ro)\n",
    "print(\"rc:\\t\\t\", rc)\n",
    "print()\n",
    "print(\"R_real:\\n\", R_real )\n",
    "\n",
    "atoms.calc = LennardJones(sigma=sigma, epsilon=epsilon, rc=rc, ro=ro, smooth=True)"
   ]
  },
  {
   "cell_type": "markdown",
   "id": "systematic-cement",
   "metadata": {},
   "source": [
    "## New `periodic_general()` with stress"
   ]
  },
  {
   "cell_type": "code",
   "execution_count": 10,
   "id": "conventional-clearing",
   "metadata": {},
   "outputs": [],
   "source": [
    "from periodic_general import periodic_general as new_periodic_general\n",
    "from periodic_general import inverse as new_inverse\n",
    "from periodic_general import transform as new_transform\n",
    "\n",
    "# what asax.utils.get_displacement() does, only with functions from the new periodic_general()\n",
    "def new_get_displacement(atoms):\n",
    "    cell = atoms.get_cell().array\n",
    "    inverse_cell = new_inverse(cell)\n",
    "\n",
    "    displacement_in_scaled_coordinates, _ = new_periodic_general(cell)\n",
    "\n",
    "    # **kwargs are now used to feed through the box information\n",
    "    def displacement(Ra: space.Array, Rb: space.Array, **kwargs) -> space.Array:\n",
    "        Ra_scaled = new_transform(inverse_cell, Ra)\n",
    "        Rb_scaled = new_transform(inverse_cell, Rb)\n",
    "        return displacement_in_scaled_coordinates(Ra_scaled, Rb_scaled, **kwargs)\n",
    "\n",
    "    return displacement"
   ]
  },
  {
   "cell_type": "code",
   "execution_count": 11,
   "id": "refined-bryan",
   "metadata": {},
   "outputs": [],
   "source": [
    "displacement_fn = new_get_displacement(atoms)\n",
    "energy_fn = energy.lennard_jones_pair(displacement_fn, sigma=sigma, epsilon=epsilon, r_onset=ro/sigma, r_cutoff=rc/sigma)\n",
    "force_fn = quantity.force(energy_fn)"
   ]
  },
  {
   "cell_type": "code",
   "execution_count": 12,
   "id": "municipal-finland",
   "metadata": {},
   "outputs": [
    {
     "name": "stdout",
     "output_type": "stream",
     "text": [
      "-507.70818181837706\n",
      "176288289.1137517\n"
     ]
    }
   ],
   "source": [
    "# dynamically changing the box size\n",
    "box = atoms.get_cell().array\n",
    "\n",
    "# correct: shrinking the box should increase the energy\n",
    "print(energy_fn(R_real, box=box))\n",
    "print(energy_fn(R_real, box=box/4))"
   ]
  },
  {
   "cell_type": "code",
   "execution_count": 43,
   "id": "czech-likelihood",
   "metadata": {},
   "outputs": [
    {
     "name": "stdout",
     "output_type": "stream",
     "text": [
      "-507.70818181837694\n",
      "[[ 5.48970680e-02 -6.80281257e-20 -9.44196834e-20]\n",
      " [-6.80281257e-20  5.48970680e-02  1.97703848e-20]\n",
      " [-9.44196834e-20  1.97703848e-20  5.48970680e-02]]\n"
     ]
    }
   ],
   "source": [
    "# computing stress\n",
    "deformation_energy_fn = lambda deformation, R: energy_fn(R, box=jnp.dot(jnp.eye(3) + (deformation + deformation.T)*0.5, box))\n",
    "deformation_force_fn = lambda deformation, R: grad(deformation_energy_fn, argnums=1)(deformation, R) * -1\n",
    "stress_fn = lambda deformation, R: grad(deformation_energy_fn, argnums=0)(deformation, R) / jnp.linalg.det(box)\n",
    "\n",
    "deformation = jnp.zeros_like(box)\n",
    "\n",
    "# correct: should be very close to the untouched box\n",
    "print(deformation_energy_fn(deformation, R_real))\n",
    "\n",
    "# correct: 3x3 tensor, non-zero\n",
    "stress = stress_fn(deformation, R_real)\n",
    "print(stress)\n",
    "\n",
    "# jnp.dot(jnp.eye(3) + deformation, box)\n",
    "\n",
    "# new_transform(box, jnp.eye(3))"
   ]
  },
  {
   "cell_type": "code",
   "execution_count": 44,
   "id": "british-modern",
   "metadata": {},
   "outputs": [
    {
     "name": "stdout",
     "output_type": "stream",
     "text": [
      "[[ 5.48970680e-02  1.51030213e-19 -7.77628090e-20]\n",
      " [ 1.51030213e-19  5.48970680e-02  2.11587379e-19]\n",
      " [-7.77628090e-20  2.11587379e-19  5.48970680e-02]]\n",
      "[[ 5.48970680e-02 -6.80281257e-20 -9.44196834e-20]\n",
      " [-6.80281257e-20  5.48970680e-02  1.97703848e-20]\n",
      " [-9.44196834e-20  1.97703848e-20  5.48970680e-02]]\n"
     ]
    }
   ],
   "source": [
    "# comparing to ASE output\n",
    "def all_close(arr1, arr2, rtol=1e-7, atol=1e-15):\n",
    "    np.testing.assert_allclose(arr1, arr2, rtol=rtol, atol=atol, equal_nan=True)\n",
    "    \n",
    "# energy - with and without deformation\n",
    "all_close(atoms.get_potential_energy(), energy_fn(R_real))\n",
    "all_close(atoms.get_potential_energy(), deformation_energy_fn(deformation, R_real))\n",
    "\n",
    "# forces - with and without deformation\n",
    "all_close(atoms.get_forces(), force_fn(R_real), atol=1e-14)\n",
    "all_close(atoms.get_forces(), deformation_force_fn(deformation, R_real), atol=1e-14)\n",
    "\n",
    "# stress\n",
    "# TODO: Test with double64 precision\n",
    "all_close(atoms.get_stress(voigt=False), stress_fn(deformation, R_real), atol=1e-17)\n",
    "\n",
    "print(atoms.get_stress(voigt=False))\n",
    "\n",
    "# interesting: JAX-MD stress is not exactly symmetric!\n",
    "print(stress_fn(deformation, R_real))\n",
    "\n",
    "# TODO: stresses"
   ]
  },
  {
   "cell_type": "code",
   "execution_count": null,
   "id": "adapted-basket",
   "metadata": {},
   "outputs": [],
   "source": []
  }
 ],
 "metadata": {
  "kernelspec": {
   "display_name": "gknet-benchmarks",
   "language": "python",
   "name": "gknet-benchmarks"
  },
  "language_info": {
   "codemirror_mode": {
    "name": "ipython",
    "version": 3
   },
   "file_extension": ".py",
   "mimetype": "text/x-python",
   "name": "python",
   "nbconvert_exporter": "python",
   "pygments_lexer": "ipython3",
   "version": "3.9.1"
  }
 },
 "nbformat": 4,
 "nbformat_minor": 5
}
