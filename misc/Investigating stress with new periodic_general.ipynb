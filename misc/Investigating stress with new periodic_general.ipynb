{
 "cells": [
  {
   "cell_type": "code",
   "execution_count": 1,
   "id": "following-transportation",
   "metadata": {},
   "outputs": [],
   "source": [
    "import numpy as np\n",
    "import jax.numpy as jnp\n",
    "from jax import jit, grad\n",
    "from jax import numpy as jnp\n",
    "from ase import Atoms\n",
    "from ase.build import bulk\n",
    "from ase.calculators.lj import LennardJones\n",
    "from jax_md import space, energy, quantity\n",
    "from jax.config import config\n",
    "config.update(\"jax_enable_x64\", True)\n",
    "\n",
    "import asax.utils"
   ]
  },
  {
   "cell_type": "code",
   "execution_count": 2,
   "id": "reflected-symbol",
   "metadata": {
    "scrolled": false
   },
   "outputs": [
    {
     "name": "stdout",
     "output_type": "stream",
     "text": [
      "Cell:\t\t Cell([27.615, 27.615, 27.615])\n",
      "max_box_length:\t 27.615\n",
      "ro:\t\t 12.42675\n",
      "rc:\t\t 13.8075\n",
      "\n",
      "R_real:\n",
      " [[ 0.      0.      0.    ]\n",
      " [ 0.      2.7615  2.7615]\n",
      " [ 2.7615  0.      2.7615]\n",
      " ...\n",
      " [22.092  24.8535 24.8535]\n",
      " [24.8535 22.092  24.8535]\n",
      " [24.8535 24.8535 22.092 ]]\n"
     ]
    }
   ],
   "source": [
    "atoms = bulk('Ar', cubic=True) * [5, 5, 5]\n",
    "atoms.set_cell(1.05 * atoms.get_cell(), scale_atoms=True)\n",
    "\n",
    "R_real = atoms.get_positions()\n",
    "max_box_length = np.max([np.linalg.norm(uv) for uv in atoms.get_cell().array])\n",
    "\n",
    "sigma = 2.0\n",
    "epsilon = 1.5\n",
    "rc = 0.5 * max_box_length\n",
    "ro = rc * 0.9\n",
    "\n",
    "print(\"Cell:\\t\\t\", atoms.get_cell())\n",
    "print(\"max_box_length:\\t\", max_box_length)\n",
    "print(\"ro:\\t\\t\", ro)\n",
    "print(\"rc:\\t\\t\", rc)\n",
    "print()\n",
    "print(\"R_real:\\n\", R_real )"
   ]
  },
  {
   "cell_type": "markdown",
   "id": "practical-drilling",
   "metadata": {},
   "source": [
    "## New `periodic_general()` with stress"
   ]
  },
  {
   "cell_type": "code",
   "execution_count": 28,
   "id": "conventional-clearing",
   "metadata": {},
   "outputs": [],
   "source": [
    "from periodic_general import periodic_general as new_periodic_general\n",
    "from periodic_general import inverse as new_inverse\n",
    "from periodic_general import transform as new_transform\n",
    "\n",
    "# what asax.utils.get_displacement() does, only with functions from the new periodic_general()\n",
    "def new_get_displacement(atoms):\n",
    "    cell = atoms.get_cell().array\n",
    "    inverse_cell = new_inverse(cell)\n",
    "\n",
    "    displacement_in_scaled_coordinates, _ = new_periodic_general(cell)\n",
    "\n",
    "    # **kwargs are now used to feed through the box information\n",
    "    def displacement(Ra: space.Array, Rb: space.Array, **kwargs) -> space.Array:\n",
    "        Ra_scaled = new_transform(inverse_cell, Ra)\n",
    "        Rb_scaled = new_transform(inverse_cell, Rb)\n",
    "        return displacement_in_scaled_coordinates(Ra_scaled, Rb_scaled, **kwargs)\n",
    "\n",
    "    return displacement"
   ]
  },
  {
   "cell_type": "code",
   "execution_count": 32,
   "id": "refined-bryan",
   "metadata": {},
   "outputs": [
    {
     "name": "stdout",
     "output_type": "stream",
     "text": [
      "mapping real to scaled coordinates\n"
     ]
    }
   ],
   "source": [
    "displacement_fn = new_get_displacement(atoms)\n",
    "energy_fn = energy.lennard_jones_pair(displacement_fn, sigma=sigma, epsilon=epsilon, r_onset=ro/sigma, r_cutoff=rc/sigma)"
   ]
  },
  {
   "cell_type": "code",
   "execution_count": 33,
   "id": "considered-worship",
   "metadata": {},
   "outputs": [
    {
     "name": "stdout",
     "output_type": "stream",
     "text": [
      "mapping real to scaled coordinates\n",
      "-380.8736576477754\n",
      "mapping real to scaled coordinates\n",
      "97759717.42890728\n"
     ]
    }
   ],
   "source": [
    "# dynamically changing the box size\n",
    "box = atoms.get_cell().array\n",
    "\n",
    "# correct: shrinking the box should increase the energy\n",
    "print(energy_fn(R_real, box=box))\n",
    "print(energy_fn(R_real, box=box/4))"
   ]
  },
  {
   "cell_type": "code",
   "execution_count": 31,
   "id": "arranged-portsmouth",
   "metadata": {},
   "outputs": [
    {
     "name": "stdout",
     "output_type": "stream",
     "text": [
      "mapping real to scaled coordinates\n",
      "-380.87365764777536\n",
      "mapping real to scaled coordinates\n",
      "[[ 1.29529915e-03  1.03998362e-21  9.83046596e-23]\n",
      " [ 4.63359039e-22  1.29529915e-03 -1.36336787e-21]\n",
      " [ 7.85298791e-22 -7.79985964e-22  1.29529915e-03]]\n"
     ]
    }
   ],
   "source": [
    "# computing stress\n",
    "deformation_energy_fn = lambda deformation, R: energy_fn(R, box=box+deformation)\n",
    "\n",
    "deformation = jnp.zeros_like(box)\n",
    "\n",
    "# correct: should be very close to the untouched box\n",
    "print(deformation_energy_fn(deformation, R_real))\n",
    "\n",
    "# correct: 3x3 tensor, non-zero\n",
    "stress = grad(deformation_energy_fn, argnums=0)(deformation, R_real) / jnp.linalg.det(box)\n",
    "print(stress)"
   ]
  }
 ],
 "metadata": {
  "kernelspec": {
   "display_name": "gknet-benchmarks",
   "language": "python",
   "name": "gknet-benchmarks"
  },
  "language_info": {
   "codemirror_mode": {
    "name": "ipython",
    "version": 3
   },
   "file_extension": ".py",
   "mimetype": "text/x-python",
   "name": "python",
   "nbconvert_exporter": "python",
   "pygments_lexer": "ipython3",
   "version": "3.9.1"
  }
 },
 "nbformat": 4,
 "nbformat_minor": 5
}
