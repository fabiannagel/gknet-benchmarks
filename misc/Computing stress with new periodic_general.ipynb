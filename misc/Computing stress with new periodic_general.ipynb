{
 "cells": [
  {
   "cell_type": "markdown",
   "id": "normal-islam",
   "metadata": {},
   "source": [
    "## Computing stress in JAX-MD\n",
    "The goal of this notebook is to demonstrate how to effectively compute stress in JAX-MD. We obtain accurate atomic positions by using ASE to initialize the system and show how to use them in JAX-MD. We compare computed properties with `ASE` calculations for a strained and non-strained system respectively. Finally, we investigate JIT behavior with the provided new implementation of `periodic_general()`."
   ]
  },
  {
   "cell_type": "code",
   "execution_count": 114,
   "id": "following-transportation",
   "metadata": {},
   "outputs": [],
   "source": [
    "import jax.numpy as jnp\n",
    "from jax import jit, grad, jacfwd, random, ops\n",
    "from jax import numpy as jnp\n",
    "from jax_md import space, energy, quantity, simulate\n",
    "from jax.config import config\n",
    "config.update(\"jax_enable_x64\", True)\n",
    "\n",
    "from ase import Atoms\n",
    "from ase.build import bulk\n",
    "from ase.calculators.lj import LennardJones\n",
    "import numpy as np\n",
    "\n",
    "key = random.PRNGKey(0)"
   ]
  },
  {
   "cell_type": "markdown",
   "id": "rapid-carolina",
   "metadata": {},
   "source": [
    "## Initialization\n",
    "- Use `ASE` to initialize a cubic Argon super cell\n",
    "- Obtain atom coordinates in real space\n",
    "- Set Lennard-Jones parameters such that `ASE`'s neighbor list implementation will behave equivalently to a pair potential\n",
    "- Using `smooth=True` will cause the energy to smoothly go to 0 between `r_onset` and `r_cutoff`, replicating `JAX-MD`'s behavior on this."
   ]
  },
  {
   "cell_type": "code",
   "execution_count": 101,
   "id": "reflected-symbol",
   "metadata": {
    "scrolled": false
   },
   "outputs": [
    {
     "name": "stdout",
     "output_type": "stream",
     "text": [
      "Cell:\t\t Cell([26.299999999999997, 26.299999999999997, 26.299999999999997])\n",
      "max_box_length:\t 26.299999999999997\n",
      "ro:\t\t 11.834999999999999\n",
      "rc:\t\t 13.149999999999999\n",
      "\n",
      "R_real:\n",
      " [[ 0.    0.    0.  ]\n",
      " [ 0.    2.63  2.63]\n",
      " [ 2.63  0.    2.63]\n",
      " ...\n",
      " [21.04 23.67 23.67]\n",
      " [23.67 21.04 23.67]\n",
      " [23.67 23.67 21.04]]\n"
     ]
    }
   ],
   "source": [
    "atoms = bulk('Ar', cubic=True) * [5, 5, 5]\n",
    "\n",
    "R_real = atoms.get_positions()\n",
    "max_box_length = np.max([np.linalg.norm(uv) for uv in atoms.get_cell().array])\n",
    "\n",
    "sigma = 2.0\n",
    "epsilon = 1.5\n",
    "r_cutoff = 0.5 * max_box_length\n",
    "r_onset = r_cutoff * 0.9\n",
    "\n",
    "print(\"Cell:\\t\\t\", atoms.get_cell())\n",
    "print(\"max_box_length:\\t\", max_box_length)\n",
    "print(\"ro:\\t\\t\", r_onset)\n",
    "print(\"rc:\\t\\t\", r_cutoff)\n",
    "print()\n",
    "print(\"R_real:\\n\", R_real )\n",
    "\n",
    "atoms.calc = LennardJones(sigma=sigma, epsilon=epsilon, rc=r_cutoff, ro=r_onset, smooth=True)"
   ]
  },
  {
   "cell_type": "markdown",
   "id": "systematic-cement",
   "metadata": {},
   "source": [
    "## New `periodic_general()` with stress\n",
    "- `new_periodic_general()`, `new_inverse()` and `new_transform()` refer to currently unreleased implementations of [general periodic boundary conditions](https://gist.github.com/sschoenholz/14944c4b9dd263c95c524f84cc1c4287).\n",
    "- As `ASE` uses real-space coordinates, a custom displacement allows us to convert those to scaled coordinates that are expected by `JAX-MD`."
   ]
  },
  {
   "cell_type": "code",
   "execution_count": 1,
   "id": "conventional-clearing",
   "metadata": {},
   "outputs": [],
   "source": [
    "from periodic_general import periodic_general as new_periodic_general\n",
    "from periodic_general import inverse as new_inverse\n",
    "from periodic_general import transform as new_transform\n",
    "\n",
    "# what asax.utils.get_displacement() does, only with functions from the new periodic_general()\n",
    "def new_get_displacement(atoms):\n",
    "    cell = atoms.get_cell().array\n",
    "    inverse_cell = new_inverse(cell)\n",
    "\n",
    "    displacement_in_scaled_coordinates, shift_in_scaled_coordinates = new_periodic_general(cell)\n",
    "\n",
    "    # **kwargs are now used to feed through the box information\n",
    "    @jit\n",
    "    def displacement(Ra: space.Array, Rb: space.Array, **kwargs) -> space.Array:\n",
    "        Ra_scaled = new_transform(inverse_cell, Ra)\n",
    "        Rb_scaled = new_transform(inverse_cell, Rb)\n",
    "        return displacement_in_scaled_coordinates(Ra_scaled, Rb_scaled, **kwargs)\n",
    "    \n",
    "    #@jit\n",
    "    #def shift(R: space.Array, dR: space.Array, **kwargs) -> space.Array:\n",
    "    #    R_scaled = new_transform(inverse_cell, R)\n",
    "    #    # dR is an output of displacement and should be already in real coordinates\n",
    "    #    return shfit_in_scaled_coordinates(R_scaled, dR, **kwargs)\n",
    "\n",
    "    return displacement, shift"
   ]
  },
  {
   "cell_type": "markdown",
   "id": "grand-warrior",
   "metadata": {},
   "source": [
    "Due to conventional differences in Lennard-Jones parameters, `r_onset` and `r_cutoff` have to be divided by `sigma` in order to obtain `ASE`-equivalent results."
   ]
  },
  {
   "cell_type": "code",
   "execution_count": 103,
   "id": "refined-bryan",
   "metadata": {},
   "outputs": [],
   "source": [
    "displacement_fn, shift_fn = new_get_displacement(atoms)\n",
    "energy_fn = jit(energy.lennard_jones_pair(displacement_fn, sigma=sigma, epsilon=epsilon, r_onset=r_onset/sigma, r_cutoff=r_cutoff/sigma, per_particle=True))\n",
    "total_energy_fn = jit(lambda R, **kwargs: jnp.sum(energy_fn(R, **kwargs)))\n",
    "force_fn = jit(quantity.force(total_energy_fn))"
   ]
  },
  {
   "cell_type": "markdown",
   "id": "intensive-bones",
   "metadata": {},
   "source": [
    "`**kwargs` to `energy_fn()` are now fed through `displacement_fn`, which allows us to manually override the box when computing energies."
   ]
  },
  {
   "cell_type": "code",
   "execution_count": 104,
   "id": "municipal-finland",
   "metadata": {},
   "outputs": [
    {
     "name": "stdout",
     "output_type": "stream",
     "text": [
      "-507.70818181837694\n",
      "176288289.1137517\n"
     ]
    }
   ],
   "source": [
    "box = atoms.get_cell().array\n",
    "print(total_energy_fn(R_real, box=box))\n",
    "print(total_energy_fn(R_real, box=box/4))"
   ]
  },
  {
   "cell_type": "markdown",
   "id": "thorough-concert",
   "metadata": {},
   "source": [
    "### Computing stress\n",
    "\n",
    "#### Theory\n",
    "In this context, the stress tensor $\\sigma$ is defined as the derivative of the total energy $E$ with respect to a 3x3 infinitesimal strain tensor $\\epsilon$:\n",
    "\n",
    "$\\sigma_{ab} = \\frac{1}{V} * \\frac{\\partial E}{\\partial \\epsilon_{ab}}$ at $\\epsilon = 0$, where $V$ represents the system's volume.\n",
    "\n",
    "$\\epsilon$ describes a strain transformation of all real space coordinates $R$ as: \n",
    "\n",
    "$R \\mapsto (1 + e) \\cdot R$\n",
    "\n",
    "This transformation is applied to all coordinates, i.e. the atoms in the unit cell and the basis vectors."
   ]
  },
  {
   "cell_type": "markdown",
   "id": "sustained-springer",
   "metadata": {},
   "source": [
    "#### Implementation\n",
    "In order to obtain the gradient w.r.t. said $\\epsilon$, we introduce it into the energy function in multiple steps.\n",
    "Firstly, we define a function that applies the mentioned strain transformation to the box. Additionally, we symmetrize the deformation tensor to obtain an *exactly* symmetric stress tensor later on."
   ]
  },
  {
   "cell_type": "code",
   "execution_count": 105,
   "id": "loose-nerve",
   "metadata": {},
   "outputs": [],
   "source": [
    "strain_box_fn = lambda deformation, box: new_transform(jnp.eye(3) + (deformation + deformation.T) * 0.5, box)"
   ]
  },
  {
   "cell_type": "markdown",
   "id": "happy-blogger",
   "metadata": {},
   "source": [
    "We can now push the strained box through the energy function and derive force and stress functions from it."
   ]
  },
  {
   "cell_type": "code",
   "execution_count": 106,
   "id": "convertible-bracket",
   "metadata": {},
   "outputs": [],
   "source": [
    "deformation_energy_fn = lambda deformation, R: energy_fn(R, box=strain_box_fn(deformation, box))\n",
    "total_deformation_energy_fn = lambda deformation, R: jnp.sum(deformation_energy_fn(deformation, R))\n",
    "deformation_force_fn = lambda deformation, R: grad(total_deformation_energy_fn, argnums=1)(deformation, R) * -1"
   ]
  },
  {
   "cell_type": "markdown",
   "id": "organized-george",
   "metadata": {},
   "source": [
    "The stress is defined as the gradient of the strained box's energy w.r.t. to the applied strain transformation $\\epsilon$ divided by the system's volume, i.e. the box's determinant. \n",
    "\n",
    "The Stress**es** follow the same definition, only for the atom-wise energy contributions rather than the total energy. "
   ]
  },
  {
   "cell_type": "code",
   "execution_count": 107,
   "id": "rational-demonstration",
   "metadata": {},
   "outputs": [],
   "source": [
    "volume = jnp.linalg.det(box)\n",
    "stress_fn = lambda deformation, R: grad(total_deformation_energy_fn, argnums=0)(deformation, R) / volume\n",
    "stresses_fn = lambda deformation, R: jacfwd(deformation_energy_fn, argnums=0)(deformation, R) / volume"
   ]
  },
  {
   "cell_type": "markdown",
   "id": "fabulous-vaccine",
   "metadata": {},
   "source": [
    "We define $\\epsilon$ as a zero-valued 3x3 matrix and calculate both the stress..."
   ]
  },
  {
   "cell_type": "code",
   "execution_count": 108,
   "id": "czech-likelihood",
   "metadata": {
    "scrolled": true
   },
   "outputs": [
    {
     "data": {
      "text/plain": [
       "DeviceArray([[ 5.48970680e-02, -6.72443916e-20, -1.43739739e-20],\n",
       "             [-6.72443916e-20,  5.48970680e-02,  9.75034346e-21],\n",
       "             [-1.43739739e-20,  9.75034346e-21,  5.48970680e-02]],            dtype=float64)"
      ]
     },
     "execution_count": 108,
     "metadata": {},
     "output_type": "execute_result"
    }
   ],
   "source": [
    "deformation = jnp.zeros_like(box)\n",
    "stress_fn(deformation, R_real)"
   ]
  },
  {
   "cell_type": "markdown",
   "id": "concrete-kazakhstan",
   "metadata": {},
   "source": [
    "...and stress**es** tensor."
   ]
  },
  {
   "cell_type": "code",
   "execution_count": 109,
   "id": "instant-small",
   "metadata": {},
   "outputs": [
    {
     "data": {
      "text/plain": [
       "DeviceArray([[[ 1.09794136e-04,  0.00000000e+00,  1.52574865e-21],\n",
       "              [ 0.00000000e+00,  1.09794136e-04, -3.05149729e-21],\n",
       "              [ 1.52574865e-21, -3.05149729e-21,  1.09794136e-04]],\n",
       "\n",
       "             [[ 1.09794136e-04, -1.52574865e-21,  7.62874323e-22],\n",
       "              [-1.52574865e-21,  1.09794136e-04, -4.05276984e-21],\n",
       "              [ 7.62874323e-22, -4.05276984e-21,  1.09794136e-04]],\n",
       "\n",
       "             [[ 1.09794136e-04, -3.81437161e-22,  3.81437161e-22],\n",
       "              [-3.81437161e-22,  1.09794136e-04,  0.00000000e+00],\n",
       "              [ 3.81437161e-22,  0.00000000e+00,  1.09794136e-04]],\n",
       "\n",
       "             ...,\n",
       "\n",
       "             [[ 1.09794136e-04,  1.52574865e-21,  0.00000000e+00],\n",
       "              [ 1.52574865e-21,  1.09794136e-04, -1.52574865e-21],\n",
       "              [ 0.00000000e+00, -1.52574865e-21,  1.09794136e-04]],\n",
       "\n",
       "             [[ 1.09794136e-04, -1.90718581e-22,  3.05149729e-21],\n",
       "              [-1.90718581e-22,  1.09794136e-04,  7.62874323e-22],\n",
       "              [ 3.05149729e-21,  7.62874323e-22,  1.09794136e-04]],\n",
       "\n",
       "             [[ 1.09794136e-04,  0.00000000e+00,  0.00000000e+00],\n",
       "              [ 0.00000000e+00,  1.09794136e-04, -1.52574865e-21],\n",
       "              [ 0.00000000e+00, -1.52574865e-21,  1.09794136e-04]]],            dtype=float64)"
      ]
     },
     "execution_count": 109,
     "metadata": {},
     "output_type": "execute_result"
    }
   ],
   "source": [
    "stresses_fn(deformation, R_real)"
   ]
  },
  {
   "cell_type": "markdown",
   "id": "peaceful-damage",
   "metadata": {},
   "source": [
    "### Verification\n",
    "For verification purposes, let's compare our results with `ASE`."
   ]
  },
  {
   "cell_type": "code",
   "execution_count": 110,
   "id": "british-modern",
   "metadata": {},
   "outputs": [],
   "source": [
    "def all_close(arr1, arr2, rtol=1e-7, atol=1e-15):\n",
    "    np.testing.assert_allclose(arr1, arr2, rtol=rtol, atol=atol, equal_nan=True)\n",
    "    \n",
    "# energy - with and without deformation\n",
    "all_close(atoms.get_potential_energy(), total_energy_fn(R_real))\n",
    "all_close(atoms.get_potential_energy(), total_deformation_energy_fn(deformation, R_real))\n",
    "\n",
    "# forces - with and without deformation\n",
    "all_close(atoms.get_forces(), force_fn(R_real), atol=1e-14)\n",
    "all_close(atoms.get_forces(), deformation_force_fn(deformation, R_real), atol=1e-14)\n",
    "\n",
    "# stress\n",
    "# TODO: Test with double64 precision\n",
    "all_close(atoms.get_stress(voigt=False), stress_fn(deformation, R_real), atol=1e-17)\n",
    "\n",
    "# stresses\n",
    "all_close(atoms.get_stresses(voigt=False), stresses_fn(deformation, R_real), atol=1e-17)"
   ]
  },
  {
   "cell_type": "code",
   "execution_count": 111,
   "id": "adapted-basket",
   "metadata": {},
   "outputs": [],
   "source": [
    "# TODO: investigate JIT behavior"
   ]
  },
  {
   "cell_type": "markdown",
   "id": "frank-judges",
   "metadata": {},
   "source": [
    "## Molecular Dynamics"
   ]
  },
  {
   "cell_type": "code",
   "execution_count": 113,
   "id": "excessive-ownership",
   "metadata": {},
   "outputs": [],
   "source": [
    "dt = 5e-3\n",
    "kT = lambda t: np.where(t < 5000.0 * dt, 0.1, 0.01)\n",
    "key, split = random.split(key)\n",
    "\n",
    "init_fn, apply_fn = simulate.nvt_nose_hoover(energy_fn, shift_fn, dt, kT(0.), tau=0.1)\n",
    "state = init_fn(key, R_real)"
   ]
  },
  {
   "cell_type": "code",
   "execution_count": null,
   "id": "encouraging-refund",
   "metadata": {},
   "outputs": [],
   "source": [
    "def step_fn(i, state_and_log):\n",
    "    state, log = state_and_log\n",
    "    t = i * dt\n",
    "\n",
    "    T = quantity.temperature(state.velocity)\n",
    "    log['kT'] = ops.index_update(log['kT'], i, T)\n",
    "\n",
    "    H = simulate.nose_hoover_invariant(energy_fn, state, kT(t))\n",
    "    log['H'] = ops.index_update(log['H'], i, H)\n",
    "\n",
    "    log['position'] = ops.index_update(log['position'], i, state.position)\n",
    "\n",
    "    state = apply(state, kT=kT(t))\n",
    "  \n",
    "    return state, log"
   ]
  }
 ],
 "metadata": {
  "kernelspec": {
   "display_name": "gknet-benchmarks",
   "language": "python",
   "name": "gknet-benchmarks"
  },
  "language_info": {
   "codemirror_mode": {
    "name": "ipython",
    "version": 3
   },
   "file_extension": ".py",
   "mimetype": "text/x-python",
   "name": "python",
   "nbconvert_exporter": "python",
   "pygments_lexer": "ipython3",
   "version": "3.9.1"
  }
 },
 "nbformat": 4,
 "nbformat_minor": 5
}
