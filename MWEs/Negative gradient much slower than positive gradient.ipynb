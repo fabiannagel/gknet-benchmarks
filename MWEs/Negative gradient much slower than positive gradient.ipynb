{
 "cells": [
  {
   "cell_type": "markdown",
   "metadata": {},
   "source": [
    "## Performance hit due to gradient multiplication\n",
    "- While doing my own NVE benchmarks, I accidentally implemented interatomic forces as the energy gradient rather than the negative energy gradient.\n",
    "- I noticed that this error speeds up NVE simulations by approx. 40%.\n",
    "- I tried various implementations of the force function to pinpoint the source of this error.\n",
    "- Based on `jax-md/notebooks/lj_benchmark.ipynb` as a starting point, the following is a reproduction of this error.\n",
    "- I'm wondering how a single multiplication can have such a drastic performance hit."
   ]
  },
  {
   "cell_type": "code",
   "execution_count": 6,
   "metadata": {
    "cellView": "form",
    "id": "xrLuRZXldWp3"
   },
   "outputs": [],
   "source": [
    "import jax.numpy as jnp\n",
    "import numpy as np\n",
    "from jax import jit\n",
    "from jax import random\n",
    "from jax import lax, grad\n",
    "from jax.config import config\n",
    "config.update('jax_enable_x64', True)\n",
    "from jax_md import space, energy, simulate, quantity, util\n",
    "import time"
   ]
  },
  {
   "cell_type": "markdown",
   "metadata": {
    "id": "f7JwYyFdRPny"
   },
   "source": [
    "### Prepare the system"
   ]
  },
  {
   "cell_type": "code",
   "execution_count": 13,
   "metadata": {
    "id": "4H9tmFyAdjHN"
   },
   "outputs": [],
   "source": [
    "lattice_constant = 1.37820\n",
    "N_rep = 20\n",
    "box_size = N_rep * lattice_constant\n",
    "# Using float32 for positions / velocities, but float64 for reductions.\n",
    "dtype = jnp.float32\n",
    "\n",
    "displacement, shift = space.periodic(box_size)"
   ]
  },
  {
   "cell_type": "code",
   "execution_count": 14,
   "metadata": {
    "id": "eXyYhfFId3WA"
   },
   "outputs": [],
   "source": [
    "R = []\n",
    "for i in range(N_rep):\n",
    "  for j in range(N_rep):\n",
    "    for k in range(N_rep):\n",
    "      R += [[i, j, k]]\n",
    "R = jnp.array(R, dtype=dtype) * lattice_constant"
   ]
  },
  {
   "cell_type": "code",
   "execution_count": 15,
   "metadata": {
    "colab": {
     "base_uri": "https://localhost:8080/"
    },
    "id": "zfogxUl7Rr89",
    "outputId": "1aff7bac-6141-446d-d312-fe9775b080b7"
   },
   "outputs": [
    {
     "name": "stdout",
     "output_type": "stream",
     "text": [
      "Created a system of 8000 LJ particles with number density 0.382\n"
     ]
    }
   ],
   "source": [
    "N = R.shape[0]\n",
    "phi = N / (lattice_constant * N_rep) ** 3\n",
    "print(f'Created a system of {N} LJ particles with number density {phi:.3f}')"
   ]
  },
  {
   "cell_type": "markdown",
   "metadata": {},
   "source": [
    "### NVE routine"
   ]
  },
  {
   "cell_type": "code",
   "execution_count": null,
   "metadata": {},
   "outputs": [],
   "source": [
    "def run_nve(neighbor_fn, energy_or_force_fn):\n",
    "    \n",
    "    def step(i, state_and_nbrs):\n",
    "      state, nbrs = state_and_nbrs\n",
    "      nbrs = neighbor_fn(state.position, nbrs)\n",
    "      return apply(state, neighbor=nbrs), nbrs\n",
    "\n",
    "    init, apply = simulate.nvt_nose_hoover(energy_or_force_fn, shift, 5e-3, kT=1.2)\n",
    "    \n",
    "    key = random.PRNGKey(0)\n",
    "    nbrs = neighbor_fn(R, extra_capacity=55)\n",
    "    state = init(key, R, neighbor=nbrs)\n",
    "\n",
    "    # Run once to make sure the JIT cache is occupied.\n",
    "    new_state, new_nbrs = lax.fori_loop(0, 10000, step, (state, nbrs))\n",
    "    new_state.position.block_until_ready()\n",
    "\n",
    "    start = time.monotonic()\n",
    "\n",
    "    new_state, new_nbrs = lax.fori_loop(0, 10000, step, (state, nbrs))\n",
    "    new_state.position.block_until_ready()\n",
    "\n",
    "    print(\"Elapsed: {} seconds\".format(time.monotonic() - start))"
   ]
  },
  {
   "cell_type": "markdown",
   "metadata": {
    "id": "SReTh0lCRSqT"
   },
   "source": [
    "### Pass energy function"
   ]
  },
  {
   "cell_type": "code",
   "execution_count": null,
   "metadata": {
    "id": "n2oXs5uIeBNo"
   },
   "outputs": [],
   "source": [
    "neighbor_fn, energy_fn = energy.lennard_jones_neighbor_list(displacement,\n",
    "                                                            box_size, \n",
    "                                                            r_cutoff=3.0,\n",
    "                                                            dr_threshold=1.)\n",
    "\n",
    "run_nve(neighbor_fn, energy_fn)"
   ]
  },
  {
   "cell_type": "markdown",
   "metadata": {},
   "source": [
    "### Pass force function\n",
    "- The following functions correctly return interatomic forces.\n",
    "- I was wondering whether the factor's data type might affect performance - it does not."
   ]
  },
  {
   "cell_type": "code",
   "execution_count": null,
   "metadata": {},
   "outputs": [],
   "source": [
    "force_fn_1 = quantity.force(energy_fn)\n",
    "run_nve(neighbor_fn, force_fn_1)"
   ]
  },
  {
   "cell_type": "code",
   "execution_count": null,
   "metadata": {},
   "outputs": [],
   "source": [
    "force_fn_2 = lambda R, **kwargs: -1.0 * grad(energy_fn)(R, **kwargs)\n",
    "run_nve(neighbor_fn, force_fn_2)"
   ]
  },
  {
   "cell_type": "code",
   "execution_count": null,
   "metadata": {},
   "outputs": [],
   "source": [
    "force_fn_3 = lambda R, **kwargs: np.float32(-1.0) * grad(energy_fn)(R, **kwargs)\n",
    "run_nve(neighbor_fn, force_fn_3)"
   ]
  },
  {
   "cell_type": "code",
   "execution_count": null,
   "metadata": {},
   "outputs": [],
   "source": [
    "force_fn_4 = lambda R, **kwargs: jnp.float32(-1.0) * grad(energy_fn)(R, **kwargs)\n",
    "run_nve(neighbor_fn, force_fn_4)"
   ]
  },
  {
   "cell_type": "code",
   "execution_count": null,
   "metadata": {},
   "outputs": [],
   "source": [
    "force_fn_5 = lambda R, **kwargs: util.maybe_downcast(-1.0) * grad(energy_fn)(R, **kwargs)\n",
    "run_nve(neighbor_fn, force_fn_5)"
   ]
  },
  {
   "cell_type": "code",
   "execution_count": null,
   "metadata": {},
   "outputs": [],
   "source": [
    "force_fn_6 = lambda R, **kwargs: np.short(-1) * grad(energy_fn)(R, **kwargs)\n",
    "run_nve(neighbor_fn, force_fn_6)"
   ]
  },
  {
   "cell_type": "markdown",
   "metadata": {},
   "source": [
    "TODO: Sum up"
   ]
  },
  {
   "cell_type": "markdown",
   "metadata": {},
   "source": [
    "### Pass gradient function\n",
    "- This is what I accidentally implemented and made me notice a seemingly decreased runtime.\n",
    "- Obviously, the positive gradient yields incorrect forces.\n",
    "- But a simple multiplication shouldn't affect performance that drastically, should it?\n",
    "- I couldn't find any optimizations within `simulate.velocity_verlet()` that might disregard incorrect forces and cause speed-ups. Could this still be the case?"
   ]
  },
  {
   "cell_type": "code",
   "execution_count": null,
   "metadata": {},
   "outputs": [],
   "source": [
    "grad_fn_1 = grad(energy_fn)\n",
    "run_nve(neighbor_fn, grad_fn_2)"
   ]
  },
  {
   "cell_type": "code",
   "execution_count": null,
   "metadata": {},
   "outputs": [],
   "source": [
    "grad_fn_2 = lambda R, **kwargs: grad(energy_fn)(R, **kwargs)\n",
    "run_nve(neighbor_fn, grad_fn_2)"
   ]
  },
  {
   "cell_type": "markdown",
   "metadata": {},
   "source": [
    "Note: Passing a (positive) grad function but causing the negation by setting LJ sigma < 0 causes the same slowdown."
   ]
  },
  {
   "cell_type": "markdown",
   "metadata": {},
   "source": [
    "### Only applies to NVE simulations\n",
    "\n",
    "- I was wondering whether this is a general JAX phenomenon or related to JAX-MD simulations.\n",
    "- When force and grad functions are compared without running NVE, the effect disappears."
   ]
  },
  {
   "cell_type": "code",
   "execution_count": null,
   "metadata": {},
   "outputs": [],
   "source": [
    "nbrs = neighbor_fn(R)"
   ]
  },
  {
   "cell_type": "code",
   "execution_count": null,
   "metadata": {
    "scrolled": true
   },
   "outputs": [],
   "source": [
    "%timeit force_fn_1(R, neighbor=nbrs)"
   ]
  },
  {
   "cell_type": "code",
   "execution_count": null,
   "metadata": {},
   "outputs": [],
   "source": [
    "%timeit grad_fn_1(R, neighbor=nbrs)"
   ]
  }
 ],
 "metadata": {
  "accelerator": "GPU",
  "colab": {
   "authorship_tag": "ABX9TyNWgORt4htmMjeuK6THiPBX",
   "collapsed_sections": [],
   "include_colab_link": true,
   "name": "LJ Benchmark.ipynb",
   "provenance": []
  },
  "kernelspec": {
   "display_name": "Python 3",
   "language": "python",
   "name": "python3"
  },
  "language_info": {
   "codemirror_mode": {
    "name": "ipython",
    "version": 3
   },
   "file_extension": ".py",
   "mimetype": "text/x-python",
   "name": "python",
   "nbconvert_exporter": "python",
   "pygments_lexer": "ipython3",
   "version": "3.9.1"
  }
 },
 "nbformat": 4,
 "nbformat_minor": 1
}
