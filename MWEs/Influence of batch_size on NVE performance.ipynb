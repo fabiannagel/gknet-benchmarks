{
 "cells": [
  {
   "cell_type": "markdown",
   "id": "abstract-sector",
   "metadata": {},
   "source": [
    "## Influence of `batch_size`\n",
    "- Simulations in JAX-MD are dispatched to XLA to asynchronously run on accelerators.\n",
    "- However, certain cases require that we periodically return to Python to perform other tasks, e.g. checking for\n",
    "  neighbor list overflows or persisting intermediate results.\n",
    "- Let's call the number of MD steps that are dispatched to XLA in one chunk `batch_size`.\n",
    "- `steps = 1000`, `batch_size = 5`\n",
    "  - We perform 1000 MD steps total\n",
    "  - We dispatch these to XLA in chunks of 5 steps at a time:\n",
    "    ```\n",
    "    i = 0\n",
    "    while i < 1000:\n",
    "        state, neighbors = lax.fori_loop(0, 5, step_fn, (state, neighbors))\n",
    "\n",
    "        # do some work: check for NL overflows & recompute\n",
    "        if neighbors.did_buffer_overflow:\n",
    "            neighbors = neighbor_fn(state.position)\n",
    "            continue\n",
    "\n",
    "        i += 5\n",
    "    ```\n",
    "\n",
    "- `batch_size` seems to be a sensible hyperparameter for MD simulations.\n",
    "- Hypothesis: Every context change between XLA and Python is expensive. Thus, batch_size should be a performance-critical hyperparameter.\n",
    "  1. Larger values of `batch_size` should increase performance as it lowers the number of (slow) context switches\n",
    "     between Python and XLA.\n",
    "  2. However, it also implies less frequent checks for neighbor list overflows. This enlarges the amount of time\n",
    "     during which an overflow can go unnoticed, potentially distorting results.\n",
    "\n",
    "The following cells implement a NVE simulation on Lennard-Jones Argon to investigate hypothesis i. We will initialize systems of fixed size while continuously increasing values for `batch_size`.\n",
    "\n",
    "### Some imports"
   ]
  },
  {
   "cell_type": "code",
   "execution_count": 7,
   "id": "excess-partner",
   "metadata": {},
   "outputs": [],
   "source": [
    "import os, sys\n",
    "cwd = os.path.abspath('')\n",
    "root_dir = os.path.dirname(cwd)\n",
    "if not root_dir in sys.path: sys.path.append(root_dir)"
   ]
  },
  {
   "cell_type": "code",
   "execution_count": 8,
   "id": "forced-sarah",
   "metadata": {},
   "outputs": [],
   "source": [
    "import time\n",
    "from typing import List\n",
    "import jax.config\n",
    "import numpy as np\n",
    "from ase import units\n",
    "from jax import jit, lax\n",
    "from jax_md import space, energy, simulate\n",
    "from jax_md.simulate import NVEState\n",
    "jax.config.update(\"jax_enable_x64\", True)\n",
    "\n",
    "import jax_utils\n",
    "from ase.atoms import Atoms\n",
    "from ase.build import bulk\n",
    "from ase.md.velocitydistribution import MaxwellBoltzmannDistribution, Stationary\n",
    "from ase.calculators.lj import LennardJones\n",
    "import matplotlib.pyplot as plt"
   ]
  },
  {
   "cell_type": "markdown",
   "id": "supported-mercury",
   "metadata": {},
   "source": [
    "### Initialization"
   ]
  },
  {
   "cell_type": "code",
   "execution_count": 9,
   "id": "planned-annex",
   "metadata": {},
   "outputs": [
    {
     "name": "stdout",
     "output_type": "stream",
     "text": [
      "Initialized cubic Argon, n = 4000\n"
     ]
    }
   ],
   "source": [
    "def initialize_cubic_argon(multiplier=5, temperature_K: int = 30) -> Atoms:\n",
    "    atoms = bulk(\"Ar\", cubic=True) * [multiplier, multiplier, multiplier]\n",
    "    MaxwellBoltzmannDistribution(atoms, temperature_K=temperature_K)\n",
    "    Stationary(atoms)\n",
    "    atoms.calc = LennardJones(sigma=sigma, epsilon=epsilon, rc=rc, ro=ro, smooth=True)\n",
    "    return atoms\n",
    "\n",
    "sigma = 2.0\n",
    "epsilon = 1.5\n",
    "rc = 10.0\n",
    "ro = 6.0\n",
    "dt = 5 * units.fs\n",
    "\n",
    "atoms = initialize_cubic_argon(multiplier=10)\n",
    "print(\"Initialized cubic Argon, n = {}\".format(len(atoms)))"
   ]
  },
  {
   "cell_type": "markdown",
   "id": "scientific-kruger",
   "metadata": {
    "pycharm": {
     "name": "#%% md\n"
    }
   },
   "source": [
    "### Some helpers for benchmarking & ASE initialization"
   ]
  },
  {
   "cell_type": "code",
   "execution_count": 10,
   "id": "cloudy-midnight",
   "metadata": {
    "pycharm": {
     "name": "#%%\n"
    }
   },
   "outputs": [],
   "source": [
    "def get_initial_nve_state(atoms: Atoms) -> NVEState:\n",
    "    R = atoms.get_positions(wrap=True)\n",
    "    V = atoms.get_velocities()\n",
    "    forces = atoms.get_forces()\n",
    "    masses = atoms.get_masses()[0]\n",
    "    return NVEState(R, V, forces, masses)\n",
    "\n",
    "def get_milliseconds(start_time: float) -> float:\n",
    "    return round((time.monotonic() - start_time) * 1000, 2)\n",
    "\n",
    "def get_mean_step_time(batch_times: List[float], batch_size: int) -> float:\n",
    "    return round(np.mean([bt/batch_size for bt in batch_times]), 2)"
   ]
  },
  {
   "cell_type": "markdown",
   "id": "blind-copyright",
   "metadata": {
    "pycharm": {
     "name": "#%% md\n"
    }
   },
   "source": [
    "### NVE simulation routine"
   ]
  },
  {
   "cell_type": "code",
   "execution_count": 11,
   "id": "comic-quest",
   "metadata": {
    "pycharm": {
     "name": "#%%\n"
    }
   },
   "outputs": [],
   "source": [
    "def run_nve(atoms: Atoms, steps: int, batch_size: int):\n",
    "\n",
    "    @jit\n",
    "    def step_fn(i, state):\n",
    "        state, neighbors = state\n",
    "        neighbors = neighbor_fn(state.position, neighbors)\n",
    "        state = apply_fn(state, neighbor=neighbors)\n",
    "        return state, neighbors\n",
    "\n",
    "    batch_times = []\n",
    "\n",
    "    # setup displacement\n",
    "    box = atoms.get_cell().array\n",
    "    displacement_fn, shift_fn = space.periodic_general(box, fractional_coordinates=False)\n",
    "\n",
    "    # normalize LJ parameters and setup NL energy function\n",
    "    normalized_ro = ro / sigma\n",
    "    normalized_rc = rc / sigma\n",
    "    neighbor_fn, energy_fn = energy.lennard_jones_neighbor_list(displacement_fn, box,\n",
    "                                                                sigma=sigma,\n",
    "                                                                epsilon=epsilon,\n",
    "                                                                r_onset=normalized_ro,\n",
    "                                                                r_cutoff=normalized_rc,\n",
    "                                                                dr_threshold=1 * units.Angstrom)\n",
    "    energy_fn = jit(energy_fn)\n",
    "\n",
    "    # compute initial neighbor list\n",
    "    R = atoms.get_positions(wrap=True)\n",
    "    neighbors = neighbor_fn(R, extra_capacity=100)\n",
    "\n",
    "    # compute initial state & setup NVE\n",
    "    state = get_initial_nve_state(atoms)\n",
    "    _, apply_fn = simulate.nve(energy_fn, shift_fn, dt=dt)\n",
    "\n",
    "    # run MD loop\n",
    "    i = 0\n",
    "    while i < steps:\n",
    "        batch_start_time = time.monotonic()\n",
    "        state, neighbors = lax.fori_loop(0, batch_size, step_fn, (state, neighbors))\n",
    "\n",
    "        if neighbors.did_buffer_overflow:\n",
    "            neighbors = neighbor_fn(state.position)\n",
    "            print(\"Steps {}/{}: Neighbor list overflow, recomputing...\".format(i, steps))\n",
    "            continue\n",
    "\n",
    "        batch_times += [get_milliseconds(batch_start_time)]\n",
    "        i += batch_size\n",
    "\n",
    "    return get_mean_step_time(batch_times, batch_size)"
   ]
  },
  {
   "cell_type": "markdown",
   "id": "descending-electric",
   "metadata": {
    "pycharm": {
     "name": "#%% md\n"
    }
   },
   "source": [
    "### Actual benchmark\n",
    "\n",
    "Let's run NVE simulations with `steps = 5000` and different `batch_sizes = [100, 200, 300, 400, 500, 600, 700, 800, 900, 1000]`."
   ]
  },
  {
   "cell_type": "code",
   "execution_count": 12,
   "id": "ancient-reverse",
   "metadata": {
    "pycharm": {
     "name": "#%%\n"
    }
   },
   "outputs": [
    {
     "name": "stdout",
     "output_type": "stream",
     "text": [
      "n = 4000  \t\t batch_size = 100  \t\t average ms/step = 33.21\n",
      "n = 4000  \t\t batch_size = 200  \t\t average ms/step = 33.2\n",
      "n = 4000  \t\t batch_size = 300  \t\t average ms/step = 33.21\n",
      "n = 4000  \t\t batch_size = 400  \t\t average ms/step = 33.24\n",
      "n = 4000  \t\t batch_size = 500  \t\t average ms/step = 33.2\n",
      "n = 4000  \t\t batch_size = 600  \t\t average ms/step = 33.23\n",
      "n = 4000  \t\t batch_size = 700  \t\t average ms/step = 33.21\n",
      "Steps 4800/5000: Neighbor list overflow, recomputing...\n",
      "n = 4000  \t\t batch_size = 800  \t\t average ms/step = 33.39\n",
      "n = 4000  \t\t batch_size = 900  \t\t average ms/step = 33.22\n",
      "n = 4000  \t\t batch_size = 1000 \t\t average ms/step = 33.22\n",
      "Steps 4400/5000: Neighbor list overflow, recomputing...\n",
      "n = 4000  \t\t batch_size = 1100 \t\t average ms/step = 33.5\n",
      "n = 4000  \t\t batch_size = 1200 \t\t average ms/step = 33.22\n",
      "n = 4000  \t\t batch_size = 1300 \t\t average ms/step = 33.24\n",
      "n = 4000  \t\t batch_size = 1400 \t\t average ms/step = 33.23\n",
      "n = 4000  \t\t batch_size = 1500 \t\t average ms/step = 33.23\n",
      "n = 4000  \t\t batch_size = 1600 \t\t average ms/step = 33.23\n",
      "n = 4000  \t\t batch_size = 1700 \t\t average ms/step = 33.21\n",
      "n = 4000  \t\t batch_size = 1800 \t\t average ms/step = 33.24\n",
      "n = 4000  \t\t batch_size = 1900 \t\t average ms/step = 33.23\n",
      "n = 4000  \t\t batch_size = 2000 \t\t average ms/step = 33.24\n"
     ]
    }
   ],
   "source": [
    "batch_sizes = list(range(100, 2100, 100))\n",
    "step_times = []\n",
    "\n",
    "for bs in batch_sizes:\n",
    "    atoms = initialize_cubic_argon(multiplier=10)\n",
    "\n",
    "    mean_step_time = run_nve(atoms, steps=5000, batch_size=bs)\n",
    "    step_times += [mean_step_time]\n",
    "    print(\"n = {:<5} \\t\\t batch_size = {:<4} \\t\\t average ms/step = {}\".format(len(atoms), bs, mean_step_time))"
   ]
  },
  {
   "cell_type": "markdown",
   "id": "hindu-indonesian",
   "metadata": {
    "pycharm": {
     "name": "#%% md\n"
    }
   },
   "source": [
    "### Results"
   ]
  },
  {
   "cell_type": "code",
   "execution_count": 17,
   "id": "coordinated-eligibility",
   "metadata": {},
   "outputs": [
    {
     "data": {
      "text/plain": [
       "[<matplotlib.lines.Line2D at 0x7fd3ec5138e0>]"
      ]
     },
     "execution_count": 17,
     "metadata": {},
     "output_type": "execute_result"
    },
    {
     "data": {
      "image/png": "[encoded data removed]",
      "text/plain": [
       "<Figure size 1440x720 with 1 Axes>"
      ]
     },
     "metadata": {
      "needs_background": "light"
     },
     "output_type": "display_data"
    }
   ],
   "source": [
    "plt.figure(figsize=(20, 10))\n",
    "plt.title(\"Runtime per NVE step for increasing batch sizes. 5000 MD steps total.\")\n",
    "plt.xlabel(\"XLA batch size\")\n",
    "plt.ylabel(\"Runtime per step [ms]\")\n",
    "plt.plot(batch_sizes, step_times)"
   ]
  },
  {
   "cell_type": "markdown",
   "id": "anticipated-democrat",
   "metadata": {
    "pycharm": {
     "name": "#%%\n"
    }
   },
   "source": [
    "- The average runtime per step seems to be largely unaffected by the value of `batch_size`.\n",
    "- Why is this?"
   ]
  }
 ],
 "metadata": {
  "kernelspec": {
   "display_name": "gknet-benchmarks",
   "language": "python",
   "name": "gknet-benchmarks"
  }
 },
 "nbformat": 4,
 "nbformat_minor": 5
}
