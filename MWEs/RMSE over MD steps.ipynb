{
 "cells": [
  {
   "cell_type": "code",
   "execution_count": 1,
   "id": "excess-partner",
   "metadata": {},
   "outputs": [],
   "source": [
    "import os, sys\n",
    "cwd = os.path.abspath('')\n",
    "root_dir = os.path.dirname(cwd)\n",
    "if not root_dir in sys.path: sys.path.append(root_dir)"
   ]
  },
  {
   "cell_type": "code",
   "execution_count": 2,
   "id": "forced-sarah",
   "metadata": {},
   "outputs": [],
   "source": [
    "import time\n",
    "from typing import List\n",
    "import jax.config\n",
    "import jax.numpy as jnp\n",
    "import numpy as np\n",
    "from ase import units\n",
    "from jax import jit, lax\n",
    "from jax_md import space, energy, simulate\n",
    "from jax_md.simulate import NVEState\n",
    "jax.config.update(\"jax_enable_x64\", True)\n",
    "\n",
    "import jax_utils\n",
    "from ase.atoms import Atoms\n",
    "from ase.build import bulk\n",
    "from ase.md.velocitydistribution import MaxwellBoltzmannDistribution, Stationary\n",
    "from ase.calculators.lj import LennardJones\n",
    "from ase.md import VelocityVerlet\n",
    "import matplotlib.pyplot as plt\n",
    "from sklearn.metrics import mean_squared_error\n",
    "from math import sqrt\n",
    "\n",
    "def rmse(actual, expected):\n",
    "    return sqrt(mean_squared_error(actual, expected))"
   ]
  },
  {
   "cell_type": "markdown",
   "id": "structured-silver",
   "metadata": {},
   "source": [
    "### Initialization"
   ]
  },
  {
   "cell_type": "code",
   "execution_count": 3,
   "id": "planned-annex",
   "metadata": {},
   "outputs": [],
   "source": [
    "def initialize_cubic_argon(multiplier=5, sigma=3.40, epsilon=0.01042, rc=10.54, ro=6.0, temperature_K=30) -> Atoms:\n",
    "    atoms = bulk(\"Ar\", cubic=True) * [multiplier, multiplier, multiplier]\n",
    "    MaxwellBoltzmannDistribution(atoms, temperature_K=temperature_K)\n",
    "    Stationary(atoms)\n",
    "    atoms.calc = LennardJones(sigma=sigma, epsilon=epsilon, rc=rc, ro=ro, smooth=True)\n",
    "    return atoms\n",
    "\n",
    "sigma = 3.40\n",
    "epsilon = 0.01042\n",
    "ro = 6.0\n",
    "rc = 10.54\n",
    "dt = 5 * units.fs"
   ]
  },
  {
   "cell_type": "markdown",
   "id": "nearby-classification",
   "metadata": {},
   "source": [
    "### ASE NVE"
   ]
  },
  {
   "cell_type": "code",
   "execution_count": 4,
   "id": "built-procedure",
   "metadata": {},
   "outputs": [],
   "source": [
    "def run_ase_nve(atoms: Atoms, steps: int, batch_size: int):\n",
    "    positions = []\n",
    "    i = 0\n",
    "\n",
    "    dyn = VelocityVerlet(atoms, timestep=dt)\n",
    "    \n",
    "    while i < steps:\n",
    "            i += batch_size\n",
    "\n",
    "            dyn.run(batch_size)\n",
    "            positions += [atoms.get_positions(wrap=True)]\n",
    "            \n",
    "    return np.array(positions)"
   ]
  },
  {
   "cell_type": "markdown",
   "id": "blind-copyright",
   "metadata": {
    "pycharm": {
     "name": "#%% md\n"
    }
   },
   "source": [
    "### JAX-MD NVE"
   ]
  },
  {
   "cell_type": "code",
   "execution_count": 12,
   "id": "comic-quest",
   "metadata": {
    "pycharm": {
     "name": "#%%\n"
    }
   },
   "outputs": [],
   "source": [
    "def get_initial_nve_state(atoms: Atoms) -> NVEState:\n",
    "    R = jnp.float32(atoms.get_positions(wrap=True))\n",
    "    V = jnp.float32(atoms.get_velocities())\n",
    "    forces = jnp.float32(atoms.get_forces())\n",
    "    masses = jnp.float32(atoms.get_masses()[0])\n",
    "    return NVEState(R, V, forces, masses)\n",
    "\n",
    "def run_nve(atoms: Atoms, steps: int, batch_size: int):\n",
    "\n",
    "    def step_fn(i, state):\n",
    "        state, neighbors = state\n",
    "        neighbors = neighbor_fn(state.position, neighbors)\n",
    "        state = apply_fn(state, neighbor=neighbors)\n",
    "        return state, neighbors\n",
    "\n",
    "    batch_times = []\n",
    "    positions = []\n",
    "\n",
    "    # setup displacement\n",
    "    box = jnp.float32(atoms.get_cell().array)\n",
    "    displacement_fn, shift_fn = space.periodic_general(box, fractional_coordinates=False)\n",
    "\n",
    "    # normalize LJ parameters and setup NL energy function\n",
    "    normalized_ro = ro / sigma\n",
    "    normalized_rc = rc / sigma\n",
    "    neighbor_fn, energy_fn = energy.lennard_jones_neighbor_list(displacement_fn, box,\n",
    "                                                                sigma=sigma,\n",
    "                                                                epsilon=epsilon,\n",
    "                                                                r_onset=normalized_ro,\n",
    "                                                                r_cutoff=normalized_rc,\n",
    "                                                                dr_threshold=1 * units.Angstrom)\n",
    "\n",
    "    # compute initial neighbor list\n",
    "    R = jnp.float32(atoms.get_positions(wrap=True))\n",
    "    neighbors = neighbor_fn(R, extra_capacity=100)\n",
    "\n",
    "    # compute initial state & setup NVE\n",
    "    state = get_initial_nve_state(atoms)\n",
    "    _, apply_fn = simulate.nve(energy_fn, shift_fn, dt=dt)\n",
    "\n",
    "    # run MD loop\n",
    "    i = 0\n",
    "    while i < steps:\n",
    "        state, neighbors = lax.fori_loop(0, batch_size, step_fn, (state, neighbors))\n",
    "\n",
    "        if neighbors.did_buffer_overflow:\n",
    "            neighbors = neighbor_fn(state.position)\n",
    "            print(\"Steps {}/{}: Neighbor list overflow, recomputing...\".format(i, steps))\n",
    "            continue    \n",
    "            \n",
    "        state.position.block_until_ready()            \n",
    "        positions += [state.position]\n",
    "        i += batch_size\n",
    "\n",
    "    return np.array(positions)"
   ]
  },
  {
   "cell_type": "code",
   "execution_count": 6,
   "id": "associate-kinase",
   "metadata": {},
   "outputs": [],
   "source": [
    "from asax.lj import LennardJones as asaxLennardJones\n",
    "\n",
    "def run_asax_nve(atoms: Atoms, steps: int, batch_size: int):\n",
    "    positions = []\n",
    "    i = 0\n",
    "    \n",
    "    atoms.calc = asaxLennardJones(epsilon, sigma, rc, ro, stress=False, dr_threshold=1 * units.Angstrom)\n",
    "    dyn = VelocityVerlet(atoms, timestep=dt)\n",
    "    \n",
    "    while i < steps:\n",
    "            i += batch_size\n",
    "\n",
    "            dyn.run(batch_size)\n",
    "            positions += [atoms.get_positions(wrap=True)]\n",
    "            \n",
    "    return np.array(positions)"
   ]
  },
  {
   "cell_type": "code",
   "execution_count": 7,
   "id": "subsequent-directory",
   "metadata": {},
   "outputs": [],
   "source": [
    "def plot_rmse(steps: int, positions_1, positions_2):\n",
    "    x = list(range(1, steps + 1, 1))\n",
    "    y = [rmse(pos1, pos2) for pos1, pos2 in zip(positions_1, positions_2)]\n",
    "    plt.plot(x, y)"
   ]
  },
  {
   "cell_type": "markdown",
   "id": "abandoned-minutes",
   "metadata": {},
   "source": [
    "## RMSE between two ASE simulations"
   ]
  },
  {
   "cell_type": "code",
   "execution_count": 8,
   "id": "everyday-wichita",
   "metadata": {},
   "outputs": [
    {
     "name": "stdout",
     "output_type": "stream",
     "text": [
      "NaN values:\n",
      "False\n",
      "False\n"
     ]
    },
    {
     "data": {
      "image/png": "[encoded data removed]",
      "text/plain": [
       "<Figure size 432x288 with 1 Axes>"
      ]
     },
     "metadata": {
      "needs_background": "light"
     },
     "output_type": "display_data"
    }
   ],
   "source": [
    "steps = 1000\n",
    "batch_size = 1\n",
    "\n",
    "atoms_1 = initialize_cubic_argon(multiplier=8)\n",
    "atoms_2 = initialize_cubic_argon(multiplier=8)\n",
    "\n",
    "if not np.array_equal(atoms_1.get_positions(), atoms_2.get_positions()):\n",
    "    raise RuntimeError\n",
    "\n",
    "ase_positions_1 = run_ase_nve(atoms_1, steps, batch_size)\n",
    "ase_positions_2 = run_ase_nve(atoms_2, steps, batch_size)\n",
    "\n",
    "if np.array_equal(atoms_1.get_positions(), atoms_2.get_positions()):\n",
    "    raise RuntimeError\n",
    "    \n",
    "print(\"NaN values:\")\n",
    "print(np.isnan(ase_positions_1).all())\n",
    "print(np.isnan(ase_positions_2).all())\n",
    "\n",
    "plot_rmse(steps, ase_positions_1, ase_positions_2)"
   ]
  },
  {
   "cell_type": "markdown",
   "id": "continuous-heritage",
   "metadata": {},
   "source": [
    "### ASE vs. JAX-MD"
   ]
  },
  {
   "cell_type": "code",
   "execution_count": 13,
   "id": "ancient-reverse",
   "metadata": {
    "pycharm": {
     "name": "#%%\n"
    }
   },
   "outputs": [
    {
     "name": "stdout",
     "output_type": "stream",
     "text": [
      "NaN values:\n",
      "False\n",
      "False\n"
     ]
    },
    {
     "data": {
      "image/png": "[encoded data removed]",
      "text/plain": [
       "<Figure size 432x288 with 1 Axes>"
      ]
     },
     "metadata": {
      "needs_background": "light"
     },
     "output_type": "display_data"
    }
   ],
   "source": [
    "steps = 1000\n",
    "batch_size = 1\n",
    "\n",
    "ase_atoms = initialize_cubic_argon(multiplier=8)\n",
    "jax_atoms = initialize_cubic_argon(multiplier=8)\n",
    "\n",
    "if not np.array_equal(ase_atoms.get_positions(), jax_atoms.get_positions()):\n",
    "    raise RuntimeError\n",
    "\n",
    "ase_positions = run_ase_nve(ase_atoms, steps, batch_size)\n",
    "jax_positions = run_nve(jax_atoms, steps, batch_size)\n",
    "\n",
    "if np.array_equal(ase_atoms.get_positions(), jax_atoms.get_positions()):\n",
    "    raise RuntimeError\n",
    "\n",
    "print(\"NaN values:\")\n",
    "print(np.isnan(ase_positions).all())\n",
    "print(np.isnan(jax_positions).all())\n",
    "    \n",
    "plot_rmse(steps, ase_positions, jax_positions)"
   ]
  },
  {
   "cell_type": "markdown",
   "id": "commercial-teach",
   "metadata": {},
   "source": [
    "### ASE vs. ASAX"
   ]
  },
  {
   "cell_type": "code",
   "execution_count": 14,
   "id": "consecutive-edinburgh",
   "metadata": {},
   "outputs": [
    {
     "name": "stdout",
     "output_type": "stream",
     "text": [
      "NaN values:\n",
      "False\n",
      "False\n"
     ]
    },
    {
     "data": {
      "image/png": "[encoded data removed]",
      "text/plain": [
       "<Figure size 432x288 with 1 Axes>"
      ]
     },
     "metadata": {
      "needs_background": "light"
     },
     "output_type": "display_data"
    }
   ],
   "source": [
    "steps = 1000\n",
    "batch_size = 1\n",
    "\n",
    "ase_atoms = initialize_cubic_argon(multiplier=8)\n",
    "asax_atoms = initialize_cubic_argon(multiplier=8)\n",
    "\n",
    "if not np.array_equal(ase_atoms.get_positions(), asax_atoms.get_positions()):\n",
    "    raise RuntimeError\n",
    "\n",
    "ase_positions = run_ase_nve(ase_atoms, steps, batch_size)\n",
    "asax_positions = run_asax_nve(jax_atoms, steps, batch_size)\n",
    "\n",
    "if np.array_equal(ase_atoms.get_positions(), asax_atoms.get_positions()):\n",
    "    raise RuntimeError\n",
    "\n",
    "print(\"NaN values:\")\n",
    "print(np.isnan(ase_positions).all())\n",
    "print(np.isnan(asax_positions).all())\n",
    "\n",
    "plot_rmse(steps, ase_positions, asax_positions)"
   ]
  },
  {
   "cell_type": "code",
   "execution_count": null,
   "id": "determined-release",
   "metadata": {},
   "outputs": [],
   "source": [
    "# TODO: check total energy, kinetic energy, energy conservation"
   ]
  }
 ],
 "metadata": {
  "kernelspec": {
   "display_name": "gknet-benchmarks",
   "language": "python",
   "name": "gknet-benchmarks"
  },
  "language_info": {
   "codemirror_mode": {
    "name": "ipython",
    "version": 3
   },
   "file_extension": ".py",
   "mimetype": "text/x-python",
   "name": "python",
   "nbconvert_exporter": "python",
   "pygments_lexer": "ipython3",
   "version": "3.9.1"
  }
 },
 "nbformat": 4,
 "nbformat_minor": 5
}
